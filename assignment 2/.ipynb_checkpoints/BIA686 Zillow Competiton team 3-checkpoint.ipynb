{
 "cells": [
  {
   "cell_type": "code",
   "execution_count": 1,
   "metadata": {
    "collapsed": true
   },
   "outputs": [],
   "source": [
    "import pandas as pd\n",
    "import numpy as np\n",
    "import seaborn as sns\n",
    "import matplotlib.pyplot as plt\n",
    "%matplotlib inline\n",
    "\n",
    "import missingno as mn\n",
    "import time\n",
    "from datetime import date"
   ]
  },
  {
   "cell_type": "code",
   "execution_count": 2,
   "metadata": {},
   "outputs": [
    {
     "data": {
      "text/html": [
       "<div>\n",
       "<table border=\"1\" class=\"dataframe\">\n",
       "  <thead>\n",
       "    <tr style=\"text-align: right;\">\n",
       "      <th></th>\n",
       "      <th>parcelid</th>\n",
       "      <th>logerror</th>\n",
       "      <th>transactiondate</th>\n",
       "    </tr>\n",
       "  </thead>\n",
       "  <tbody>\n",
       "    <tr>\n",
       "      <th>0</th>\n",
       "      <td>11016594</td>\n",
       "      <td>0.0276</td>\n",
       "      <td>2016-01-01</td>\n",
       "    </tr>\n",
       "    <tr>\n",
       "      <th>1</th>\n",
       "      <td>14366692</td>\n",
       "      <td>-0.1684</td>\n",
       "      <td>2016-01-01</td>\n",
       "    </tr>\n",
       "    <tr>\n",
       "      <th>2</th>\n",
       "      <td>12098116</td>\n",
       "      <td>-0.0040</td>\n",
       "      <td>2016-01-01</td>\n",
       "    </tr>\n",
       "    <tr>\n",
       "      <th>3</th>\n",
       "      <td>12643413</td>\n",
       "      <td>0.0218</td>\n",
       "      <td>2016-01-02</td>\n",
       "    </tr>\n",
       "    <tr>\n",
       "      <th>4</th>\n",
       "      <td>14432541</td>\n",
       "      <td>-0.0050</td>\n",
       "      <td>2016-01-02</td>\n",
       "    </tr>\n",
       "  </tbody>\n",
       "</table>\n",
       "</div>"
      ],
      "text/plain": [
       "   parcelid  logerror transactiondate\n",
       "0  11016594    0.0276      2016-01-01\n",
       "1  14366692   -0.1684      2016-01-01\n",
       "2  12098116   -0.0040      2016-01-01\n",
       "3  12643413    0.0218      2016-01-02\n",
       "4  14432541   -0.0050      2016-01-02"
      ]
     },
     "execution_count": 2,
     "metadata": {},
     "output_type": "execute_result"
    }
   ],
   "source": [
    "train_2016=pd.read_csv('/Users/claire-lwz/Desktop/semester 3/686/Kaggle competition/train_2016_v2.csv')\n",
    "train_2016.head()"
   ]
  },
  {
   "cell_type": "code",
   "execution_count": 3,
   "metadata": {},
   "outputs": [
    {
     "data": {
      "text/plain": [
       "logerror    False\n",
       "dtype: bool"
      ]
     },
     "execution_count": 3,
     "metadata": {},
     "output_type": "execute_result"
    }
   ],
   "source": [
    "#check missing value\n",
    "logerror=pd.DataFrame(train_2016['logerror'])\n",
    "logerror.isnull().any()"
   ]
  },
  {
   "cell_type": "code",
   "execution_count": 4,
   "metadata": {
    "scrolled": true
   },
   "outputs": [
    {
     "data": {
      "text/html": [
       "<div>\n",
       "<table border=\"1\" class=\"dataframe\">\n",
       "  <thead>\n",
       "    <tr style=\"text-align: right;\">\n",
       "      <th></th>\n",
       "      <th>logerror</th>\n",
       "    </tr>\n",
       "  </thead>\n",
       "  <tbody>\n",
       "    <tr>\n",
       "      <th>count</th>\n",
       "      <td>90275.000000</td>\n",
       "    </tr>\n",
       "    <tr>\n",
       "      <th>mean</th>\n",
       "      <td>0.011457</td>\n",
       "    </tr>\n",
       "    <tr>\n",
       "      <th>std</th>\n",
       "      <td>0.161079</td>\n",
       "    </tr>\n",
       "    <tr>\n",
       "      <th>min</th>\n",
       "      <td>-4.605000</td>\n",
       "    </tr>\n",
       "    <tr>\n",
       "      <th>25%</th>\n",
       "      <td>-0.025300</td>\n",
       "    </tr>\n",
       "    <tr>\n",
       "      <th>50%</th>\n",
       "      <td>0.006000</td>\n",
       "    </tr>\n",
       "    <tr>\n",
       "      <th>75%</th>\n",
       "      <td>0.039200</td>\n",
       "    </tr>\n",
       "    <tr>\n",
       "      <th>max</th>\n",
       "      <td>4.737000</td>\n",
       "    </tr>\n",
       "  </tbody>\n",
       "</table>\n",
       "</div>"
      ],
      "text/plain": [
       "           logerror\n",
       "count  90275.000000\n",
       "mean       0.011457\n",
       "std        0.161079\n",
       "min       -4.605000\n",
       "25%       -0.025300\n",
       "50%        0.006000\n",
       "75%        0.039200\n",
       "max        4.737000"
      ]
     },
     "execution_count": 4,
     "metadata": {},
     "output_type": "execute_result"
    }
   ],
   "source": [
    "# statistical overview of target variable\n",
    "logerror.describe()"
   ]
  },
  {
   "cell_type": "code",
   "execution_count": 5,
   "metadata": {},
   "outputs": [
    {
     "data": {
      "text/plain": [
       "<seaborn.axisgrid.FacetGrid at 0x116fc90b8>"
      ]
     },
     "execution_count": 5,
     "metadata": {},
     "output_type": "execute_result"
    },
    {
     "data": {
      "image/png": "[encoded data removed]",
      "text/plain": [
       "<matplotlib.figure.Figure at 0x116fc9240>"
      ]
     },
     "metadata": {},
     "output_type": "display_data"
    }
   ],
   "source": [
    "#box plot\n",
    "box=sns.FacetGrid(logerror)\n",
    "box.map(sns.boxplot,'logerror')"
   ]
  },
  {
   "cell_type": "markdown",
   "metadata": {},
   "source": [
    "Outliers exist in two tails."
   ]
  },
  {
   "cell_type": "code",
   "execution_count": 6,
   "metadata": {
    "scrolled": true
   },
   "outputs": [
    {
     "name": "stdout",
     "output_type": "stream",
     "text": [
      "If logerror value beyonds -0.12205 to 0.13595, it is an outlier.\n"
     ]
    }
   ],
   "source": [
    "#using IQR method deal with outliers\n",
    "q1,q2,q3 = np.percentile(logerror,(25,50,75))\n",
    "IQR=q3-q1\n",
    "low=q1-1.5*IQR\n",
    "high=q3+1.5*IQR\n",
    "print('If logerror value beyonds '+str(low)+' to '+str(high)+', it is an outlier.')"
   ]
  },
  {
   "cell_type": "code",
   "execution_count": 7,
   "metadata": {},
   "outputs": [],
   "source": [
    "logerror=list(train_2016['logerror'])"
   ]
  },
  {
   "cell_type": "code",
   "execution_count": 8,
   "metadata": {
    "scrolled": true
   },
   "outputs": [],
   "source": [
    "#remove outliers\n",
    "logerror=[x for x in logerror if low<x<high]"
   ]
  },
  {
   "cell_type": "code",
   "execution_count": 9,
   "metadata": {
    "scrolled": true
   },
   "outputs": [
    {
     "data": {
      "text/html": [
       "<div>\n",
       "<table border=\"1\" class=\"dataframe\">\n",
       "  <thead>\n",
       "    <tr style=\"text-align: right;\">\n",
       "      <th></th>\n",
       "      <th>0</th>\n",
       "    </tr>\n",
       "  </thead>\n",
       "  <tbody>\n",
       "    <tr>\n",
       "      <th>count</th>\n",
       "      <td>79697.000000</td>\n",
       "    </tr>\n",
       "    <tr>\n",
       "      <th>mean</th>\n",
       "      <td>0.005587</td>\n",
       "    </tr>\n",
       "    <tr>\n",
       "      <th>std</th>\n",
       "      <td>0.046684</td>\n",
       "    </tr>\n",
       "    <tr>\n",
       "      <th>min</th>\n",
       "      <td>-0.121000</td>\n",
       "    </tr>\n",
       "    <tr>\n",
       "      <th>25%</th>\n",
       "      <td>-0.021200</td>\n",
       "    </tr>\n",
       "    <tr>\n",
       "      <th>50%</th>\n",
       "      <td>0.005000</td>\n",
       "    </tr>\n",
       "    <tr>\n",
       "      <th>75%</th>\n",
       "      <td>0.032500</td>\n",
       "    </tr>\n",
       "    <tr>\n",
       "      <th>max</th>\n",
       "      <td>0.135400</td>\n",
       "    </tr>\n",
       "  </tbody>\n",
       "</table>\n",
       "</div>"
      ],
      "text/plain": [
       "                  0\n",
       "count  79697.000000\n",
       "mean       0.005587\n",
       "std        0.046684\n",
       "min       -0.121000\n",
       "25%       -0.021200\n",
       "50%        0.005000\n",
       "75%        0.032500\n",
       "max        0.135400"
      ]
     },
     "execution_count": 9,
     "metadata": {},
     "output_type": "execute_result"
    }
   ],
   "source": [
    "logerror=pd.DataFrame(logerror)\n",
    "logerror.describe()"
   ]
  },
  {
   "cell_type": "code",
   "execution_count": 10,
   "metadata": {},
   "outputs": [
    {
     "data": {
      "text/plain": [
       "0    False\n",
       "dtype: bool"
      ]
     },
     "execution_count": 10,
     "metadata": {},
     "output_type": "execute_result"
    }
   ],
   "source": [
    "logerror.isnull().any()"
   ]
  },
  {
   "cell_type": "code",
   "execution_count": 11,
   "metadata": {},
   "outputs": [
    {
     "name": "stderr",
     "output_type": "stream",
     "text": [
      "/Users/claire-lwz/anaconda/lib/python3.5/site-packages/statsmodels/nonparametric/kdetools.py:20: VisibleDeprecationWarning: using a non-integer number instead of an integer will result in an error in the future\n",
      "  y = X[:m/2+1] + np.r_[0,X[m/2+1:],0]*1j\n"
     ]
    },
    {
     "data": {
      "text/plain": [
       "<matplotlib.axes._subplots.AxesSubplot at 0x11b060ac8>"
      ]
     },
     "execution_count": 11,
     "metadata": {},
     "output_type": "execute_result"
    },
    {
     "data": {
      "image/png": "[encoded data removed]",
      "text/plain": [
       "<matplotlib.figure.Figure at 0x116f80e80>"
      ]
     },
     "metadata": {},
     "output_type": "display_data"
    }
   ],
   "source": [
    "#histogram\n",
    "sns.distplot(logerror,hist=True)"
   ]
  },
  {
   "cell_type": "markdown",
   "metadata": {},
   "source": [
    "It looks like that Logerror follows normal distribution."
   ]
  },
  {
   "cell_type": "code",
   "execution_count": 12,
   "metadata": {
    "scrolled": true
   },
   "outputs": [
    {
     "data": {
      "text/html": [
       "<div>\n",
       "<table border=\"1\" class=\"dataframe\">\n",
       "  <thead>\n",
       "    <tr style=\"text-align: right;\">\n",
       "      <th></th>\n",
       "      <th>index</th>\n",
       "      <th>parcelid</th>\n",
       "    </tr>\n",
       "  </thead>\n",
       "  <tbody>\n",
       "    <tr>\n",
       "      <th>0</th>\n",
       "      <td>11842707</td>\n",
       "      <td>3</td>\n",
       "    </tr>\n",
       "    <tr>\n",
       "      <th>1</th>\n",
       "      <td>12613442</td>\n",
       "      <td>2</td>\n",
       "    </tr>\n",
       "    <tr>\n",
       "      <th>2</th>\n",
       "      <td>12032773</td>\n",
       "      <td>2</td>\n",
       "    </tr>\n",
       "    <tr>\n",
       "      <th>3</th>\n",
       "      <td>11729067</td>\n",
       "      <td>2</td>\n",
       "    </tr>\n",
       "    <tr>\n",
       "      <th>4</th>\n",
       "      <td>11845988</td>\n",
       "      <td>2</td>\n",
       "    </tr>\n",
       "  </tbody>\n",
       "</table>\n",
       "</div>"
      ],
      "text/plain": [
       "      index  parcelid\n",
       "0  11842707         3\n",
       "1  12613442         2\n",
       "2  12032773         2\n",
       "3  11729067         2\n",
       "4  11845988         2"
      ]
     },
     "execution_count": 12,
     "metadata": {},
     "output_type": "execute_result"
    }
   ],
   "source": [
    "#parcelid\n",
    "parcelid=train_2016['parcelid']\n",
    "parcelid=parcelid.value_counts().reset_index()\n",
    "parcelid.head()"
   ]
  },
  {
   "cell_type": "code",
   "execution_count": 13,
   "metadata": {},
   "outputs": [
    {
     "data": {
      "text/plain": [
       "1    90026\n",
       "2      123\n",
       "3        1\n",
       "Name: parcelid, dtype: int64"
      ]
     },
     "execution_count": 13,
     "metadata": {},
     "output_type": "execute_result"
    }
   ],
   "source": [
    "parcelid['parcelid'].value_counts()"
   ]
  },
  {
   "cell_type": "markdown",
   "metadata": {},
   "source": [
    "This result shows that only one paicel id was used for 3 times, the majority ids were used for only once."
   ]
  },
  {
   "cell_type": "code",
   "execution_count": 14,
   "metadata": {
    "scrolled": true
   },
   "outputs": [
    {
     "data": {
      "text/plain": [
       "0    1\n",
       "1    1\n",
       "2    1\n",
       "3    1\n",
       "4    1\n",
       "Name: transactiondate, dtype: int64"
      ]
     },
     "execution_count": 14,
     "metadata": {},
     "output_type": "execute_result"
    }
   ],
   "source": [
    "#transaction date\n",
    "transaction_date=pd.to_datetime(train_2016['transactiondate'])\n",
    "month=transaction_date.dt.month\n",
    "month.head()"
   ]
  },
  {
   "cell_type": "code",
   "execution_count": 15,
   "metadata": {},
   "outputs": [
    {
     "data": {
      "text/plain": [
       "<matplotlib.axes._subplots.AxesSubplot at 0x118094e10>"
      ]
     },
     "execution_count": 15,
     "metadata": {},
     "output_type": "execute_result"
    },
    {
     "data": {
      "image/png": "[encoded data removed]",
      "text/plain": [
       "<matplotlib.figure.Figure at 0x1041609e8>"
      ]
     },
     "metadata": {},
     "output_type": "display_data"
    }
   ],
   "source": [
    "month_freq=month.value_counts()\n",
    "sns.barplot(month_freq.index, month_freq.values, alpha=0.8)"
   ]
  },
  {
   "cell_type": "markdown",
   "metadata": {},
   "source": [
    "1. According to the data description, we have  all the transactions before October 15, 2016, plus some of the transactions after October 15, 2016, which make sense that the transaction numbers are kind of low from October to December. \n",
    "2. Ans from this figure, transaction numbers increased from start of this year and reached the highest in June, then kept in a stable transaction amount.\n",
    "3. Because we don't have all transaction data from October, so we can't get the transaction trend adter September."
   ]
  },
  {
   "cell_type": "code",
   "execution_count": 16,
   "metadata": {
    "scrolled": true
   },
   "outputs": [
    {
     "data": {
      "text/plain": [
       "<matplotlib.axes._subplots.AxesSubplot at 0x11b045908>"
      ]
     },
     "execution_count": 16,
     "metadata": {},
     "output_type": "execute_result"
    },
    {
     "data": {
      "image/png": "[encoded data removed]",
      "text/plain": [
       "<matplotlib.figure.Figure at 0x11af6bdd8>"
      ]
     },
     "metadata": {},
     "output_type": "display_data"
    }
   ],
   "source": [
    "day=transaction_date.dt.day\n",
    "day_freq=day.value_counts()\n",
    "sns.barplot(day_freq.index,day_freq.values,alpha=0.8)"
   ]
  },
  {
   "cell_type": "markdown",
   "metadata": {},
   "source": [
    "Seen from this figure, day is not a significant factor that affects transaction amount."
   ]
  },
  {
   "cell_type": "code",
   "execution_count": null,
   "metadata": {
    "collapsed": true
   },
   "outputs": [],
   "source": []
  },
  {
   "cell_type": "code",
   "execution_count": 17,
   "metadata": {},
   "outputs": [
    {
     "name": "stderr",
     "output_type": "stream",
     "text": [
      "/Users/claire-lwz/anaconda/lib/python3.5/site-packages/IPython/core/interactiveshell.py:2723: DtypeWarning: Columns (22,32,34,49,55) have mixed types. Specify dtype option on import or set low_memory=False.\n",
      "  interactivity=interactivity, compiler=compiler, result=result)\n"
     ]
    },
    {
     "data": {
      "text/html": [
       "<div>\n",
       "<table border=\"1\" class=\"dataframe\">\n",
       "  <thead>\n",
       "    <tr style=\"text-align: right;\">\n",
       "      <th></th>\n",
       "      <th>parcelid</th>\n",
       "      <th>airconditioningtypeid</th>\n",
       "      <th>architecturalstyletypeid</th>\n",
       "      <th>basementsqft</th>\n",
       "      <th>bathroomcnt</th>\n",
       "      <th>bedroomcnt</th>\n",
       "      <th>buildingclasstypeid</th>\n",
       "      <th>buildingqualitytypeid</th>\n",
       "      <th>calculatedbathnbr</th>\n",
       "      <th>decktypeid</th>\n",
       "      <th>...</th>\n",
       "      <th>numberofstories</th>\n",
       "      <th>fireplaceflag</th>\n",
       "      <th>structuretaxvaluedollarcnt</th>\n",
       "      <th>taxvaluedollarcnt</th>\n",
       "      <th>assessmentyear</th>\n",
       "      <th>landtaxvaluedollarcnt</th>\n",
       "      <th>taxamount</th>\n",
       "      <th>taxdelinquencyflag</th>\n",
       "      <th>taxdelinquencyyear</th>\n",
       "      <th>censustractandblock</th>\n",
       "    </tr>\n",
       "  </thead>\n",
       "  <tbody>\n",
       "    <tr>\n",
       "      <th>0</th>\n",
       "      <td>10754147</td>\n",
       "      <td>NaN</td>\n",
       "      <td>NaN</td>\n",
       "      <td>NaN</td>\n",
       "      <td>0.0</td>\n",
       "      <td>0.0</td>\n",
       "      <td>NaN</td>\n",
       "      <td>NaN</td>\n",
       "      <td>NaN</td>\n",
       "      <td>NaN</td>\n",
       "      <td>...</td>\n",
       "      <td>NaN</td>\n",
       "      <td>NaN</td>\n",
       "      <td>NaN</td>\n",
       "      <td>9.0</td>\n",
       "      <td>2015.0</td>\n",
       "      <td>9.0</td>\n",
       "      <td>NaN</td>\n",
       "      <td>NaN</td>\n",
       "      <td>NaN</td>\n",
       "      <td>NaN</td>\n",
       "    </tr>\n",
       "    <tr>\n",
       "      <th>1</th>\n",
       "      <td>10759547</td>\n",
       "      <td>NaN</td>\n",
       "      <td>NaN</td>\n",
       "      <td>NaN</td>\n",
       "      <td>0.0</td>\n",
       "      <td>0.0</td>\n",
       "      <td>NaN</td>\n",
       "      <td>NaN</td>\n",
       "      <td>NaN</td>\n",
       "      <td>NaN</td>\n",
       "      <td>...</td>\n",
       "      <td>NaN</td>\n",
       "      <td>NaN</td>\n",
       "      <td>NaN</td>\n",
       "      <td>27516.0</td>\n",
       "      <td>2015.0</td>\n",
       "      <td>27516.0</td>\n",
       "      <td>NaN</td>\n",
       "      <td>NaN</td>\n",
       "      <td>NaN</td>\n",
       "      <td>NaN</td>\n",
       "    </tr>\n",
       "    <tr>\n",
       "      <th>2</th>\n",
       "      <td>10843547</td>\n",
       "      <td>NaN</td>\n",
       "      <td>NaN</td>\n",
       "      <td>NaN</td>\n",
       "      <td>0.0</td>\n",
       "      <td>0.0</td>\n",
       "      <td>NaN</td>\n",
       "      <td>NaN</td>\n",
       "      <td>NaN</td>\n",
       "      <td>NaN</td>\n",
       "      <td>...</td>\n",
       "      <td>NaN</td>\n",
       "      <td>NaN</td>\n",
       "      <td>650756.0</td>\n",
       "      <td>1413387.0</td>\n",
       "      <td>2015.0</td>\n",
       "      <td>762631.0</td>\n",
       "      <td>20800.37</td>\n",
       "      <td>NaN</td>\n",
       "      <td>NaN</td>\n",
       "      <td>NaN</td>\n",
       "    </tr>\n",
       "    <tr>\n",
       "      <th>3</th>\n",
       "      <td>10859147</td>\n",
       "      <td>NaN</td>\n",
       "      <td>NaN</td>\n",
       "      <td>NaN</td>\n",
       "      <td>0.0</td>\n",
       "      <td>0.0</td>\n",
       "      <td>3.0</td>\n",
       "      <td>7.0</td>\n",
       "      <td>NaN</td>\n",
       "      <td>NaN</td>\n",
       "      <td>...</td>\n",
       "      <td>1.0</td>\n",
       "      <td>NaN</td>\n",
       "      <td>571346.0</td>\n",
       "      <td>1156834.0</td>\n",
       "      <td>2015.0</td>\n",
       "      <td>585488.0</td>\n",
       "      <td>14557.57</td>\n",
       "      <td>NaN</td>\n",
       "      <td>NaN</td>\n",
       "      <td>NaN</td>\n",
       "    </tr>\n",
       "    <tr>\n",
       "      <th>4</th>\n",
       "      <td>10879947</td>\n",
       "      <td>NaN</td>\n",
       "      <td>NaN</td>\n",
       "      <td>NaN</td>\n",
       "      <td>0.0</td>\n",
       "      <td>0.0</td>\n",
       "      <td>4.0</td>\n",
       "      <td>NaN</td>\n",
       "      <td>NaN</td>\n",
       "      <td>NaN</td>\n",
       "      <td>...</td>\n",
       "      <td>NaN</td>\n",
       "      <td>NaN</td>\n",
       "      <td>193796.0</td>\n",
       "      <td>433491.0</td>\n",
       "      <td>2015.0</td>\n",
       "      <td>239695.0</td>\n",
       "      <td>5725.17</td>\n",
       "      <td>NaN</td>\n",
       "      <td>NaN</td>\n",
       "      <td>NaN</td>\n",
       "    </tr>\n",
       "  </tbody>\n",
       "</table>\n",
       "<p>5 rows × 58 columns</p>\n",
       "</div>"
      ],
      "text/plain": [
       "   parcelid  airconditioningtypeid  architecturalstyletypeid  basementsqft  \\\n",
       "0  10754147                    NaN                       NaN           NaN   \n",
       "1  10759547                    NaN                       NaN           NaN   \n",
       "2  10843547                    NaN                       NaN           NaN   \n",
       "3  10859147                    NaN                       NaN           NaN   \n",
       "4  10879947                    NaN                       NaN           NaN   \n",
       "\n",
       "   bathroomcnt  bedroomcnt  buildingclasstypeid  buildingqualitytypeid  \\\n",
       "0          0.0         0.0                  NaN                    NaN   \n",
       "1          0.0         0.0                  NaN                    NaN   \n",
       "2          0.0         0.0                  NaN                    NaN   \n",
       "3          0.0         0.0                  3.0                    7.0   \n",
       "4          0.0         0.0                  4.0                    NaN   \n",
       "\n",
       "   calculatedbathnbr  decktypeid         ...           numberofstories  \\\n",
       "0                NaN         NaN         ...                       NaN   \n",
       "1                NaN         NaN         ...                       NaN   \n",
       "2                NaN         NaN         ...                       NaN   \n",
       "3                NaN         NaN         ...                       1.0   \n",
       "4                NaN         NaN         ...                       NaN   \n",
       "\n",
       "   fireplaceflag  structuretaxvaluedollarcnt  taxvaluedollarcnt  \\\n",
       "0            NaN                         NaN                9.0   \n",
       "1            NaN                         NaN            27516.0   \n",
       "2            NaN                    650756.0          1413387.0   \n",
       "3            NaN                    571346.0          1156834.0   \n",
       "4            NaN                    193796.0           433491.0   \n",
       "\n",
       "   assessmentyear  landtaxvaluedollarcnt  taxamount  taxdelinquencyflag  \\\n",
       "0          2015.0                    9.0        NaN                 NaN   \n",
       "1          2015.0                27516.0        NaN                 NaN   \n",
       "2          2015.0               762631.0   20800.37                 NaN   \n",
       "3          2015.0               585488.0   14557.57                 NaN   \n",
       "4          2015.0               239695.0    5725.17                 NaN   \n",
       "\n",
       "   taxdelinquencyyear  censustractandblock  \n",
       "0                 NaN                  NaN  \n",
       "1                 NaN                  NaN  \n",
       "2                 NaN                  NaN  \n",
       "3                 NaN                  NaN  \n",
       "4                 NaN                  NaN  \n",
       "\n",
       "[5 rows x 58 columns]"
      ]
     },
     "execution_count": 17,
     "metadata": {},
     "output_type": "execute_result"
    }
   ],
   "source": [
    "properties_2016=pd.read_csv('/Users/claire-lwz/Desktop/semester 3/686/Kaggle competition/properties_2016.csv')\n",
    "properties_2016.head()"
   ]
  },
  {
   "cell_type": "code",
   "execution_count": 18,
   "metadata": {
    "scrolled": true
   },
   "outputs": [
    {
     "name": "stdout",
     "output_type": "stream",
     "text": [
      "<class 'pandas.core.frame.DataFrame'>\n",
      "RangeIndex: 2985217 entries, 0 to 2985216\n",
      "Data columns (total 58 columns):\n",
      "parcelid                        int64\n",
      "airconditioningtypeid           float64\n",
      "architecturalstyletypeid        float64\n",
      "basementsqft                    float64\n",
      "bathroomcnt                     float64\n",
      "bedroomcnt                      float64\n",
      "buildingclasstypeid             float64\n",
      "buildingqualitytypeid           float64\n",
      "calculatedbathnbr               float64\n",
      "decktypeid                      float64\n",
      "finishedfloor1squarefeet        float64\n",
      "calculatedfinishedsquarefeet    float64\n",
      "finishedsquarefeet12            float64\n",
      "finishedsquarefeet13            float64\n",
      "finishedsquarefeet15            float64\n",
      "finishedsquarefeet50            float64\n",
      "finishedsquarefeet6             float64\n",
      "fips                            float64\n",
      "fireplacecnt                    float64\n",
      "fullbathcnt                     float64\n",
      "garagecarcnt                    float64\n",
      "garagetotalsqft                 float64\n",
      "hashottuborspa                  object\n",
      "heatingorsystemtypeid           float64\n",
      "latitude                        float64\n",
      "longitude                       float64\n",
      "lotsizesquarefeet               float64\n",
      "poolcnt                         float64\n",
      "poolsizesum                     float64\n",
      "pooltypeid10                    float64\n",
      "pooltypeid2                     float64\n",
      "pooltypeid7                     float64\n",
      "propertycountylandusecode       object\n",
      "propertylandusetypeid           float64\n",
      "propertyzoningdesc              object\n",
      "rawcensustractandblock          float64\n",
      "regionidcity                    float64\n",
      "regionidcounty                  float64\n",
      "regionidneighborhood            float64\n",
      "regionidzip                     float64\n",
      "roomcnt                         float64\n",
      "storytypeid                     float64\n",
      "threequarterbathnbr             float64\n",
      "typeconstructiontypeid          float64\n",
      "unitcnt                         float64\n",
      "yardbuildingsqft17              float64\n",
      "yardbuildingsqft26              float64\n",
      "yearbuilt                       float64\n",
      "numberofstories                 float64\n",
      "fireplaceflag                   object\n",
      "structuretaxvaluedollarcnt      float64\n",
      "taxvaluedollarcnt               float64\n",
      "assessmentyear                  float64\n",
      "landtaxvaluedollarcnt           float64\n",
      "taxamount                       float64\n",
      "taxdelinquencyflag              object\n",
      "taxdelinquencyyear              float64\n",
      "censustractandblock             float64\n",
      "dtypes: float64(52), int64(1), object(5)\n",
      "memory usage: 1.3+ GB\n"
     ]
    }
   ],
   "source": [
    "properties_2016.info()"
   ]
  },
  {
   "cell_type": "code",
   "execution_count": 19,
   "metadata": {
    "scrolled": true
   },
   "outputs": [
    {
     "data": {
      "text/plain": [
       "parcelid                        False\n",
       "airconditioningtypeid            True\n",
       "architecturalstyletypeid         True\n",
       "basementsqft                     True\n",
       "bathroomcnt                      True\n",
       "bedroomcnt                       True\n",
       "buildingclasstypeid              True\n",
       "buildingqualitytypeid            True\n",
       "calculatedbathnbr                True\n",
       "decktypeid                       True\n",
       "finishedfloor1squarefeet         True\n",
       "calculatedfinishedsquarefeet     True\n",
       "finishedsquarefeet12             True\n",
       "finishedsquarefeet13             True\n",
       "finishedsquarefeet15             True\n",
       "finishedsquarefeet50             True\n",
       "finishedsquarefeet6              True\n",
       "fips                             True\n",
       "fireplacecnt                     True\n",
       "fullbathcnt                      True\n",
       "garagecarcnt                     True\n",
       "garagetotalsqft                  True\n",
       "hashottuborspa                   True\n",
       "heatingorsystemtypeid            True\n",
       "latitude                         True\n",
       "longitude                        True\n",
       "lotsizesquarefeet                True\n",
       "poolcnt                          True\n",
       "poolsizesum                      True\n",
       "pooltypeid10                     True\n",
       "pooltypeid2                      True\n",
       "pooltypeid7                      True\n",
       "propertycountylandusecode        True\n",
       "propertylandusetypeid            True\n",
       "propertyzoningdesc               True\n",
       "rawcensustractandblock           True\n",
       "regionidcity                     True\n",
       "regionidcounty                   True\n",
       "regionidneighborhood             True\n",
       "regionidzip                      True\n",
       "roomcnt                          True\n",
       "storytypeid                      True\n",
       "threequarterbathnbr              True\n",
       "typeconstructiontypeid           True\n",
       "unitcnt                          True\n",
       "yardbuildingsqft17               True\n",
       "yardbuildingsqft26               True\n",
       "yearbuilt                        True\n",
       "numberofstories                  True\n",
       "fireplaceflag                    True\n",
       "structuretaxvaluedollarcnt       True\n",
       "taxvaluedollarcnt                True\n",
       "assessmentyear                   True\n",
       "landtaxvaluedollarcnt            True\n",
       "taxamount                        True\n",
       "taxdelinquencyflag               True\n",
       "taxdelinquencyyear               True\n",
       "censustractandblock              True\n",
       "dtype: bool"
      ]
     },
     "execution_count": 19,
     "metadata": {},
     "output_type": "execute_result"
    }
   ],
   "source": [
    "#check missing value\n",
    "properties_2016.isnull().any()"
   ]
  },
  {
   "cell_type": "code",
   "execution_count": 20,
   "metadata": {
    "scrolled": true
   },
   "outputs": [
    {
     "data": {
      "text/html": [
       "<div>\n",
       "<table border=\"1\" class=\"dataframe\">\n",
       "  <thead>\n",
       "    <tr style=\"text-align: right;\">\n",
       "      <th></th>\n",
       "      <th>features</th>\n",
       "      <th>missing_freq</th>\n",
       "    </tr>\n",
       "  </thead>\n",
       "  <tbody>\n",
       "    <tr>\n",
       "      <th>0</th>\n",
       "      <td>parcelid</td>\n",
       "      <td>0</td>\n",
       "    </tr>\n",
       "    <tr>\n",
       "      <th>1</th>\n",
       "      <td>airconditioningtypeid</td>\n",
       "      <td>2173698</td>\n",
       "    </tr>\n",
       "    <tr>\n",
       "      <th>2</th>\n",
       "      <td>architecturalstyletypeid</td>\n",
       "      <td>2979156</td>\n",
       "    </tr>\n",
       "    <tr>\n",
       "      <th>3</th>\n",
       "      <td>basementsqft</td>\n",
       "      <td>2983589</td>\n",
       "    </tr>\n",
       "    <tr>\n",
       "      <th>4</th>\n",
       "      <td>bathroomcnt</td>\n",
       "      <td>11462</td>\n",
       "    </tr>\n",
       "    <tr>\n",
       "      <th>5</th>\n",
       "      <td>bedroomcnt</td>\n",
       "      <td>11450</td>\n",
       "    </tr>\n",
       "    <tr>\n",
       "      <th>6</th>\n",
       "      <td>buildingclasstypeid</td>\n",
       "      <td>2972588</td>\n",
       "    </tr>\n",
       "    <tr>\n",
       "      <th>7</th>\n",
       "      <td>buildingqualitytypeid</td>\n",
       "      <td>1046729</td>\n",
       "    </tr>\n",
       "    <tr>\n",
       "      <th>8</th>\n",
       "      <td>calculatedbathnbr</td>\n",
       "      <td>128912</td>\n",
       "    </tr>\n",
       "    <tr>\n",
       "      <th>9</th>\n",
       "      <td>decktypeid</td>\n",
       "      <td>2968121</td>\n",
       "    </tr>\n",
       "    <tr>\n",
       "      <th>10</th>\n",
       "      <td>finishedfloor1squarefeet</td>\n",
       "      <td>2782500</td>\n",
       "    </tr>\n",
       "    <tr>\n",
       "      <th>11</th>\n",
       "      <td>calculatedfinishedsquarefeet</td>\n",
       "      <td>55565</td>\n",
       "    </tr>\n",
       "    <tr>\n",
       "      <th>12</th>\n",
       "      <td>finishedsquarefeet12</td>\n",
       "      <td>276033</td>\n",
       "    </tr>\n",
       "    <tr>\n",
       "      <th>13</th>\n",
       "      <td>finishedsquarefeet13</td>\n",
       "      <td>2977545</td>\n",
       "    </tr>\n",
       "    <tr>\n",
       "      <th>14</th>\n",
       "      <td>finishedsquarefeet15</td>\n",
       "      <td>2794419</td>\n",
       "    </tr>\n",
       "    <tr>\n",
       "      <th>15</th>\n",
       "      <td>finishedsquarefeet50</td>\n",
       "      <td>2782500</td>\n",
       "    </tr>\n",
       "    <tr>\n",
       "      <th>16</th>\n",
       "      <td>finishedsquarefeet6</td>\n",
       "      <td>2963216</td>\n",
       "    </tr>\n",
       "    <tr>\n",
       "      <th>17</th>\n",
       "      <td>fips</td>\n",
       "      <td>11437</td>\n",
       "    </tr>\n",
       "    <tr>\n",
       "      <th>18</th>\n",
       "      <td>fireplacecnt</td>\n",
       "      <td>2672580</td>\n",
       "    </tr>\n",
       "    <tr>\n",
       "      <th>19</th>\n",
       "      <td>fullbathcnt</td>\n",
       "      <td>128912</td>\n",
       "    </tr>\n",
       "    <tr>\n",
       "      <th>20</th>\n",
       "      <td>garagecarcnt</td>\n",
       "      <td>2101950</td>\n",
       "    </tr>\n",
       "    <tr>\n",
       "      <th>21</th>\n",
       "      <td>garagetotalsqft</td>\n",
       "      <td>2101950</td>\n",
       "    </tr>\n",
       "    <tr>\n",
       "      <th>22</th>\n",
       "      <td>hashottuborspa</td>\n",
       "      <td>2916203</td>\n",
       "    </tr>\n",
       "    <tr>\n",
       "      <th>23</th>\n",
       "      <td>heatingorsystemtypeid</td>\n",
       "      <td>1178816</td>\n",
       "    </tr>\n",
       "    <tr>\n",
       "      <th>24</th>\n",
       "      <td>latitude</td>\n",
       "      <td>11437</td>\n",
       "    </tr>\n",
       "    <tr>\n",
       "      <th>25</th>\n",
       "      <td>longitude</td>\n",
       "      <td>11437</td>\n",
       "    </tr>\n",
       "    <tr>\n",
       "      <th>26</th>\n",
       "      <td>lotsizesquarefeet</td>\n",
       "      <td>276099</td>\n",
       "    </tr>\n",
       "    <tr>\n",
       "      <th>27</th>\n",
       "      <td>poolcnt</td>\n",
       "      <td>2467683</td>\n",
       "    </tr>\n",
       "    <tr>\n",
       "      <th>28</th>\n",
       "      <td>poolsizesum</td>\n",
       "      <td>2957257</td>\n",
       "    </tr>\n",
       "    <tr>\n",
       "      <th>29</th>\n",
       "      <td>pooltypeid10</td>\n",
       "      <td>2948278</td>\n",
       "    </tr>\n",
       "    <tr>\n",
       "      <th>30</th>\n",
       "      <td>pooltypeid2</td>\n",
       "      <td>2953142</td>\n",
       "    </tr>\n",
       "    <tr>\n",
       "      <th>31</th>\n",
       "      <td>pooltypeid7</td>\n",
       "      <td>2499758</td>\n",
       "    </tr>\n",
       "    <tr>\n",
       "      <th>32</th>\n",
       "      <td>propertycountylandusecode</td>\n",
       "      <td>12277</td>\n",
       "    </tr>\n",
       "    <tr>\n",
       "      <th>33</th>\n",
       "      <td>propertylandusetypeid</td>\n",
       "      <td>11437</td>\n",
       "    </tr>\n",
       "    <tr>\n",
       "      <th>34</th>\n",
       "      <td>propertyzoningdesc</td>\n",
       "      <td>1006588</td>\n",
       "    </tr>\n",
       "    <tr>\n",
       "      <th>35</th>\n",
       "      <td>rawcensustractandblock</td>\n",
       "      <td>11437</td>\n",
       "    </tr>\n",
       "    <tr>\n",
       "      <th>36</th>\n",
       "      <td>regionidcity</td>\n",
       "      <td>62845</td>\n",
       "    </tr>\n",
       "    <tr>\n",
       "      <th>37</th>\n",
       "      <td>regionidcounty</td>\n",
       "      <td>11437</td>\n",
       "    </tr>\n",
       "    <tr>\n",
       "      <th>38</th>\n",
       "      <td>regionidneighborhood</td>\n",
       "      <td>1828815</td>\n",
       "    </tr>\n",
       "    <tr>\n",
       "      <th>39</th>\n",
       "      <td>regionidzip</td>\n",
       "      <td>13980</td>\n",
       "    </tr>\n",
       "    <tr>\n",
       "      <th>40</th>\n",
       "      <td>roomcnt</td>\n",
       "      <td>11475</td>\n",
       "    </tr>\n",
       "    <tr>\n",
       "      <th>41</th>\n",
       "      <td>storytypeid</td>\n",
       "      <td>2983593</td>\n",
       "    </tr>\n",
       "    <tr>\n",
       "      <th>42</th>\n",
       "      <td>threequarterbathnbr</td>\n",
       "      <td>2673586</td>\n",
       "    </tr>\n",
       "    <tr>\n",
       "      <th>43</th>\n",
       "      <td>typeconstructiontypeid</td>\n",
       "      <td>2978470</td>\n",
       "    </tr>\n",
       "    <tr>\n",
       "      <th>44</th>\n",
       "      <td>unitcnt</td>\n",
       "      <td>1007727</td>\n",
       "    </tr>\n",
       "    <tr>\n",
       "      <th>45</th>\n",
       "      <td>yardbuildingsqft17</td>\n",
       "      <td>2904862</td>\n",
       "    </tr>\n",
       "    <tr>\n",
       "      <th>46</th>\n",
       "      <td>yardbuildingsqft26</td>\n",
       "      <td>2982570</td>\n",
       "    </tr>\n",
       "    <tr>\n",
       "      <th>47</th>\n",
       "      <td>yearbuilt</td>\n",
       "      <td>59928</td>\n",
       "    </tr>\n",
       "    <tr>\n",
       "      <th>48</th>\n",
       "      <td>numberofstories</td>\n",
       "      <td>2303148</td>\n",
       "    </tr>\n",
       "    <tr>\n",
       "      <th>49</th>\n",
       "      <td>fireplaceflag</td>\n",
       "      <td>2980054</td>\n",
       "    </tr>\n",
       "    <tr>\n",
       "      <th>50</th>\n",
       "      <td>structuretaxvaluedollarcnt</td>\n",
       "      <td>54982</td>\n",
       "    </tr>\n",
       "    <tr>\n",
       "      <th>51</th>\n",
       "      <td>taxvaluedollarcnt</td>\n",
       "      <td>42550</td>\n",
       "    </tr>\n",
       "    <tr>\n",
       "      <th>52</th>\n",
       "      <td>assessmentyear</td>\n",
       "      <td>11439</td>\n",
       "    </tr>\n",
       "    <tr>\n",
       "      <th>53</th>\n",
       "      <td>landtaxvaluedollarcnt</td>\n",
       "      <td>67733</td>\n",
       "    </tr>\n",
       "    <tr>\n",
       "      <th>54</th>\n",
       "      <td>taxamount</td>\n",
       "      <td>31250</td>\n",
       "    </tr>\n",
       "    <tr>\n",
       "      <th>55</th>\n",
       "      <td>taxdelinquencyflag</td>\n",
       "      <td>2928755</td>\n",
       "    </tr>\n",
       "    <tr>\n",
       "      <th>56</th>\n",
       "      <td>taxdelinquencyyear</td>\n",
       "      <td>2928753</td>\n",
       "    </tr>\n",
       "    <tr>\n",
       "      <th>57</th>\n",
       "      <td>censustractandblock</td>\n",
       "      <td>75126</td>\n",
       "    </tr>\n",
       "  </tbody>\n",
       "</table>\n",
       "</div>"
      ],
      "text/plain": [
       "                        features  missing_freq\n",
       "0                       parcelid             0\n",
       "1          airconditioningtypeid       2173698\n",
       "2       architecturalstyletypeid       2979156\n",
       "3                   basementsqft       2983589\n",
       "4                    bathroomcnt         11462\n",
       "5                     bedroomcnt         11450\n",
       "6            buildingclasstypeid       2972588\n",
       "7          buildingqualitytypeid       1046729\n",
       "8              calculatedbathnbr        128912\n",
       "9                     decktypeid       2968121\n",
       "10      finishedfloor1squarefeet       2782500\n",
       "11  calculatedfinishedsquarefeet         55565\n",
       "12          finishedsquarefeet12        276033\n",
       "13          finishedsquarefeet13       2977545\n",
       "14          finishedsquarefeet15       2794419\n",
       "15          finishedsquarefeet50       2782500\n",
       "16           finishedsquarefeet6       2963216\n",
       "17                          fips         11437\n",
       "18                  fireplacecnt       2672580\n",
       "19                   fullbathcnt        128912\n",
       "20                  garagecarcnt       2101950\n",
       "21               garagetotalsqft       2101950\n",
       "22                hashottuborspa       2916203\n",
       "23         heatingorsystemtypeid       1178816\n",
       "24                      latitude         11437\n",
       "25                     longitude         11437\n",
       "26             lotsizesquarefeet        276099\n",
       "27                       poolcnt       2467683\n",
       "28                   poolsizesum       2957257\n",
       "29                  pooltypeid10       2948278\n",
       "30                   pooltypeid2       2953142\n",
       "31                   pooltypeid7       2499758\n",
       "32     propertycountylandusecode         12277\n",
       "33         propertylandusetypeid         11437\n",
       "34            propertyzoningdesc       1006588\n",
       "35        rawcensustractandblock         11437\n",
       "36                  regionidcity         62845\n",
       "37                regionidcounty         11437\n",
       "38          regionidneighborhood       1828815\n",
       "39                   regionidzip         13980\n",
       "40                       roomcnt         11475\n",
       "41                   storytypeid       2983593\n",
       "42           threequarterbathnbr       2673586\n",
       "43        typeconstructiontypeid       2978470\n",
       "44                       unitcnt       1007727\n",
       "45            yardbuildingsqft17       2904862\n",
       "46            yardbuildingsqft26       2982570\n",
       "47                     yearbuilt         59928\n",
       "48               numberofstories       2303148\n",
       "49                 fireplaceflag       2980054\n",
       "50    structuretaxvaluedollarcnt         54982\n",
       "51             taxvaluedollarcnt         42550\n",
       "52                assessmentyear         11439\n",
       "53         landtaxvaluedollarcnt         67733\n",
       "54                     taxamount         31250\n",
       "55            taxdelinquencyflag       2928755\n",
       "56            taxdelinquencyyear       2928753\n",
       "57           censustractandblock         75126"
      ]
     },
     "execution_count": 20,
     "metadata": {},
     "output_type": "execute_result"
    }
   ],
   "source": [
    "properties_16=(properties_2016.isnull().sum()).reset_index()\n",
    "properties_16.columns=('features','missing_freq')\n",
    "properties_16"
   ]
  },
  {
   "cell_type": "code",
   "execution_count": 21,
   "metadata": {},
   "outputs": [
    {
     "data": {
      "image/png": "[encoded data removed]",
      "text/plain": [
       "<matplotlib.figure.Figure at 0x12feddcf8>"
      ]
     },
     "metadata": {},
     "output_type": "display_data"
    }
   ],
   "source": [
    "(properties_2016.isnull().sum()).sort_values(ascending=True).plot(kind='barh')\n",
    "plt.xlabel('count of missing value')\n",
    "plt.show()"
   ]
  },
  {
   "cell_type": "code",
   "execution_count": 22,
   "metadata": {},
   "outputs": [
    {
     "data": {
      "text/html": [
       "<div>\n",
       "<table border=\"1\" class=\"dataframe\">\n",
       "  <thead>\n",
       "    <tr style=\"text-align: right;\">\n",
       "      <th></th>\n",
       "      <th>parcelid</th>\n",
       "      <th>logerror</th>\n",
       "      <th>transactiondate</th>\n",
       "      <th>airconditioningtypeid</th>\n",
       "      <th>architecturalstyletypeid</th>\n",
       "      <th>basementsqft</th>\n",
       "      <th>bathroomcnt</th>\n",
       "      <th>bedroomcnt</th>\n",
       "      <th>buildingclasstypeid</th>\n",
       "      <th>buildingqualitytypeid</th>\n",
       "      <th>...</th>\n",
       "      <th>numberofstories</th>\n",
       "      <th>fireplaceflag</th>\n",
       "      <th>structuretaxvaluedollarcnt</th>\n",
       "      <th>taxvaluedollarcnt</th>\n",
       "      <th>assessmentyear</th>\n",
       "      <th>landtaxvaluedollarcnt</th>\n",
       "      <th>taxamount</th>\n",
       "      <th>taxdelinquencyflag</th>\n",
       "      <th>taxdelinquencyyear</th>\n",
       "      <th>censustractandblock</th>\n",
       "    </tr>\n",
       "  </thead>\n",
       "  <tbody>\n",
       "    <tr>\n",
       "      <th>0</th>\n",
       "      <td>11016594</td>\n",
       "      <td>0.0276</td>\n",
       "      <td>2016-01-01</td>\n",
       "      <td>1.0</td>\n",
       "      <td>NaN</td>\n",
       "      <td>NaN</td>\n",
       "      <td>2.0</td>\n",
       "      <td>3.0</td>\n",
       "      <td>NaN</td>\n",
       "      <td>4.0</td>\n",
       "      <td>...</td>\n",
       "      <td>NaN</td>\n",
       "      <td>NaN</td>\n",
       "      <td>122754.0</td>\n",
       "      <td>360170.0</td>\n",
       "      <td>2015.0</td>\n",
       "      <td>237416.0</td>\n",
       "      <td>6735.88</td>\n",
       "      <td>NaN</td>\n",
       "      <td>NaN</td>\n",
       "      <td>6.037107e+13</td>\n",
       "    </tr>\n",
       "    <tr>\n",
       "      <th>1</th>\n",
       "      <td>14366692</td>\n",
       "      <td>-0.1684</td>\n",
       "      <td>2016-01-01</td>\n",
       "      <td>NaN</td>\n",
       "      <td>NaN</td>\n",
       "      <td>NaN</td>\n",
       "      <td>3.5</td>\n",
       "      <td>4.0</td>\n",
       "      <td>NaN</td>\n",
       "      <td>NaN</td>\n",
       "      <td>...</td>\n",
       "      <td>NaN</td>\n",
       "      <td>NaN</td>\n",
       "      <td>346458.0</td>\n",
       "      <td>585529.0</td>\n",
       "      <td>2015.0</td>\n",
       "      <td>239071.0</td>\n",
       "      <td>10153.02</td>\n",
       "      <td>NaN</td>\n",
       "      <td>NaN</td>\n",
       "      <td>NaN</td>\n",
       "    </tr>\n",
       "    <tr>\n",
       "      <th>2</th>\n",
       "      <td>12098116</td>\n",
       "      <td>-0.0040</td>\n",
       "      <td>2016-01-01</td>\n",
       "      <td>1.0</td>\n",
       "      <td>NaN</td>\n",
       "      <td>NaN</td>\n",
       "      <td>3.0</td>\n",
       "      <td>2.0</td>\n",
       "      <td>NaN</td>\n",
       "      <td>4.0</td>\n",
       "      <td>...</td>\n",
       "      <td>NaN</td>\n",
       "      <td>NaN</td>\n",
       "      <td>61994.0</td>\n",
       "      <td>119906.0</td>\n",
       "      <td>2015.0</td>\n",
       "      <td>57912.0</td>\n",
       "      <td>11484.48</td>\n",
       "      <td>NaN</td>\n",
       "      <td>NaN</td>\n",
       "      <td>6.037464e+13</td>\n",
       "    </tr>\n",
       "    <tr>\n",
       "      <th>3</th>\n",
       "      <td>12643413</td>\n",
       "      <td>0.0218</td>\n",
       "      <td>2016-01-02</td>\n",
       "      <td>1.0</td>\n",
       "      <td>NaN</td>\n",
       "      <td>NaN</td>\n",
       "      <td>2.0</td>\n",
       "      <td>2.0</td>\n",
       "      <td>NaN</td>\n",
       "      <td>4.0</td>\n",
       "      <td>...</td>\n",
       "      <td>NaN</td>\n",
       "      <td>NaN</td>\n",
       "      <td>171518.0</td>\n",
       "      <td>244880.0</td>\n",
       "      <td>2015.0</td>\n",
       "      <td>73362.0</td>\n",
       "      <td>3048.74</td>\n",
       "      <td>NaN</td>\n",
       "      <td>NaN</td>\n",
       "      <td>6.037296e+13</td>\n",
       "    </tr>\n",
       "    <tr>\n",
       "      <th>4</th>\n",
       "      <td>14432541</td>\n",
       "      <td>-0.0050</td>\n",
       "      <td>2016-01-02</td>\n",
       "      <td>NaN</td>\n",
       "      <td>NaN</td>\n",
       "      <td>NaN</td>\n",
       "      <td>2.5</td>\n",
       "      <td>4.0</td>\n",
       "      <td>NaN</td>\n",
       "      <td>NaN</td>\n",
       "      <td>...</td>\n",
       "      <td>2.0</td>\n",
       "      <td>NaN</td>\n",
       "      <td>169574.0</td>\n",
       "      <td>434551.0</td>\n",
       "      <td>2015.0</td>\n",
       "      <td>264977.0</td>\n",
       "      <td>5488.96</td>\n",
       "      <td>NaN</td>\n",
       "      <td>NaN</td>\n",
       "      <td>6.059042e+13</td>\n",
       "    </tr>\n",
       "  </tbody>\n",
       "</table>\n",
       "<p>5 rows × 60 columns</p>\n",
       "</div>"
      ],
      "text/plain": [
       "   parcelid  logerror transactiondate  airconditioningtypeid  \\\n",
       "0  11016594    0.0276      2016-01-01                    1.0   \n",
       "1  14366692   -0.1684      2016-01-01                    NaN   \n",
       "2  12098116   -0.0040      2016-01-01                    1.0   \n",
       "3  12643413    0.0218      2016-01-02                    1.0   \n",
       "4  14432541   -0.0050      2016-01-02                    NaN   \n",
       "\n",
       "   architecturalstyletypeid  basementsqft  bathroomcnt  bedroomcnt  \\\n",
       "0                       NaN           NaN          2.0         3.0   \n",
       "1                       NaN           NaN          3.5         4.0   \n",
       "2                       NaN           NaN          3.0         2.0   \n",
       "3                       NaN           NaN          2.0         2.0   \n",
       "4                       NaN           NaN          2.5         4.0   \n",
       "\n",
       "   buildingclasstypeid  buildingqualitytypeid         ...           \\\n",
       "0                  NaN                    4.0         ...            \n",
       "1                  NaN                    NaN         ...            \n",
       "2                  NaN                    4.0         ...            \n",
       "3                  NaN                    4.0         ...            \n",
       "4                  NaN                    NaN         ...            \n",
       "\n",
       "   numberofstories  fireplaceflag  structuretaxvaluedollarcnt  \\\n",
       "0              NaN            NaN                    122754.0   \n",
       "1              NaN            NaN                    346458.0   \n",
       "2              NaN            NaN                     61994.0   \n",
       "3              NaN            NaN                    171518.0   \n",
       "4              2.0            NaN                    169574.0   \n",
       "\n",
       "   taxvaluedollarcnt  assessmentyear  landtaxvaluedollarcnt  taxamount  \\\n",
       "0           360170.0          2015.0               237416.0    6735.88   \n",
       "1           585529.0          2015.0               239071.0   10153.02   \n",
       "2           119906.0          2015.0                57912.0   11484.48   \n",
       "3           244880.0          2015.0                73362.0    3048.74   \n",
       "4           434551.0          2015.0               264977.0    5488.96   \n",
       "\n",
       "   taxdelinquencyflag  taxdelinquencyyear  censustractandblock  \n",
       "0                 NaN                 NaN         6.037107e+13  \n",
       "1                 NaN                 NaN                  NaN  \n",
       "2                 NaN                 NaN         6.037464e+13  \n",
       "3                 NaN                 NaN         6.037296e+13  \n",
       "4                 NaN                 NaN         6.059042e+13  \n",
       "\n",
       "[5 rows x 60 columns]"
      ]
     },
     "execution_count": 22,
     "metadata": {},
     "output_type": "execute_result"
    }
   ],
   "source": [
    "#merge train data and 2016 properties data\n",
    "train=pd.merge(train_2016,properties_2016,on='parcelid',how='left')\n",
    "train_x=train.drop(['parcelid','logerror'],axis=1,inplace=False)\n",
    "train.head()"
   ]
  },
  {
   "cell_type": "code",
   "execution_count": 23,
   "metadata": {
    "scrolled": true
   },
   "outputs": [
    {
     "data": {
      "text/html": [
       "<div>\n",
       "<table border=\"1\" class=\"dataframe\">\n",
       "  <thead>\n",
       "    <tr style=\"text-align: right;\">\n",
       "      <th></th>\n",
       "      <th>feature</th>\n",
       "      <th>type</th>\n",
       "    </tr>\n",
       "  </thead>\n",
       "  <tbody>\n",
       "    <tr>\n",
       "      <th>0</th>\n",
       "      <td>transactiondate</td>\n",
       "      <td>object</td>\n",
       "    </tr>\n",
       "    <tr>\n",
       "      <th>1</th>\n",
       "      <td>airconditioningtypeid</td>\n",
       "      <td>float64</td>\n",
       "    </tr>\n",
       "    <tr>\n",
       "      <th>2</th>\n",
       "      <td>architecturalstyletypeid</td>\n",
       "      <td>float64</td>\n",
       "    </tr>\n",
       "    <tr>\n",
       "      <th>3</th>\n",
       "      <td>basementsqft</td>\n",
       "      <td>float64</td>\n",
       "    </tr>\n",
       "    <tr>\n",
       "      <th>4</th>\n",
       "      <td>bathroomcnt</td>\n",
       "      <td>float64</td>\n",
       "    </tr>\n",
       "    <tr>\n",
       "      <th>5</th>\n",
       "      <td>bedroomcnt</td>\n",
       "      <td>float64</td>\n",
       "    </tr>\n",
       "    <tr>\n",
       "      <th>6</th>\n",
       "      <td>buildingclasstypeid</td>\n",
       "      <td>float64</td>\n",
       "    </tr>\n",
       "    <tr>\n",
       "      <th>7</th>\n",
       "      <td>buildingqualitytypeid</td>\n",
       "      <td>float64</td>\n",
       "    </tr>\n",
       "    <tr>\n",
       "      <th>8</th>\n",
       "      <td>calculatedbathnbr</td>\n",
       "      <td>float64</td>\n",
       "    </tr>\n",
       "    <tr>\n",
       "      <th>9</th>\n",
       "      <td>decktypeid</td>\n",
       "      <td>float64</td>\n",
       "    </tr>\n",
       "    <tr>\n",
       "      <th>10</th>\n",
       "      <td>finishedfloor1squarefeet</td>\n",
       "      <td>float64</td>\n",
       "    </tr>\n",
       "    <tr>\n",
       "      <th>11</th>\n",
       "      <td>calculatedfinishedsquarefeet</td>\n",
       "      <td>float64</td>\n",
       "    </tr>\n",
       "    <tr>\n",
       "      <th>12</th>\n",
       "      <td>finishedsquarefeet12</td>\n",
       "      <td>float64</td>\n",
       "    </tr>\n",
       "    <tr>\n",
       "      <th>13</th>\n",
       "      <td>finishedsquarefeet13</td>\n",
       "      <td>float64</td>\n",
       "    </tr>\n",
       "    <tr>\n",
       "      <th>14</th>\n",
       "      <td>finishedsquarefeet15</td>\n",
       "      <td>float64</td>\n",
       "    </tr>\n",
       "    <tr>\n",
       "      <th>15</th>\n",
       "      <td>finishedsquarefeet50</td>\n",
       "      <td>float64</td>\n",
       "    </tr>\n",
       "    <tr>\n",
       "      <th>16</th>\n",
       "      <td>finishedsquarefeet6</td>\n",
       "      <td>float64</td>\n",
       "    </tr>\n",
       "    <tr>\n",
       "      <th>17</th>\n",
       "      <td>fips</td>\n",
       "      <td>float64</td>\n",
       "    </tr>\n",
       "    <tr>\n",
       "      <th>18</th>\n",
       "      <td>fireplacecnt</td>\n",
       "      <td>float64</td>\n",
       "    </tr>\n",
       "    <tr>\n",
       "      <th>19</th>\n",
       "      <td>fullbathcnt</td>\n",
       "      <td>float64</td>\n",
       "    </tr>\n",
       "    <tr>\n",
       "      <th>20</th>\n",
       "      <td>garagecarcnt</td>\n",
       "      <td>float64</td>\n",
       "    </tr>\n",
       "    <tr>\n",
       "      <th>21</th>\n",
       "      <td>garagetotalsqft</td>\n",
       "      <td>float64</td>\n",
       "    </tr>\n",
       "    <tr>\n",
       "      <th>22</th>\n",
       "      <td>hashottuborspa</td>\n",
       "      <td>object</td>\n",
       "    </tr>\n",
       "    <tr>\n",
       "      <th>23</th>\n",
       "      <td>heatingorsystemtypeid</td>\n",
       "      <td>float64</td>\n",
       "    </tr>\n",
       "    <tr>\n",
       "      <th>24</th>\n",
       "      <td>latitude</td>\n",
       "      <td>float64</td>\n",
       "    </tr>\n",
       "    <tr>\n",
       "      <th>25</th>\n",
       "      <td>longitude</td>\n",
       "      <td>float64</td>\n",
       "    </tr>\n",
       "    <tr>\n",
       "      <th>26</th>\n",
       "      <td>lotsizesquarefeet</td>\n",
       "      <td>float64</td>\n",
       "    </tr>\n",
       "    <tr>\n",
       "      <th>27</th>\n",
       "      <td>poolcnt</td>\n",
       "      <td>float64</td>\n",
       "    </tr>\n",
       "    <tr>\n",
       "      <th>28</th>\n",
       "      <td>poolsizesum</td>\n",
       "      <td>float64</td>\n",
       "    </tr>\n",
       "    <tr>\n",
       "      <th>29</th>\n",
       "      <td>pooltypeid10</td>\n",
       "      <td>float64</td>\n",
       "    </tr>\n",
       "    <tr>\n",
       "      <th>30</th>\n",
       "      <td>pooltypeid2</td>\n",
       "      <td>float64</td>\n",
       "    </tr>\n",
       "    <tr>\n",
       "      <th>31</th>\n",
       "      <td>pooltypeid7</td>\n",
       "      <td>float64</td>\n",
       "    </tr>\n",
       "    <tr>\n",
       "      <th>32</th>\n",
       "      <td>propertycountylandusecode</td>\n",
       "      <td>object</td>\n",
       "    </tr>\n",
       "    <tr>\n",
       "      <th>33</th>\n",
       "      <td>propertylandusetypeid</td>\n",
       "      <td>float64</td>\n",
       "    </tr>\n",
       "    <tr>\n",
       "      <th>34</th>\n",
       "      <td>propertyzoningdesc</td>\n",
       "      <td>object</td>\n",
       "    </tr>\n",
       "    <tr>\n",
       "      <th>35</th>\n",
       "      <td>rawcensustractandblock</td>\n",
       "      <td>float64</td>\n",
       "    </tr>\n",
       "    <tr>\n",
       "      <th>36</th>\n",
       "      <td>regionidcity</td>\n",
       "      <td>float64</td>\n",
       "    </tr>\n",
       "    <tr>\n",
       "      <th>37</th>\n",
       "      <td>regionidcounty</td>\n",
       "      <td>float64</td>\n",
       "    </tr>\n",
       "    <tr>\n",
       "      <th>38</th>\n",
       "      <td>regionidneighborhood</td>\n",
       "      <td>float64</td>\n",
       "    </tr>\n",
       "    <tr>\n",
       "      <th>39</th>\n",
       "      <td>regionidzip</td>\n",
       "      <td>float64</td>\n",
       "    </tr>\n",
       "    <tr>\n",
       "      <th>40</th>\n",
       "      <td>roomcnt</td>\n",
       "      <td>float64</td>\n",
       "    </tr>\n",
       "    <tr>\n",
       "      <th>41</th>\n",
       "      <td>storytypeid</td>\n",
       "      <td>float64</td>\n",
       "    </tr>\n",
       "    <tr>\n",
       "      <th>42</th>\n",
       "      <td>threequarterbathnbr</td>\n",
       "      <td>float64</td>\n",
       "    </tr>\n",
       "    <tr>\n",
       "      <th>43</th>\n",
       "      <td>typeconstructiontypeid</td>\n",
       "      <td>float64</td>\n",
       "    </tr>\n",
       "    <tr>\n",
       "      <th>44</th>\n",
       "      <td>unitcnt</td>\n",
       "      <td>float64</td>\n",
       "    </tr>\n",
       "    <tr>\n",
       "      <th>45</th>\n",
       "      <td>yardbuildingsqft17</td>\n",
       "      <td>float64</td>\n",
       "    </tr>\n",
       "    <tr>\n",
       "      <th>46</th>\n",
       "      <td>yardbuildingsqft26</td>\n",
       "      <td>float64</td>\n",
       "    </tr>\n",
       "    <tr>\n",
       "      <th>47</th>\n",
       "      <td>yearbuilt</td>\n",
       "      <td>float64</td>\n",
       "    </tr>\n",
       "    <tr>\n",
       "      <th>48</th>\n",
       "      <td>numberofstories</td>\n",
       "      <td>float64</td>\n",
       "    </tr>\n",
       "    <tr>\n",
       "      <th>49</th>\n",
       "      <td>fireplaceflag</td>\n",
       "      <td>object</td>\n",
       "    </tr>\n",
       "    <tr>\n",
       "      <th>50</th>\n",
       "      <td>structuretaxvaluedollarcnt</td>\n",
       "      <td>float64</td>\n",
       "    </tr>\n",
       "    <tr>\n",
       "      <th>51</th>\n",
       "      <td>taxvaluedollarcnt</td>\n",
       "      <td>float64</td>\n",
       "    </tr>\n",
       "    <tr>\n",
       "      <th>52</th>\n",
       "      <td>assessmentyear</td>\n",
       "      <td>float64</td>\n",
       "    </tr>\n",
       "    <tr>\n",
       "      <th>53</th>\n",
       "      <td>landtaxvaluedollarcnt</td>\n",
       "      <td>float64</td>\n",
       "    </tr>\n",
       "    <tr>\n",
       "      <th>54</th>\n",
       "      <td>taxamount</td>\n",
       "      <td>float64</td>\n",
       "    </tr>\n",
       "    <tr>\n",
       "      <th>55</th>\n",
       "      <td>taxdelinquencyflag</td>\n",
       "      <td>object</td>\n",
       "    </tr>\n",
       "    <tr>\n",
       "      <th>56</th>\n",
       "      <td>taxdelinquencyyear</td>\n",
       "      <td>float64</td>\n",
       "    </tr>\n",
       "    <tr>\n",
       "      <th>57</th>\n",
       "      <td>censustractandblock</td>\n",
       "      <td>float64</td>\n",
       "    </tr>\n",
       "  </tbody>\n",
       "</table>\n",
       "</div>"
      ],
      "text/plain": [
       "                         feature     type\n",
       "0                transactiondate   object\n",
       "1          airconditioningtypeid  float64\n",
       "2       architecturalstyletypeid  float64\n",
       "3                   basementsqft  float64\n",
       "4                    bathroomcnt  float64\n",
       "5                     bedroomcnt  float64\n",
       "6            buildingclasstypeid  float64\n",
       "7          buildingqualitytypeid  float64\n",
       "8              calculatedbathnbr  float64\n",
       "9                     decktypeid  float64\n",
       "10      finishedfloor1squarefeet  float64\n",
       "11  calculatedfinishedsquarefeet  float64\n",
       "12          finishedsquarefeet12  float64\n",
       "13          finishedsquarefeet13  float64\n",
       "14          finishedsquarefeet15  float64\n",
       "15          finishedsquarefeet50  float64\n",
       "16           finishedsquarefeet6  float64\n",
       "17                          fips  float64\n",
       "18                  fireplacecnt  float64\n",
       "19                   fullbathcnt  float64\n",
       "20                  garagecarcnt  float64\n",
       "21               garagetotalsqft  float64\n",
       "22                hashottuborspa   object\n",
       "23         heatingorsystemtypeid  float64\n",
       "24                      latitude  float64\n",
       "25                     longitude  float64\n",
       "26             lotsizesquarefeet  float64\n",
       "27                       poolcnt  float64\n",
       "28                   poolsizesum  float64\n",
       "29                  pooltypeid10  float64\n",
       "30                   pooltypeid2  float64\n",
       "31                   pooltypeid7  float64\n",
       "32     propertycountylandusecode   object\n",
       "33         propertylandusetypeid  float64\n",
       "34            propertyzoningdesc   object\n",
       "35        rawcensustractandblock  float64\n",
       "36                  regionidcity  float64\n",
       "37                regionidcounty  float64\n",
       "38          regionidneighborhood  float64\n",
       "39                   regionidzip  float64\n",
       "40                       roomcnt  float64\n",
       "41                   storytypeid  float64\n",
       "42           threequarterbathnbr  float64\n",
       "43        typeconstructiontypeid  float64\n",
       "44                       unitcnt  float64\n",
       "45            yardbuildingsqft17  float64\n",
       "46            yardbuildingsqft26  float64\n",
       "47                     yearbuilt  float64\n",
       "48               numberofstories  float64\n",
       "49                 fireplaceflag   object\n",
       "50    structuretaxvaluedollarcnt  float64\n",
       "51             taxvaluedollarcnt  float64\n",
       "52                assessmentyear  float64\n",
       "53         landtaxvaluedollarcnt  float64\n",
       "54                     taxamount  float64\n",
       "55            taxdelinquencyflag   object\n",
       "56            taxdelinquencyyear  float64\n",
       "57           censustractandblock  float64"
      ]
     },
     "execution_count": 23,
     "metadata": {},
     "output_type": "execute_result"
    }
   ],
   "source": [
    "train_tp=train_x.dtypes.reset_index()\n",
    "train_tp.columns = [\"feature\",\"type\"]\n",
    "train_tp"
   ]
  },
  {
   "cell_type": "code",
   "execution_count": 24,
   "metadata": {},
   "outputs": [
    {
     "data": {
      "text/plain": [
       "float64    52\n",
       "object      6\n",
       "Name: type, dtype: int64"
      ]
     },
     "execution_count": 24,
     "metadata": {},
     "output_type": "execute_result"
    }
   ],
   "source": [
    "train_tp['type'].value_counts()"
   ]
  },
  {
   "cell_type": "markdown",
   "metadata": {},
   "source": [
    "After we remove target(logerror) and parcelid, most od the variables are float, only 6 of them are object, meaning categorical."
   ]
  },
  {
   "cell_type": "code",
   "execution_count": 25,
   "metadata": {
    "scrolled": true
   },
   "outputs": [
    {
     "name": "stdout",
     "output_type": "stream",
     "text": [
      "<class 'pandas.core.frame.DataFrame'>\n",
      "Int64Index: 90275 entries, 0 to 90274\n",
      "Data columns (total 58 columns):\n",
      "transactiondate                 90275 non-null object\n",
      "airconditioningtypeid           28781 non-null float64\n",
      "architecturalstyletypeid        261 non-null float64\n",
      "basementsqft                    43 non-null float64\n",
      "bathroomcnt                     90275 non-null float64\n",
      "bedroomcnt                      90275 non-null float64\n",
      "buildingclasstypeid             16 non-null float64\n",
      "buildingqualitytypeid           57364 non-null float64\n",
      "calculatedbathnbr               89093 non-null float64\n",
      "decktypeid                      658 non-null float64\n",
      "finishedfloor1squarefeet        6856 non-null float64\n",
      "calculatedfinishedsquarefeet    89614 non-null float64\n",
      "finishedsquarefeet12            85596 non-null float64\n",
      "finishedsquarefeet13            33 non-null float64\n",
      "finishedsquarefeet15            3564 non-null float64\n",
      "finishedsquarefeet50            6856 non-null float64\n",
      "finishedsquarefeet6             421 non-null float64\n",
      "fips                            90275 non-null float64\n",
      "fireplacecnt                    9607 non-null float64\n",
      "fullbathcnt                     89093 non-null float64\n",
      "garagecarcnt                    29937 non-null float64\n",
      "garagetotalsqft                 29937 non-null float64\n",
      "hashottuborspa                  2365 non-null object\n",
      "heatingorsystemtypeid           56080 non-null float64\n",
      "latitude                        90275 non-null float64\n",
      "longitude                       90275 non-null float64\n",
      "lotsizesquarefeet               80125 non-null float64\n",
      "poolcnt                         17901 non-null float64\n",
      "poolsizesum                     969 non-null float64\n",
      "pooltypeid10                    1161 non-null float64\n",
      "pooltypeid2                     1204 non-null float64\n",
      "pooltypeid7                     16697 non-null float64\n",
      "propertycountylandusecode       90274 non-null object\n",
      "propertylandusetypeid           90275 non-null float64\n",
      "propertyzoningdesc              58313 non-null object\n",
      "rawcensustractandblock          90275 non-null float64\n",
      "regionidcity                    88472 non-null float64\n",
      "regionidcounty                  90275 non-null float64\n",
      "regionidneighborhood            36012 non-null float64\n",
      "regionidzip                     90240 non-null float64\n",
      "roomcnt                         90275 non-null float64\n",
      "storytypeid                     43 non-null float64\n",
      "threequarterbathnbr             12009 non-null float64\n",
      "typeconstructiontypeid          299 non-null float64\n",
      "unitcnt                         58353 non-null float64\n",
      "yardbuildingsqft17              2646 non-null float64\n",
      "yardbuildingsqft26              95 non-null float64\n",
      "yearbuilt                       89519 non-null float64\n",
      "numberofstories                 20570 non-null float64\n",
      "fireplaceflag                   222 non-null object\n",
      "structuretaxvaluedollarcnt      89895 non-null float64\n",
      "taxvaluedollarcnt               90274 non-null float64\n",
      "assessmentyear                  90275 non-null float64\n",
      "landtaxvaluedollarcnt           90274 non-null float64\n",
      "taxamount                       90269 non-null float64\n",
      "taxdelinquencyflag              1783 non-null object\n",
      "taxdelinquencyyear              1783 non-null float64\n",
      "censustractandblock             89670 non-null float64\n",
      "dtypes: float64(52), object(6)\n",
      "memory usage: 40.6+ MB\n"
     ]
    }
   ],
   "source": [
    "train_x.info()"
   ]
  },
  {
   "cell_type": "code",
   "execution_count": 26,
   "metadata": {
    "scrolled": true
   },
   "outputs": [
    {
     "data": {
      "text/plain": [
       "buildingclasstypeid             90259\n",
       "finishedsquarefeet13            90242\n",
       "storytypeid                     90232\n",
       "basementsqft                    90232\n",
       "yardbuildingsqft26              90180\n",
       "fireplaceflag                   90053\n",
       "architecturalstyletypeid        90014\n",
       "typeconstructiontypeid          89976\n",
       "finishedsquarefeet6             89854\n",
       "decktypeid                      89617\n",
       "poolsizesum                     89306\n",
       "pooltypeid10                    89114\n",
       "pooltypeid2                     89071\n",
       "taxdelinquencyyear              88492\n",
       "taxdelinquencyflag              88492\n",
       "hashottuborspa                  87910\n",
       "yardbuildingsqft17              87629\n",
       "finishedsquarefeet15            86711\n",
       "finishedsquarefeet50            83419\n",
       "finishedfloor1squarefeet        83419\n",
       "fireplacecnt                    80668\n",
       "threequarterbathnbr             78266\n",
       "pooltypeid7                     73578\n",
       "poolcnt                         72374\n",
       "numberofstories                 69705\n",
       "airconditioningtypeid           61494\n",
       "garagetotalsqft                 60338\n",
       "garagecarcnt                    60338\n",
       "regionidneighborhood            54263\n",
       "heatingorsystemtypeid           34195\n",
       "buildingqualitytypeid           32911\n",
       "propertyzoningdesc              31962\n",
       "unitcnt                         31922\n",
       "lotsizesquarefeet               10150\n",
       "finishedsquarefeet12             4679\n",
       "regionidcity                     1803\n",
       "calculatedbathnbr                1182\n",
       "fullbathcnt                      1182\n",
       "yearbuilt                         756\n",
       "calculatedfinishedsquarefeet      661\n",
       "censustractandblock               605\n",
       "structuretaxvaluedollarcnt        380\n",
       "regionidzip                        35\n",
       "taxamount                           6\n",
       "taxvaluedollarcnt                   1\n",
       "propertycountylandusecode           1\n",
       "landtaxvaluedollarcnt               1\n",
       "fips                                0\n",
       "assessmentyear                      0\n",
       "bathroomcnt                         0\n",
       "bedroomcnt                          0\n",
       "roomcnt                             0\n",
       "latitude                            0\n",
       "regionidcounty                      0\n",
       "rawcensustractandblock              0\n",
       "propertylandusetypeid               0\n",
       "longitude                           0\n",
       "transactiondate                     0\n",
       "dtype: int64"
      ]
     },
     "execution_count": 26,
     "metadata": {},
     "output_type": "execute_result"
    }
   ],
   "source": [
    "train_x.isnull().sum().sort_values(ascending=False)"
   ]
  },
  {
   "cell_type": "markdown",
   "metadata": {},
   "source": [
    "For total 90725 rows, some of the features have over 90000 missing value, so we may consider remove these variables."
   ]
  },
  {
   "cell_type": "markdown",
   "metadata": {},
   "source": [
    "calculatedfinishedsquarefeet is almost complete, so we keep this one and use mean to replace missing value. But for other finishedsquarefeet, we consider removing them, because they are redundant."
   ]
  },
  {
   "cell_type": "code",
   "execution_count": 27,
   "metadata": {},
   "outputs": [],
   "source": [
    "percentage=train_x['finishedsquarefeet6'].isnull().sum()/90725*100"
   ]
  },
  {
   "cell_type": "code",
   "execution_count": 28,
   "metadata": {},
   "outputs": [
    {
     "name": "stdout",
     "output_type": "stream",
     "text": [
      "The features: buildingclasstypeid, finishedsquarefeet13, storytypeid,basementsqft, yardbuildingsqft26, fireplaceflag, architecturalstyletypeid, typeconstructiontypeid, finishedsquarefeet6 counts more than 99.0399559107percent minsing values.\n"
     ]
    }
   ],
   "source": [
    "print('The features: buildingclasstypeid, finishedsquarefeet13, storytypeid,basementsqft, yardbuildingsqft26, fireplaceflag, architecturalstyletypeid, typeconstructiontypeid, finishedsquarefeet6 counts more than '+ str(percentage)+ 'percent minsing values.')"
   ]
  },
  {
   "cell_type": "markdown",
   "metadata": {},
   "source": [
    "1. Because the features: fips, assessmentyear, bathroomcnt, bedroomcnt, roomcnt, latitude, regionidcounty, rawcensustractandblock, propertylandusetypeid, longitude, transactiondate, have no missing value, so we'll conduct further steps to check their relationships with target: logerror.\n",
    "2. As mentioned before, the features have over 99% missing value, we consider removing them."
   ]
  },
  {
   "cell_type": "markdown",
   "metadata": {},
   "source": [
    "Step 1:"
   ]
  },
  {
   "cell_type": "code",
   "execution_count": 29,
   "metadata": {},
   "outputs": [],
   "source": [
    "#drop features with missing percentage over 99%\n",
    "train_x2=train_x.drop(['buildingclasstypeid','finishedsquarefeet12','finishedsquarefeet6','finishedsquarefeet13','finishedsquarefeet15','finishedsquarefeet50','finishedfloor1squarefeet','storytypeid','basementsqft','yardbuildingsqft26','fireplaceflag','architecturalstyletypeid','typeconstructiontypeid','decktypeid','yardbuildingsqft17','censustractandblock','pooltypeid2','pooltypeid10','poolcnt','assessmentyear','regionidneighborhood','regionidzip','regionidcity','propertyzoningdesc','propertycountylandusecode','transactiondate','calculatedbathnbr','fullbathcnt'],axis=1)"
   ]
  },
  {
   "cell_type": "code",
   "execution_count": 30,
   "metadata": {
    "collapsed": true
   },
   "outputs": [],
   "source": [
    "#keep features with no missing value\n",
    "train_x2_2=train_x2[['fips','bathroomcnt','bedroomcnt','roomcnt','latitude','regionidcounty','rawcensustractandblock','propertylandusetypeid','longitude']]"
   ]
  },
  {
   "cell_type": "code",
   "execution_count": 31,
   "metadata": {},
   "outputs": [
    {
     "data": {
      "text/html": [
       "<div>\n",
       "<table border=\"1\" class=\"dataframe\">\n",
       "  <thead>\n",
       "    <tr style=\"text-align: right;\">\n",
       "      <th></th>\n",
       "      <th>poolsizesum</th>\n",
       "      <th>hashottuborspa</th>\n",
       "      <th>taxdelinquencyflag</th>\n",
       "      <th>fireplacecnt</th>\n",
       "      <th>garagecarcnt</th>\n",
       "      <th>garagetotalsqft</th>\n",
       "    </tr>\n",
       "  </thead>\n",
       "  <tbody>\n",
       "    <tr>\n",
       "      <th>0</th>\n",
       "      <td>0.0</td>\n",
       "      <td>0</td>\n",
       "      <td>0</td>\n",
       "      <td>0.0</td>\n",
       "      <td>0.0</td>\n",
       "      <td>0.0</td>\n",
       "    </tr>\n",
       "    <tr>\n",
       "      <th>1</th>\n",
       "      <td>0.0</td>\n",
       "      <td>0</td>\n",
       "      <td>0</td>\n",
       "      <td>0.0</td>\n",
       "      <td>2.0</td>\n",
       "      <td>468.0</td>\n",
       "    </tr>\n",
       "    <tr>\n",
       "      <th>2</th>\n",
       "      <td>0.0</td>\n",
       "      <td>0</td>\n",
       "      <td>0</td>\n",
       "      <td>0.0</td>\n",
       "      <td>0.0</td>\n",
       "      <td>0.0</td>\n",
       "    </tr>\n",
       "    <tr>\n",
       "      <th>3</th>\n",
       "      <td>0.0</td>\n",
       "      <td>0</td>\n",
       "      <td>0</td>\n",
       "      <td>0.0</td>\n",
       "      <td>0.0</td>\n",
       "      <td>0.0</td>\n",
       "    </tr>\n",
       "    <tr>\n",
       "      <th>4</th>\n",
       "      <td>0.0</td>\n",
       "      <td>0</td>\n",
       "      <td>0</td>\n",
       "      <td>0.0</td>\n",
       "      <td>2.0</td>\n",
       "      <td>598.0</td>\n",
       "    </tr>\n",
       "  </tbody>\n",
       "</table>\n",
       "</div>"
      ],
      "text/plain": [
       "   poolsizesum hashottuborspa taxdelinquencyflag  fireplacecnt  garagecarcnt  \\\n",
       "0          0.0              0                  0           0.0           0.0   \n",
       "1          0.0              0                  0           0.0           2.0   \n",
       "2          0.0              0                  0           0.0           0.0   \n",
       "3          0.0              0                  0           0.0           0.0   \n",
       "4          0.0              0                  0           0.0           2.0   \n",
       "\n",
       "   garagetotalsqft  \n",
       "0              0.0  \n",
       "1            468.0  \n",
       "2              0.0  \n",
       "3              0.0  \n",
       "4            598.0  "
      ]
     },
     "execution_count": 31,
     "metadata": {},
     "output_type": "execute_result"
    }
   ],
   "source": [
    "#fill NA with 0 for binary features\n",
    "train_x3=train_x2[['poolsizesum','hashottuborspa','taxdelinquencyflag','fireplacecnt','garagecarcnt','garagetotalsqft']].fillna(0)\n",
    "train_x3.head()"
   ]
  },
  {
   "cell_type": "code",
   "execution_count": 32,
   "metadata": {},
   "outputs": [
    {
     "data": {
      "text/html": [
       "<div>\n",
       "<table border=\"1\" class=\"dataframe\">\n",
       "  <thead>\n",
       "    <tr style=\"text-align: right;\">\n",
       "      <th></th>\n",
       "      <th>taxamount</th>\n",
       "      <th>taxvaluedollarcnt</th>\n",
       "      <th>landtaxvaluedollarcnt</th>\n",
       "      <th>structuretaxvaluedollarcnt</th>\n",
       "    </tr>\n",
       "  </thead>\n",
       "  <tbody>\n",
       "    <tr>\n",
       "      <th>0</th>\n",
       "      <td>6735.88</td>\n",
       "      <td>360170.0</td>\n",
       "      <td>237416.0</td>\n",
       "      <td>122754.0</td>\n",
       "    </tr>\n",
       "    <tr>\n",
       "      <th>1</th>\n",
       "      <td>10153.02</td>\n",
       "      <td>585529.0</td>\n",
       "      <td>239071.0</td>\n",
       "      <td>346458.0</td>\n",
       "    </tr>\n",
       "    <tr>\n",
       "      <th>2</th>\n",
       "      <td>11484.48</td>\n",
       "      <td>119906.0</td>\n",
       "      <td>57912.0</td>\n",
       "      <td>61994.0</td>\n",
       "    </tr>\n",
       "    <tr>\n",
       "      <th>3</th>\n",
       "      <td>3048.74</td>\n",
       "      <td>244880.0</td>\n",
       "      <td>73362.0</td>\n",
       "      <td>171518.0</td>\n",
       "    </tr>\n",
       "    <tr>\n",
       "      <th>4</th>\n",
       "      <td>5488.96</td>\n",
       "      <td>434551.0</td>\n",
       "      <td>264977.0</td>\n",
       "      <td>169574.0</td>\n",
       "    </tr>\n",
       "  </tbody>\n",
       "</table>\n",
       "</div>"
      ],
      "text/plain": [
       "   taxamount  taxvaluedollarcnt  landtaxvaluedollarcnt  \\\n",
       "0    6735.88           360170.0               237416.0   \n",
       "1   10153.02           585529.0               239071.0   \n",
       "2   11484.48           119906.0                57912.0   \n",
       "3    3048.74           244880.0                73362.0   \n",
       "4    5488.96           434551.0               264977.0   \n",
       "\n",
       "   structuretaxvaluedollarcnt  \n",
       "0                    122754.0  \n",
       "1                    346458.0  \n",
       "2                     61994.0  \n",
       "3                    171518.0  \n",
       "4                    169574.0  "
      ]
     },
     "execution_count": 32,
     "metadata": {},
     "output_type": "execute_result"
    }
   ],
   "source": [
    "train_x5=train_x2[['taxamount','taxvaluedollarcnt','landtaxvaluedollarcnt','structuretaxvaluedollarcnt','propertycountylandusecode','propertyzoningdesc']].fillna(np.mean(train_x2[['taxamount','taxvaluedollarcnt','landtaxvaluedollarcnt','structuretaxvaluedollarcnt','propertycountylandusecode','propertyzoningdesc']]))\n",
    "train_x5.head()"
   ]
  },
  {
   "cell_type": "code",
   "execution_count": 33,
   "metadata": {},
   "outputs": [
    {
     "data": {
      "text/plain": [
       "1.0    12016\n",
       "2.0     8044\n",
       "3.0      508\n",
       "4.0        2\n",
       "Name: numberofstories, dtype: int64"
      ]
     },
     "execution_count": 33,
     "metadata": {},
     "output_type": "execute_result"
    }
   ],
   "source": [
    "# fill NA with most frequent value\n",
    "train_x2['numberofstories'].value_counts()"
   ]
  },
  {
   "cell_type": "code",
   "execution_count": 34,
   "metadata": {
    "collapsed": true
   },
   "outputs": [],
   "source": [
    "train_x4=train_x2[['numberofstories']].fillna(1)"
   ]
  },
  {
   "cell_type": "code",
   "execution_count": 46,
   "metadata": {
    "scrolled": true
   },
   "outputs": [
    {
     "data": {
      "text/html": [
       "<div>\n",
       "<table border=\"1\" class=\"dataframe\">\n",
       "  <thead>\n",
       "    <tr style=\"text-align: right;\">\n",
       "      <th></th>\n",
       "      <th>taxamount</th>\n",
       "      <th>taxvaluedollarcnt</th>\n",
       "      <th>landtaxvaluedollarcnt</th>\n",
       "      <th>structuretaxvaluedollarcnt</th>\n",
       "      <th>lotsizesquarefeet</th>\n",
       "      <th>calculatedfinishedsquarefeet</th>\n",
       "      <th>buildingqualitytypeid</th>\n",
       "      <th>unitcnt</th>\n",
       "      <th>yearbuilt</th>\n",
       "    </tr>\n",
       "  </thead>\n",
       "  <tbody>\n",
       "    <tr>\n",
       "      <th>0</th>\n",
       "      <td>6735.88</td>\n",
       "      <td>360170.0</td>\n",
       "      <td>237416.0</td>\n",
       "      <td>122754.0</td>\n",
       "      <td>7528.0</td>\n",
       "      <td>1684.0</td>\n",
       "      <td>4.000000</td>\n",
       "      <td>1.000000</td>\n",
       "      <td>1959.0</td>\n",
       "    </tr>\n",
       "    <tr>\n",
       "      <th>1</th>\n",
       "      <td>10153.02</td>\n",
       "      <td>585529.0</td>\n",
       "      <td>239071.0</td>\n",
       "      <td>346458.0</td>\n",
       "      <td>3643.0</td>\n",
       "      <td>2263.0</td>\n",
       "      <td>5.565407</td>\n",
       "      <td>1.110414</td>\n",
       "      <td>2014.0</td>\n",
       "    </tr>\n",
       "    <tr>\n",
       "      <th>2</th>\n",
       "      <td>11484.48</td>\n",
       "      <td>119906.0</td>\n",
       "      <td>57912.0</td>\n",
       "      <td>61994.0</td>\n",
       "      <td>11423.0</td>\n",
       "      <td>2217.0</td>\n",
       "      <td>4.000000</td>\n",
       "      <td>1.000000</td>\n",
       "      <td>1940.0</td>\n",
       "    </tr>\n",
       "    <tr>\n",
       "      <th>3</th>\n",
       "      <td>3048.74</td>\n",
       "      <td>244880.0</td>\n",
       "      <td>73362.0</td>\n",
       "      <td>171518.0</td>\n",
       "      <td>70859.0</td>\n",
       "      <td>839.0</td>\n",
       "      <td>4.000000</td>\n",
       "      <td>1.000000</td>\n",
       "      <td>1987.0</td>\n",
       "    </tr>\n",
       "    <tr>\n",
       "      <th>4</th>\n",
       "      <td>5488.96</td>\n",
       "      <td>434551.0</td>\n",
       "      <td>264977.0</td>\n",
       "      <td>169574.0</td>\n",
       "      <td>6000.0</td>\n",
       "      <td>2283.0</td>\n",
       "      <td>5.565407</td>\n",
       "      <td>1.110414</td>\n",
       "      <td>1981.0</td>\n",
       "    </tr>\n",
       "  </tbody>\n",
       "</table>\n",
       "</div>"
      ],
      "text/plain": [
       "   taxamount  taxvaluedollarcnt  landtaxvaluedollarcnt  \\\n",
       "0    6735.88           360170.0               237416.0   \n",
       "1   10153.02           585529.0               239071.0   \n",
       "2   11484.48           119906.0                57912.0   \n",
       "3    3048.74           244880.0                73362.0   \n",
       "4    5488.96           434551.0               264977.0   \n",
       "\n",
       "   structuretaxvaluedollarcnt  lotsizesquarefeet  \\\n",
       "0                    122754.0             7528.0   \n",
       "1                    346458.0             3643.0   \n",
       "2                     61994.0            11423.0   \n",
       "3                    171518.0            70859.0   \n",
       "4                    169574.0             6000.0   \n",
       "\n",
       "   calculatedfinishedsquarefeet  buildingqualitytypeid   unitcnt  yearbuilt  \n",
       "0                        1684.0               4.000000  1.000000     1959.0  \n",
       "1                        2263.0               5.565407  1.110414     2014.0  \n",
       "2                        2217.0               4.000000  1.000000     1940.0  \n",
       "3                         839.0               4.000000  1.000000     1987.0  \n",
       "4                        2283.0               5.565407  1.110414     1981.0  "
      ]
     },
     "execution_count": 46,
     "metadata": {},
     "output_type": "execute_result"
    }
   ],
   "source": [
    "train_x5=train_x2[['taxamount','taxvaluedollarcnt','landtaxvaluedollarcnt','structuretaxvaluedollarcnt','lotsizesquarefeet','calculatedfinishedsquarefeet','buildingqualitytypeid','unitcnt','yearbuilt']].fillna(np.mean(train_x2[['taxamount','taxvaluedollarcnt','landtaxvaluedollarcnt','structuretaxvaluedollarcnt','lotsizesquarefeet','calculatedfinishedsquarefeet','buildingqualitytypeid','unitcnt','yearbuilt']]))\n",
    "train_x5.head()"
   ]
  },
  {
   "cell_type": "code",
   "execution_count": 47,
   "metadata": {
    "collapsed": true
   },
   "outputs": [],
   "source": [
    "#fill NA with most frequent value\n",
    "train_x6=train_x2[['airconditioningtypeid']].fillna(1)"
   ]
  },
  {
   "cell_type": "code",
   "execution_count": 48,
   "metadata": {},
   "outputs": [
    {
     "data": {
      "text/plain": [
       "1.0    11912\n",
       "2.0       90\n",
       "3.0        6\n",
       "4.0        1\n",
       "Name: threequarterbathnbr, dtype: int64"
      ]
     },
     "execution_count": 48,
     "metadata": {},
     "output_type": "execute_result"
    }
   ],
   "source": [
    "train_x2['threequarterbathnbr'].value_counts()"
   ]
  },
  {
   "cell_type": "code",
   "execution_count": 49,
   "metadata": {
    "collapsed": true
   },
   "outputs": [],
   "source": [
    "train_x7=train_x2[['threequarterbathnbr']].fillna(1)"
   ]
  },
  {
   "cell_type": "code",
   "execution_count": 50,
   "metadata": {
    "scrolled": true
   },
   "outputs": [
    {
     "data": {
      "text/plain": [
       "2.0     38303\n",
       "7.0     15519\n",
       "24.0     1071\n",
       "6.0       970\n",
       "20.0       97\n",
       "13.0       76\n",
       "18.0       25\n",
       "1.0        13\n",
       "14.0        2\n",
       "10.0        2\n",
       "12.0        1\n",
       "11.0        1\n",
       "Name: heatingorsystemtypeid, dtype: int64"
      ]
     },
     "execution_count": 50,
     "metadata": {},
     "output_type": "execute_result"
    }
   ],
   "source": [
    "train_x2['heatingorsystemtypeid'].value_counts()"
   ]
  },
  {
   "cell_type": "code",
   "execution_count": 51,
   "metadata": {
    "scrolled": true
   },
   "outputs": [
    {
     "data": {
      "text/plain": [
       "2.0     38303\n",
       "7.0     15519\n",
       "24.0     1071\n",
       "6.0       970\n",
       "20.0       97\n",
       "13.0       76\n",
       "18.0       25\n",
       "1.0        13\n",
       "14.0        2\n",
       "10.0        2\n",
       "12.0        1\n",
       "11.0        1\n",
       "Name: heatingorsystemtypeid, dtype: int64"
      ]
     },
     "execution_count": 51,
     "metadata": {},
     "output_type": "execute_result"
    }
   ],
   "source": [
    "train_x2['heatingorsystemtypeid'].value_counts()"
   ]
  },
  {
   "cell_type": "code",
   "execution_count": 52,
   "metadata": {
    "collapsed": true
   },
   "outputs": [],
   "source": [
    "train_x8=train_x2[['heatingorsystemtypeid']].fillna(2)"
   ]
  },
  {
   "cell_type": "code",
   "execution_count": 53,
   "metadata": {},
   "outputs": [],
   "source": [
    "train_x9=pd.concat([train_x2_2,train_x3,train_x4,train_x5,train_x6,train_x7,train_x8],axis=1)"
   ]
  },
  {
   "cell_type": "code",
   "execution_count": 54,
   "metadata": {},
   "outputs": [],
   "source": [
    "train_x9['hashottuborspa1']=train_x9['hashottuborspa'].replace({True:1},inplace=False)\n",
    "train_x10=train_x9.drop(['hashottuborspa'],axis=1,inplace=False)"
   ]
  },
  {
   "cell_type": "code",
   "execution_count": 55,
   "metadata": {
    "collapsed": true
   },
   "outputs": [],
   "source": [
    "train_x10['taxdelinquencyflag1']=train_x10['taxdelinquencyflag'].replace({'Y':1},inplace=False)\n",
    "train_x11=train_x10.drop(['taxdelinquencyflag'],axis=1,inplace=False)"
   ]
  },
  {
   "cell_type": "code",
   "execution_count": 56,
   "metadata": {
    "scrolled": true
   },
   "outputs": [
    {
     "data": {
      "text/html": [
       "<table class=\"simpletable\">\n",
       "<caption>OLS Regression Results</caption>\n",
       "<tr>\n",
       "  <th>Dep. Variable:</th>        <td>logerror</td>     <th>  R-squared:         </th>  <td>   0.006</td> \n",
       "</tr>\n",
       "<tr>\n",
       "  <th>Model:</th>                   <td>OLS</td>       <th>  Adj. R-squared:    </th>  <td>   0.005</td> \n",
       "</tr>\n",
       "<tr>\n",
       "  <th>Method:</th>             <td>Least Squares</td>  <th>  F-statistic:       </th>  <td>   19.42</td> \n",
       "</tr>\n",
       "<tr>\n",
       "  <th>Date:</th>             <td>Mon, 04 Dec 2017</td> <th>  Prob (F-statistic):</th>  <td>3.05e-93</td> \n",
       "</tr>\n",
       "<tr>\n",
       "  <th>Time:</th>                 <td>18:07:58</td>     <th>  Log-Likelihood:    </th>  <td>  36997.</td> \n",
       "</tr>\n",
       "<tr>\n",
       "  <th>No. Observations:</th>      <td> 90275</td>      <th>  AIC:               </th> <td>-7.394e+04</td>\n",
       "</tr>\n",
       "<tr>\n",
       "  <th>Df Residuals:</th>          <td> 90247</td>      <th>  BIC:               </th> <td>-7.367e+04</td>\n",
       "</tr>\n",
       "<tr>\n",
       "  <th>Df Model:</th>              <td>    27</td>      <th>                     </th>      <td> </td>    \n",
       "</tr>\n",
       "<tr>\n",
       "  <th>Covariance Type:</th>      <td>nonrobust</td>    <th>                     </th>      <td> </td>    \n",
       "</tr>\n",
       "</table>\n",
       "<table class=\"simpletable\">\n",
       "<tr>\n",
       "                <td></td>                  <th>coef</th>     <th>std err</th>      <th>t</th>      <th>P>|t|</th> <th>[95.0% Conf. Int.]</th> \n",
       "</tr>\n",
       "<tr>\n",
       "  <th>fips</th>                         <td>    0.0067</td> <td>    0.003</td> <td>    2.406</td> <td> 0.016</td> <td>    0.001     0.012</td>\n",
       "</tr>\n",
       "<tr>\n",
       "  <th>bathroomcnt</th>                  <td>   -0.0027</td> <td>    0.001</td> <td>   -2.701</td> <td> 0.007</td> <td>   -0.005    -0.001</td>\n",
       "</tr>\n",
       "<tr>\n",
       "  <th>bedroomcnt</th>                   <td> 9.599e-05</td> <td>    0.001</td> <td>    0.134</td> <td> 0.893</td> <td>   -0.001     0.001</td>\n",
       "</tr>\n",
       "<tr>\n",
       "  <th>roomcnt</th>                      <td>    0.0009</td> <td>    0.000</td> <td>    2.386</td> <td> 0.017</td> <td>    0.000     0.002</td>\n",
       "</tr>\n",
       "<tr>\n",
       "  <th>latitude</th>                     <td>-3.024e-09</td> <td> 3.15e-09</td> <td>   -0.960</td> <td> 0.337</td> <td> -9.2e-09  3.15e-09</td>\n",
       "</tr>\n",
       "<tr>\n",
       "  <th>regionidcounty</th>               <td> 6.876e-06</td> <td> 2.07e-06</td> <td>    3.329</td> <td> 0.001</td> <td> 2.83e-06  1.09e-05</td>\n",
       "</tr>\n",
       "<tr>\n",
       "  <th>rawcensustractandblock</th>       <td>-6.556e-07</td> <td> 2.78e-07</td> <td>   -2.357</td> <td> 0.018</td> <td> -1.2e-06  -1.1e-07</td>\n",
       "</tr>\n",
       "<tr>\n",
       "  <th>propertylandusetypeid</th>        <td>    0.0002</td> <td>    0.000</td> <td>    1.931</td> <td> 0.053</td> <td>-3.55e-06     0.000</td>\n",
       "</tr>\n",
       "<tr>\n",
       "  <th>longitude</th>                    <td> 7.869e-09</td> <td> 2.84e-09</td> <td>    2.770</td> <td> 0.006</td> <td>  2.3e-09  1.34e-08</td>\n",
       "</tr>\n",
       "<tr>\n",
       "  <th>poolsizesum</th>                  <td>-3.255e-05</td> <td> 1.04e-05</td> <td>   -3.130</td> <td> 0.002</td> <td>-5.29e-05 -1.22e-05</td>\n",
       "</tr>\n",
       "<tr>\n",
       "  <th>fireplacecnt</th>                 <td>   -0.0017</td> <td>    0.002</td> <td>   -0.925</td> <td> 0.355</td> <td>   -0.005     0.002</td>\n",
       "</tr>\n",
       "<tr>\n",
       "  <th>garagecarcnt</th>                 <td>   -0.0003</td> <td>    0.002</td> <td>   -0.185</td> <td> 0.853</td> <td>   -0.004     0.003</td>\n",
       "</tr>\n",
       "<tr>\n",
       "  <th>garagetotalsqft</th>              <td>-8.566e-06</td> <td> 5.21e-06</td> <td>   -1.644</td> <td> 0.100</td> <td>-1.88e-05  1.65e-06</td>\n",
       "</tr>\n",
       "<tr>\n",
       "  <th>numberofstories</th>              <td>   -0.0020</td> <td>    0.002</td> <td>   -0.899</td> <td> 0.369</td> <td>   -0.006     0.002</td>\n",
       "</tr>\n",
       "<tr>\n",
       "  <th>taxamount</th>                    <td>-3.331e-06</td> <td> 2.55e-07</td> <td>  -13.042</td> <td> 0.000</td> <td>-3.83e-06 -2.83e-06</td>\n",
       "</tr>\n",
       "<tr>\n",
       "  <th>taxvaluedollarcnt</th>            <td>  3.33e-07</td> <td> 4.73e-08</td> <td>    7.048</td> <td> 0.000</td> <td>  2.4e-07  4.26e-07</td>\n",
       "</tr>\n",
       "<tr>\n",
       "  <th>landtaxvaluedollarcnt</th>        <td>-3.055e-07</td> <td> 4.74e-08</td> <td>   -6.447</td> <td> 0.000</td> <td>-3.98e-07 -2.13e-07</td>\n",
       "</tr>\n",
       "<tr>\n",
       "  <th>structuretaxvaluedollarcnt</th>   <td>-2.921e-07</td> <td> 4.77e-08</td> <td>   -6.127</td> <td> 0.000</td> <td>-3.86e-07 -1.99e-07</td>\n",
       "</tr>\n",
       "<tr>\n",
       "  <th>lotsizesquarefeet</th>            <td> 6.409e-09</td> <td>  4.8e-09</td> <td>    1.334</td> <td> 0.182</td> <td>   -3e-09  1.58e-08</td>\n",
       "</tr>\n",
       "<tr>\n",
       "  <th>calculatedfinishedsquarefeet</th> <td> 1.241e-05</td> <td>  1.2e-06</td> <td>   10.346</td> <td> 0.000</td> <td> 1.01e-05  1.48e-05</td>\n",
       "</tr>\n",
       "<tr>\n",
       "  <th>buildingqualitytypeid</th>        <td>    0.0003</td> <td>    0.000</td> <td>    0.726</td> <td> 0.468</td> <td>   -0.000     0.001</td>\n",
       "</tr>\n",
       "<tr>\n",
       "  <th>unitcnt</th>                      <td>   -0.0019</td> <td>    0.001</td> <td>   -2.183</td> <td> 0.029</td> <td>   -0.004    -0.000</td>\n",
       "</tr>\n",
       "<tr>\n",
       "  <th>yearbuilt</th>                    <td> 5.323e-05</td> <td>  3.3e-05</td> <td>    1.614</td> <td> 0.107</td> <td>-1.14e-05     0.000</td>\n",
       "</tr>\n",
       "<tr>\n",
       "  <th>airconditioningtypeid</th>        <td>-1.645e-05</td> <td>    0.000</td> <td>   -0.049</td> <td> 0.961</td> <td>   -0.001     0.001</td>\n",
       "</tr>\n",
       "<tr>\n",
       "  <th>threequarterbathnbr</th>          <td>    0.0286</td> <td>    0.015</td> <td>    1.909</td> <td> 0.056</td> <td>   -0.001     0.058</td>\n",
       "</tr>\n",
       "<tr>\n",
       "  <th>heatingorsystemtypeid</th>        <td>   -0.0008</td> <td>    0.000</td> <td>   -4.038</td> <td> 0.000</td> <td>   -0.001    -0.000</td>\n",
       "</tr>\n",
       "<tr>\n",
       "  <th>hashottuborspa1</th>              <td>   -0.0151</td> <td>    0.004</td> <td>   -4.225</td> <td> 0.000</td> <td>   -0.022    -0.008</td>\n",
       "</tr>\n",
       "<tr>\n",
       "  <th>taxdelinquencyflag1</th>          <td>    0.0248</td> <td>    0.004</td> <td>    6.432</td> <td> 0.000</td> <td>    0.017     0.032</td>\n",
       "</tr>\n",
       "</table>\n",
       "<table class=\"simpletable\">\n",
       "<tr>\n",
       "  <th>Omnibus:</th>       <td>66752.617</td> <th>  Durbin-Watson:     </th>   <td>   1.971</td>  \n",
       "</tr>\n",
       "<tr>\n",
       "  <th>Prob(Omnibus):</th>  <td> 0.000</td>   <th>  Jarque-Bera (JB):  </th> <td>65911147.765</td>\n",
       "</tr>\n",
       "<tr>\n",
       "  <th>Skew:</th>           <td> 2.205</td>   <th>  Prob(JB):          </th>   <td>    0.00</td>  \n",
       "</tr>\n",
       "<tr>\n",
       "  <th>Kurtosis:</th>       <td>135.300</td>  <th>  Cond. No.          </th>   <td>3.84e+09</td>  \n",
       "</tr>\n",
       "</table>"
      ],
      "text/plain": [
       "<class 'statsmodels.iolib.summary.Summary'>\n",
       "\"\"\"\n",
       "                            OLS Regression Results                            \n",
       "==============================================================================\n",
       "Dep. Variable:               logerror   R-squared:                       0.006\n",
       "Model:                            OLS   Adj. R-squared:                  0.005\n",
       "Method:                 Least Squares   F-statistic:                     19.42\n",
       "Date:                Mon, 04 Dec 2017   Prob (F-statistic):           3.05e-93\n",
       "Time:                        18:07:58   Log-Likelihood:                 36997.\n",
       "No. Observations:               90275   AIC:                        -7.394e+04\n",
       "Df Residuals:                   90247   BIC:                        -7.367e+04\n",
       "Df Model:                          27                                         \n",
       "Covariance Type:            nonrobust                                         \n",
       "================================================================================================\n",
       "                                   coef    std err          t      P>|t|      [95.0% Conf. Int.]\n",
       "------------------------------------------------------------------------------------------------\n",
       "fips                             0.0067      0.003      2.406      0.016         0.001     0.012\n",
       "bathroomcnt                     -0.0027      0.001     -2.701      0.007        -0.005    -0.001\n",
       "bedroomcnt                    9.599e-05      0.001      0.134      0.893        -0.001     0.001\n",
       "roomcnt                          0.0009      0.000      2.386      0.017         0.000     0.002\n",
       "latitude                     -3.024e-09   3.15e-09     -0.960      0.337      -9.2e-09  3.15e-09\n",
       "regionidcounty                6.876e-06   2.07e-06      3.329      0.001      2.83e-06  1.09e-05\n",
       "rawcensustractandblock       -6.556e-07   2.78e-07     -2.357      0.018      -1.2e-06  -1.1e-07\n",
       "propertylandusetypeid            0.0002      0.000      1.931      0.053     -3.55e-06     0.000\n",
       "longitude                     7.869e-09   2.84e-09      2.770      0.006       2.3e-09  1.34e-08\n",
       "poolsizesum                  -3.255e-05   1.04e-05     -3.130      0.002     -5.29e-05 -1.22e-05\n",
       "fireplacecnt                    -0.0017      0.002     -0.925      0.355        -0.005     0.002\n",
       "garagecarcnt                    -0.0003      0.002     -0.185      0.853        -0.004     0.003\n",
       "garagetotalsqft              -8.566e-06   5.21e-06     -1.644      0.100     -1.88e-05  1.65e-06\n",
       "numberofstories                 -0.0020      0.002     -0.899      0.369        -0.006     0.002\n",
       "taxamount                    -3.331e-06   2.55e-07    -13.042      0.000     -3.83e-06 -2.83e-06\n",
       "taxvaluedollarcnt              3.33e-07   4.73e-08      7.048      0.000       2.4e-07  4.26e-07\n",
       "landtaxvaluedollarcnt        -3.055e-07   4.74e-08     -6.447      0.000     -3.98e-07 -2.13e-07\n",
       "structuretaxvaluedollarcnt   -2.921e-07   4.77e-08     -6.127      0.000     -3.86e-07 -1.99e-07\n",
       "lotsizesquarefeet             6.409e-09    4.8e-09      1.334      0.182        -3e-09  1.58e-08\n",
       "calculatedfinishedsquarefeet  1.241e-05    1.2e-06     10.346      0.000      1.01e-05  1.48e-05\n",
       "buildingqualitytypeid            0.0003      0.000      0.726      0.468        -0.000     0.001\n",
       "unitcnt                         -0.0019      0.001     -2.183      0.029        -0.004    -0.000\n",
       "yearbuilt                     5.323e-05    3.3e-05      1.614      0.107     -1.14e-05     0.000\n",
       "airconditioningtypeid        -1.645e-05      0.000     -0.049      0.961        -0.001     0.001\n",
       "threequarterbathnbr              0.0286      0.015      1.909      0.056        -0.001     0.058\n",
       "heatingorsystemtypeid           -0.0008      0.000     -4.038      0.000        -0.001    -0.000\n",
       "hashottuborspa1                 -0.0151      0.004     -4.225      0.000        -0.022    -0.008\n",
       "taxdelinquencyflag1              0.0248      0.004      6.432      0.000         0.017     0.032\n",
       "==============================================================================\n",
       "Omnibus:                    66752.617   Durbin-Watson:                   1.971\n",
       "Prob(Omnibus):                  0.000   Jarque-Bera (JB):         65911147.765\n",
       "Skew:                           2.205   Prob(JB):                         0.00\n",
       "Kurtosis:                     135.300   Cond. No.                     3.84e+09\n",
       "==============================================================================\n",
       "\n",
       "Warnings:\n",
       "[1] Standard Errors assume that the covariance matrix of the errors is correctly specified.\n",
       "[2] The condition number is large, 3.84e+09. This might indicate that there are\n",
       "strong multicollinearity or other numerical problems.\n",
       "\"\"\""
      ]
     },
     "execution_count": 56,
     "metadata": {},
     "output_type": "execute_result"
    }
   ],
   "source": [
    "#OLS\n",
    "import statsmodels.api as sm\n",
    "Y=train['logerror']\n",
    "X=train_x11#.drop(['logerror'],axis=1)\n",
    "#X=sm.add_constant(X)\n",
    "\n",
    "model=sm.OLS(Y,X.astype(float))\n",
    "results=model.fit()\n",
    "results.summary()"
   ]
  },
  {
   "cell_type": "code",
   "execution_count": 57,
   "metadata": {
    "collapsed": true
   },
   "outputs": [],
   "source": [
    "#split train data\n",
    "X['logerror']=train['logerror']\n",
    "#data=X.drop(['const'],axis=1,inplace=False)\n",
    "\n",
    "from sklearn.model_selection import train_test_split\n",
    "train1, test1= train_test_split(X, test_size=0.3, random_state=42)\n",
    "train_Y1=train1['logerror']\n",
    "train_X1=train1.drop(['logerror'],axis=1,inplace=False)\n",
    "test_Y1=test1['logerror']\n",
    "test_X1=test1.drop(['logerror'],axis=1,inplace=False)"
   ]
  },
  {
   "cell_type": "code",
   "execution_count": 59,
   "metadata": {},
   "outputs": [
    {
     "name": "stdout",
     "output_type": "stream",
     "text": [
      "mean squared error is 0.1617456294597173\n",
      "R square is 0.00553308743106\n"
     ]
    },
    {
     "data": {
      "text/plain": [
       "0.06857726668211786"
      ]
     },
     "execution_count": 59,
     "metadata": {},
     "output_type": "execute_result"
    }
   ],
   "source": [
    "#ridge regression\n",
    "from sklearn.linear_model import Ridge\n",
    "from sklearn import linear_model\n",
    "from math import sqrt\n",
    "from sklearn.metrics import mean_squared_error\n",
    "from sklearn.metrics import r2_score\n",
    "from sklearn.metrics import mean_absolute_error\n",
    "\n",
    "\n",
    "reg1 = linear_model.Ridge (alpha=0.5, copy_X=True, fit_intercept=True, max_iter=None,\n",
    "      normalize=False, random_state=None, solver='auto', tol=0.001)\n",
    "reg1.fit (train_X1,train_Y1) \n",
    "reg_pred1 = reg1.predict(test_X1)\n",
    "rms4 = sqrt(mean_squared_error(test_Y1,reg_pred1))\n",
    "print('mean squared error is ' + str(rms4))\n",
    "r2_score=r2_score(test_Y1,reg_pred1)\n",
    "print('R square is '+ str(r2_score))\n",
    "mean_absolute_error(test_Y1, reg_pred1)"
   ]
  },
  {
   "cell_type": "code",
   "execution_count": 62,
   "metadata": {},
   "outputs": [
    {
     "name": "stdout",
     "output_type": "stream",
     "text": [
      "MSE: 0.0261\n"
     ]
    },
    {
     "data": {
      "text/plain": [
       "0.068437920318469958"
      ]
     },
     "execution_count": 62,
     "metadata": {},
     "output_type": "execute_result"
    }
   ],
   "source": [
    "from sklearn.ensemble import RandomForestClassifier\n",
    "from sklearn.datasets import make_classification\n",
    "from sklearn.ensemble import RandomForestRegressor\n",
    "from sklearn.metrics import mean_squared_error\n",
    "\n",
    "from sklearn import ensemble\n",
    "\n",
    "params = {'n_estimators': 350, 'max_depth': 5,\n",
    "          'learning_rate': 0.01}\n",
    "clf1_2 = ensemble.GradientBoostingRegressor(**params)\n",
    "\n",
    "clf1_2.fit(train_X1, train_Y1)\n",
    "mse1_2 = mean_squared_error(test_Y1, clf1_2.predict(test_X1))\n",
    "print(\"MSE: %.4f\" % mse1_2)\n",
    "mean_absolute_error(test_Y1, clf1_2.predict(test_X1))"
   ]
  },
  {
   "cell_type": "code",
   "execution_count": null,
   "metadata": {
    "collapsed": true
   },
   "outputs": [],
   "source": []
  },
  {
   "cell_type": "markdown",
   "metadata": {},
   "source": [
    "Step 2:"
   ]
  },
  {
   "cell_type": "code",
   "execution_count": 63,
   "metadata": {
    "collapsed": true
   },
   "outputs": [],
   "source": [
    "train_x=train.drop(['parcelid','logerror'],axis=1,inplace=False)"
   ]
  },
  {
   "cell_type": "code",
   "execution_count": 64,
   "metadata": {
    "collapsed": true
   },
   "outputs": [],
   "source": [
    "train_x2=train_x.drop(['finishedsquarefeet12','finishedsquarefeet6','finishedsquarefeet13','finishedsquarefeet15','finishedsquarefeet50','finishedfloor1squarefeet','storytypeid','basementsqft','yardbuildingsqft26','fireplaceflag','architecturalstyletypeid','typeconstructiontypeid','decktypeid','yardbuildingsqft17','censustractandblock','pooltypeid2','pooltypeid10','poolcnt','assessmentyear','transactiondate','calculatedbathnbr','fullbathcnt'],axis=1)"
   ]
  },
  {
   "cell_type": "code",
   "execution_count": 65,
   "metadata": {
    "collapsed": true
   },
   "outputs": [],
   "source": [
    "train_x2_2=train_x2[['fips','bathroomcnt','bedroomcnt','roomcnt','latitude','regionidcounty','rawcensustractandblock','propertylandusetypeid','longitude']]"
   ]
  },
  {
   "cell_type": "code",
   "execution_count": 66,
   "metadata": {
    "collapsed": true
   },
   "outputs": [],
   "source": [
    "train_x3=train_x2[['poolsizesum','hashottuborspa','taxdelinquencyflag','fireplacecnt','garagecarcnt','garagetotalsqft']].fillna(0)"
   ]
  },
  {
   "cell_type": "code",
   "execution_count": 67,
   "metadata": {
    "collapsed": true
   },
   "outputs": [],
   "source": [
    "train_x4=train_x2[['numberofstories']].fillna(1)"
   ]
  },
  {
   "cell_type": "code",
   "execution_count": 68,
   "metadata": {
    "collapsed": true
   },
   "outputs": [],
   "source": [
    "train_x5=train_x2[['taxamount','taxvaluedollarcnt','landtaxvaluedollarcnt','structuretaxvaluedollarcnt']].fillna(np.mean(train_x2[['taxamount','taxvaluedollarcnt','landtaxvaluedollarcnt','structuretaxvaluedollarcnt']]))"
   ]
  },
  {
   "cell_type": "code",
   "execution_count": 69,
   "metadata": {
    "collapsed": true
   },
   "outputs": [],
   "source": [
    "train_x6=train_x2[['airconditioningtypeid']].fillna(1)"
   ]
  },
  {
   "cell_type": "code",
   "execution_count": 70,
   "metadata": {
    "collapsed": true
   },
   "outputs": [],
   "source": [
    "train_x7=train_x2[['threequarterbathnbr']].fillna(1)"
   ]
  },
  {
   "cell_type": "code",
   "execution_count": 71,
   "metadata": {
    "collapsed": true
   },
   "outputs": [],
   "source": [
    "train_x8=train_x2[['heatingorsystemtypeid']].fillna(2)"
   ]
  },
  {
   "cell_type": "code",
   "execution_count": 72,
   "metadata": {
    "collapsed": true
   },
   "outputs": [],
   "source": [
    "from sklearn.neighbors import KNeighborsRegressor\n",
    "from sklearn.preprocessing import OneHotEncoder\n",
    "from sklearn.preprocessing import StandardScaler\n",
    "from sklearn.preprocessing import LabelEncoder\n",
    "from sklearn import neighbors\n"
   ]
  },
  {
   "cell_type": "code",
   "execution_count": 73,
   "metadata": {
    "collapsed": true
   },
   "outputs": [],
   "source": [
    "def fillna_knn( df, base, target, fraction = 1, threshold = 10, n_neighbors = 5 ):\n",
    "    assert isinstance( base , list ) or isinstance( base , np.ndarray ) and isinstance( target, str ) \n",
    "    whole = [ target ] + base\n",
    "    \n",
    "    miss = df[target].isnull()\n",
    "    notmiss = ~miss \n",
    "    nummiss = miss.sum()\n",
    "    \n",
    "    enc = OneHotEncoder()\n",
    "    X_target = df.loc[ notmiss, whole ].sample( frac = fraction )\n",
    "    \n",
    "    enc.fit( X_target[ target ].unique().reshape( (-1,1) ) )\n",
    "    \n",
    "    Y = enc.transform( X_target[ target ].values.reshape((-1,1)) ).toarray()\n",
    "    X = X_target[ base  ]\n",
    "    \n",
    "    print( 'fitting' )\n",
    "    n_neighbors = n_neighbors\n",
    "    clf = neighbors.KNeighborsClassifier( n_neighbors, weights = 'uniform' )\n",
    "    clf.fit( X, Y )\n",
    "    \n",
    "    print( 'the shape of active features: ' ,enc.active_features_.shape )\n",
    "    \n",
    "    print( 'predicting' )\n",
    "    Z = clf.predict(df.loc[miss, base])\n",
    "    \n",
    "    numunperdicted = Z[:,0].sum()\n",
    "    if numunperdicted / nummiss *100 < threshold :\n",
    "        print( 'writing result to df' )    \n",
    "        df.loc[ miss, target ]  = np.dot( Z , enc.active_features_ )\n",
    "        print( 'num of unperdictable data: ', numunperdicted )\n",
    "        return enc\n",
    "    else:\n",
    "        print( 'out of threshold: {}% > {}%'.format( numunperdicted / nummiss *100 , threshold ) )\n",
    "\n",
    "#function to deal with variables that are actually string/categories\n",
    "def zoningcode2int( df, target ):\n",
    "    storenull = df[ target ].isnull()\n",
    "    enc = LabelEncoder( )\n",
    "    df[ target ] = df[ target ].astype( str )\n",
    "\n",
    "    print('fit and transform')\n",
    "    df[ target ]= enc.fit_transform( df[ target ].values )\n",
    "    print( 'num of categories: ', enc.classes_.shape  )\n",
    "    df.loc[ storenull, target ] = np.nan\n",
    "    print('recover the nan value')\n",
    "    return enc"
   ]
  },
  {
   "cell_type": "code",
   "execution_count": 74,
   "metadata": {},
   "outputs": [
    {
     "name": "stdout",
     "output_type": "stream",
     "text": [
      "fitting\n",
      "the shape of active features:  (8,)\n",
      "predicting\n",
      "writing result to df\n",
      "num of unperdictable data:  1324.0\n"
     ]
    },
    {
     "data": {
      "text/plain": [
       "OneHotEncoder(categorical_features='all', dtype=<class 'numpy.float64'>,\n",
       "       handle_unknown='error', n_values='auto', sparse=True)"
      ]
     },
     "execution_count": 74,
     "metadata": {},
     "output_type": "execute_result"
    }
   ],
   "source": [
    "fillna_knn( df = train_x2,\n",
    "                  base = [ 'latitude', 'longitude' ] ,\n",
    "                  target = 'buildingqualitytypeid', fraction = 1, n_neighbors = 3 )\n"
   ]
  },
  {
   "cell_type": "code",
   "execution_count": 75,
   "metadata": {},
   "outputs": [
    {
     "name": "stdout",
     "output_type": "stream",
     "text": [
      "fitting\n",
      "the shape of active features:  (20016,)\n",
      "predicting\n",
      "writing result to df\n",
      "num of unperdictable data:  0.0\n"
     ]
    },
    {
     "data": {
      "text/plain": [
       "OneHotEncoder(categorical_features='all', dtype=<class 'numpy.float64'>,\n",
       "       handle_unknown='error', n_values='auto', sparse=True)"
      ]
     },
     "execution_count": 75,
     "metadata": {},
     "output_type": "execute_result"
    }
   ],
   "source": [
    "fillna_knn( df = train_x2,\n",
    "                  base = [ 'latitude', 'longitude' ] ,\n",
    "                  target = 'lotsizesquarefeet', fraction = 1, n_neighbors = 3 )\n"
   ]
  },
  {
   "cell_type": "code",
   "execution_count": 76,
   "metadata": {},
   "outputs": [
    {
     "name": "stdout",
     "output_type": "stream",
     "text": [
      "fitting\n",
      "the shape of active features:  (5102,)\n",
      "predicting\n",
      "writing result to df\n",
      "num of unperdictable data:  0.0\n"
     ]
    },
    {
     "data": {
      "text/plain": [
       "OneHotEncoder(categorical_features='all', dtype=<class 'numpy.float64'>,\n",
       "       handle_unknown='error', n_values='auto', sparse=True)"
      ]
     },
     "execution_count": 76,
     "metadata": {},
     "output_type": "execute_result"
    }
   ],
   "source": [
    "fillna_knn( df = train_x2,\n",
    "                  base = ['bedroomcnt','bathroomcnt' ] ,\n",
    "                  target = 'calculatedfinishedsquarefeet', fraction = 1, n_neighbors = 3 )\n"
   ]
  },
  {
   "cell_type": "code",
   "execution_count": 77,
   "metadata": {},
   "outputs": [
    {
     "name": "stdout",
     "output_type": "stream",
     "text": [
      "fit and transform\n",
      "num of categories:  (78,)\n",
      "recover the nan value\n",
      "fitting\n",
      "the shape of active features:  (77,)\n",
      "predicting\n",
      "writing result to df\n",
      "num of unperdictable data:  0.0\n"
     ]
    },
    {
     "data": {
      "text/plain": [
       "OneHotEncoder(categorical_features='all', dtype=<class 'numpy.float64'>,\n",
       "       handle_unknown='error', n_values='auto', sparse=True)"
      ]
     },
     "execution_count": 77,
     "metadata": {},
     "output_type": "execute_result"
    }
   ],
   "source": [
    "zoningcode2int( df = train_x2,\n",
    "                            target = 'propertycountylandusecode' )\n",
    "fillna_knn( df = train_x2,\n",
    "                  base = [ 'latitude', 'longitude' ] ,\n",
    "                  target = 'propertycountylandusecode', fraction = 1, n_neighbors = 3 )\n"
   ]
  },
  {
   "cell_type": "code",
   "execution_count": 78,
   "metadata": {},
   "outputs": [
    {
     "name": "stdout",
     "output_type": "stream",
     "text": [
      "fit and transform\n",
      "num of categories:  (1997,)\n",
      "recover the nan value\n",
      "fitting\n",
      "the shape of active features:  (1996,)\n",
      "predicting\n",
      "writing result to df\n",
      "num of unperdictable data:  0.0\n"
     ]
    },
    {
     "data": {
      "text/plain": [
       "OneHotEncoder(categorical_features='all', dtype=<class 'numpy.float64'>,\n",
       "       handle_unknown='error', n_values='auto', sparse=True)"
      ]
     },
     "execution_count": 78,
     "metadata": {},
     "output_type": "execute_result"
    }
   ],
   "source": [
    "zoningcode2int( df = train_x2,\n",
    "                            target = 'propertyzoningdesc' )\n",
    "\n",
    "fillna_knn( df = train_x2,\n",
    "                  base = [ 'latitude', 'longitude' ] ,\n",
    "                  target = 'propertyzoningdesc', fraction = 1, n_neighbors = 3 )\n"
   ]
  },
  {
   "cell_type": "code",
   "execution_count": 79,
   "metadata": {},
   "outputs": [
    {
     "name": "stdout",
     "output_type": "stream",
     "text": [
      "fitting\n",
      "the shape of active features:  (177,)\n",
      "predicting\n",
      "writing result to df\n",
      "num of unperdictable data:  2.0\n"
     ]
    },
    {
     "data": {
      "text/plain": [
       "OneHotEncoder(categorical_features='all', dtype=<class 'numpy.float64'>,\n",
       "       handle_unknown='error', n_values='auto', sparse=True)"
      ]
     },
     "execution_count": 79,
     "metadata": {},
     "output_type": "execute_result"
    }
   ],
   "source": [
    "fillna_knn( df = train_x2,\n",
    "                  base = [ 'latitude', 'longitude' ] ,\n",
    "                  target = 'regionidcity', fraction = 1, n_neighbors = 3 )"
   ]
  },
  {
   "cell_type": "code",
   "execution_count": 80,
   "metadata": {},
   "outputs": [
    {
     "name": "stdout",
     "output_type": "stream",
     "text": [
      "fitting\n",
      "the shape of active features:  (494,)\n",
      "predicting\n",
      "writing result to df\n",
      "num of unperdictable data:  189.0\n"
     ]
    },
    {
     "data": {
      "text/plain": [
       "OneHotEncoder(categorical_features='all', dtype=<class 'numpy.float64'>,\n",
       "       handle_unknown='error', n_values='auto', sparse=True)"
      ]
     },
     "execution_count": 80,
     "metadata": {},
     "output_type": "execute_result"
    }
   ],
   "source": [
    "fillna_knn( df = train_x2,\n",
    "                  base = [ 'latitude', 'longitude' ] ,\n",
    "                  target = 'regionidneighborhood', fraction = 1, n_neighbors = 3 )\n"
   ]
  },
  {
   "cell_type": "code",
   "execution_count": 81,
   "metadata": {},
   "outputs": [
    {
     "name": "stdout",
     "output_type": "stream",
     "text": [
      "fitting\n",
      "the shape of active features:  (388,)\n",
      "predicting\n",
      "writing result to df\n",
      "num of unperdictable data:  0.0\n"
     ]
    },
    {
     "data": {
      "text/plain": [
       "OneHotEncoder(categorical_features='all', dtype=<class 'numpy.float64'>,\n",
       "       handle_unknown='error', n_values='auto', sparse=True)"
      ]
     },
     "execution_count": 81,
     "metadata": {},
     "output_type": "execute_result"
    }
   ],
   "source": [
    "fillna_knn( df = train_x2,\n",
    "                  base = [ 'latitude', 'longitude' ] ,\n",
    "                  target = 'regionidzip', fraction = 1, n_neighbors = 3 )\n"
   ]
  },
  {
   "cell_type": "code",
   "execution_count": 82,
   "metadata": {},
   "outputs": [
    {
     "name": "stdout",
     "output_type": "stream",
     "text": [
      "fitting\n",
      "the shape of active features:  (10,)\n",
      "predicting\n",
      "writing result to df\n",
      "num of unperdictable data:  2560.0\n"
     ]
    },
    {
     "data": {
      "text/plain": [
       "OneHotEncoder(categorical_features='all', dtype=<class 'numpy.float64'>,\n",
       "       handle_unknown='error', n_values='auto', sparse=True)"
      ]
     },
     "execution_count": 82,
     "metadata": {},
     "output_type": "execute_result"
    }
   ],
   "source": [
    "fillna_knn( df = train_x2,\n",
    "                  base = [ 'latitude', 'longitude' ] ,\n",
    "                  target = 'unitcnt', fraction = 1, n_neighbors = 3 )\n"
   ]
  },
  {
   "cell_type": "code",
   "execution_count": 83,
   "metadata": {},
   "outputs": [
    {
     "name": "stdout",
     "output_type": "stream",
     "text": [
      "fitting\n",
      "the shape of active features:  (130,)\n",
      "predicting\n",
      "writing result to df\n",
      "num of unperdictable data:  0.0\n"
     ]
    },
    {
     "data": {
      "text/plain": [
       "OneHotEncoder(categorical_features='all', dtype=<class 'numpy.float64'>,\n",
       "       handle_unknown='error', n_values='auto', sparse=True)"
      ]
     },
     "execution_count": 83,
     "metadata": {},
     "output_type": "execute_result"
    }
   ],
   "source": [
    "fillna_knn( df = train_x2,\n",
    "                  base = [ 'latitude', 'longitude' ] ,\n",
    "                  target = 'yearbuilt', fraction = 1, n_neighbors = 3 )\n"
   ]
  },
  {
   "cell_type": "code",
   "execution_count": 84,
   "metadata": {},
   "outputs": [],
   "source": [
    "train_x2_3=train_x2[['fips','bathroomcnt','bedroomcnt','roomcnt','unitcnt','latitude','regionidcounty','rawcensustractandblock','propertylandusetypeid','longitude','buildingqualitytypeid','lotsizesquarefeet','yearbuilt','calculatedfinishedsquarefeet','regionidneighborhood','regionidzip','regionidcity','propertyzoningdesc','propertycountylandusecode']]"
   ]
  },
  {
   "cell_type": "code",
   "execution_count": 85,
   "metadata": {},
   "outputs": [
    {
     "data": {
      "text/plain": [
       "fips                            0\n",
       "bathroomcnt                     0\n",
       "bedroomcnt                      0\n",
       "roomcnt                         0\n",
       "unitcnt                         0\n",
       "latitude                        0\n",
       "regionidcounty                  0\n",
       "rawcensustractandblock          0\n",
       "propertylandusetypeid           0\n",
       "longitude                       0\n",
       "buildingqualitytypeid           0\n",
       "lotsizesquarefeet               0\n",
       "yearbuilt                       0\n",
       "calculatedfinishedsquarefeet    0\n",
       "regionidneighborhood            0\n",
       "regionidzip                     0\n",
       "regionidcity                    0\n",
       "propertyzoningdesc              0\n",
       "propertycountylandusecode       0\n",
       "dtype: int64"
      ]
     },
     "execution_count": 85,
     "metadata": {},
     "output_type": "execute_result"
    }
   ],
   "source": [
    "train_x2_3.isnull().sum()"
   ]
  },
  {
   "cell_type": "code",
   "execution_count": 86,
   "metadata": {
    "scrolled": false
   },
   "outputs": [],
   "source": [
    "train_x9=pd.concat([train_x2_3,train_x3,train_x4,train_x5,train_x6,train_x7,train_x8],axis=1)"
   ]
  },
  {
   "cell_type": "code",
   "execution_count": 87,
   "metadata": {
    "scrolled": true
   },
   "outputs": [
    {
     "name": "stdout",
     "output_type": "stream",
     "text": [
      "<class 'pandas.core.frame.DataFrame'>\n",
      "Int64Index: 90275 entries, 0 to 90274\n",
      "Data columns (total 33 columns):\n",
      "fips                            90275 non-null float64\n",
      "bathroomcnt                     90275 non-null float64\n",
      "bedroomcnt                      90275 non-null float64\n",
      "roomcnt                         90275 non-null float64\n",
      "unitcnt                         90275 non-null float64\n",
      "latitude                        90275 non-null float64\n",
      "regionidcounty                  90275 non-null float64\n",
      "rawcensustractandblock          90275 non-null float64\n",
      "propertylandusetypeid           90275 non-null float64\n",
      "longitude                       90275 non-null float64\n",
      "buildingqualitytypeid           90275 non-null float64\n",
      "lotsizesquarefeet               90275 non-null float64\n",
      "yearbuilt                       90275 non-null float64\n",
      "calculatedfinishedsquarefeet    90275 non-null float64\n",
      "regionidneighborhood            90275 non-null float64\n",
      "regionidzip                     90275 non-null float64\n",
      "regionidcity                    90275 non-null float64\n",
      "propertyzoningdesc              90275 non-null float64\n",
      "propertycountylandusecode       90275 non-null float64\n",
      "poolsizesum                     90275 non-null float64\n",
      "hashottuborspa                  90275 non-null object\n",
      "taxdelinquencyflag              90275 non-null object\n",
      "fireplacecnt                    90275 non-null float64\n",
      "garagecarcnt                    90275 non-null float64\n",
      "garagetotalsqft                 90275 non-null float64\n",
      "numberofstories                 90275 non-null float64\n",
      "taxamount                       90275 non-null float64\n",
      "taxvaluedollarcnt               90275 non-null float64\n",
      "landtaxvaluedollarcnt           90275 non-null float64\n",
      "structuretaxvaluedollarcnt      90275 non-null float64\n",
      "airconditioningtypeid           90275 non-null float64\n",
      "threequarterbathnbr             90275 non-null float64\n",
      "heatingorsystemtypeid           90275 non-null float64\n",
      "dtypes: float64(31), object(2)\n",
      "memory usage: 23.4+ MB\n"
     ]
    }
   ],
   "source": [
    "train_x9.info()"
   ]
  },
  {
   "cell_type": "code",
   "execution_count": 88,
   "metadata": {},
   "outputs": [],
   "source": [
    "train_x9['hashottuborspa1']=train_x9['hashottuborspa'].replace({True:1},inplace=False)\n",
    "train_x10=train_x9.drop(['hashottuborspa'],axis=1,inplace=False)"
   ]
  },
  {
   "cell_type": "code",
   "execution_count": 89,
   "metadata": {},
   "outputs": [],
   "source": [
    "train_x10['taxdelinquencyflag1']=train_x10['taxdelinquencyflag'].replace({'Y':1},inplace=False)\n",
    "train_x11=train_x10.drop(['taxdelinquencyflag'],axis=1,inplace=False)"
   ]
  },
  {
   "cell_type": "code",
   "execution_count": 90,
   "metadata": {
    "scrolled": true
   },
   "outputs": [
    {
     "name": "stdout",
     "output_type": "stream",
     "text": [
      "<class 'pandas.core.frame.DataFrame'>\n",
      "Int64Index: 90275 entries, 0 to 90274\n",
      "Data columns (total 33 columns):\n",
      "fips                            90275 non-null float64\n",
      "bathroomcnt                     90275 non-null float64\n",
      "bedroomcnt                      90275 non-null float64\n",
      "roomcnt                         90275 non-null float64\n",
      "unitcnt                         90275 non-null float64\n",
      "latitude                        90275 non-null float64\n",
      "regionidcounty                  90275 non-null float64\n",
      "rawcensustractandblock          90275 non-null float64\n",
      "propertylandusetypeid           90275 non-null float64\n",
      "longitude                       90275 non-null float64\n",
      "buildingqualitytypeid           90275 non-null float64\n",
      "lotsizesquarefeet               90275 non-null float64\n",
      "yearbuilt                       90275 non-null float64\n",
      "calculatedfinishedsquarefeet    90275 non-null float64\n",
      "regionidneighborhood            90275 non-null float64\n",
      "regionidzip                     90275 non-null float64\n",
      "regionidcity                    90275 non-null float64\n",
      "propertyzoningdesc              90275 non-null float64\n",
      "propertycountylandusecode       90275 non-null float64\n",
      "poolsizesum                     90275 non-null float64\n",
      "fireplacecnt                    90275 non-null float64\n",
      "garagecarcnt                    90275 non-null float64\n",
      "garagetotalsqft                 90275 non-null float64\n",
      "numberofstories                 90275 non-null float64\n",
      "taxamount                       90275 non-null float64\n",
      "taxvaluedollarcnt               90275 non-null float64\n",
      "landtaxvaluedollarcnt           90275 non-null float64\n",
      "structuretaxvaluedollarcnt      90275 non-null float64\n",
      "airconditioningtypeid           90275 non-null float64\n",
      "threequarterbathnbr             90275 non-null float64\n",
      "heatingorsystemtypeid           90275 non-null float64\n",
      "hashottuborspa1                 90275 non-null int64\n",
      "taxdelinquencyflag1             90275 non-null int64\n",
      "dtypes: float64(31), int64(2)\n",
      "memory usage: 23.4 MB\n"
     ]
    }
   ],
   "source": [
    "train_x11.info()"
   ]
  },
  {
   "cell_type": "code",
   "execution_count": 91,
   "metadata": {
    "scrolled": true
   },
   "outputs": [
    {
     "data": {
      "text/html": [
       "<table class=\"simpletable\">\n",
       "<caption>OLS Regression Results</caption>\n",
       "<tr>\n",
       "  <th>Dep. Variable:</th>        <td>logerror</td>     <th>  R-squared:         </th>  <td>   0.006</td> \n",
       "</tr>\n",
       "<tr>\n",
       "  <th>Model:</th>                   <td>OLS</td>       <th>  Adj. R-squared:    </th>  <td>   0.006</td> \n",
       "</tr>\n",
       "<tr>\n",
       "  <th>Method:</th>             <td>Least Squares</td>  <th>  F-statistic:       </th>  <td>   17.76</td> \n",
       "</tr>\n",
       "<tr>\n",
       "  <th>Date:</th>             <td>Mon, 04 Dec 2017</td> <th>  Prob (F-statistic):</th>  <td>4.69e-99</td> \n",
       "</tr>\n",
       "<tr>\n",
       "  <th>Time:</th>                 <td>18:38:29</td>     <th>  Log-Likelihood:    </th>  <td>  37019.</td> \n",
       "</tr>\n",
       "<tr>\n",
       "  <th>No. Observations:</th>      <td> 90275</td>      <th>  AIC:               </th> <td>-7.397e+04</td>\n",
       "</tr>\n",
       "<tr>\n",
       "  <th>Df Residuals:</th>          <td> 90242</td>      <th>  BIC:               </th> <td>-7.366e+04</td>\n",
       "</tr>\n",
       "<tr>\n",
       "  <th>Df Model:</th>              <td>    32</td>      <th>                     </th>      <td> </td>    \n",
       "</tr>\n",
       "<tr>\n",
       "  <th>Covariance Type:</th>      <td>nonrobust</td>    <th>                     </th>      <td> </td>    \n",
       "</tr>\n",
       "</table>\n",
       "<table class=\"simpletable\">\n",
       "<tr>\n",
       "                <td></td>                  <th>coef</th>     <th>std err</th>      <th>t</th>      <th>P>|t|</th> <th>[95.0% Conf. Int.]</th> \n",
       "</tr>\n",
       "<tr>\n",
       "  <th>fips</th>                         <td>    0.0031</td> <td>    0.003</td> <td>    1.054</td> <td> 0.292</td> <td>   -0.003     0.009</td>\n",
       "</tr>\n",
       "<tr>\n",
       "  <th>bathroomcnt</th>                  <td>   -0.0009</td> <td>    0.001</td> <td>   -0.938</td> <td> 0.348</td> <td>   -0.003     0.001</td>\n",
       "</tr>\n",
       "<tr>\n",
       "  <th>bedroomcnt</th>                   <td>-8.597e-05</td> <td>    0.001</td> <td>   -0.120</td> <td> 0.904</td> <td>   -0.001     0.001</td>\n",
       "</tr>\n",
       "<tr>\n",
       "  <th>roomcnt</th>                      <td>    0.0009</td> <td>    0.000</td> <td>    2.256</td> <td> 0.024</td> <td>    0.000     0.002</td>\n",
       "</tr>\n",
       "<tr>\n",
       "  <th>unitcnt</th>                      <td>   -0.0006</td> <td>    0.001</td> <td>   -1.031</td> <td> 0.302</td> <td>   -0.002     0.001</td>\n",
       "</tr>\n",
       "<tr>\n",
       "  <th>latitude</th>                     <td>-9.581e-10</td> <td> 3.23e-09</td> <td>   -0.297</td> <td> 0.766</td> <td>-7.28e-09  5.36e-09</td>\n",
       "</tr>\n",
       "<tr>\n",
       "  <th>regionidcounty</th>               <td> 2.137e-07</td> <td> 2.96e-06</td> <td>    0.072</td> <td> 0.942</td> <td>-5.58e-06  6.01e-06</td>\n",
       "</tr>\n",
       "<tr>\n",
       "  <th>rawcensustractandblock</th>       <td>-2.952e-07</td> <td> 2.96e-07</td> <td>   -0.998</td> <td> 0.319</td> <td>-8.75e-07  2.85e-07</td>\n",
       "</tr>\n",
       "<tr>\n",
       "  <th>propertylandusetypeid</th>        <td>    0.0003</td> <td>    0.000</td> <td>    2.454</td> <td> 0.014</td> <td> 6.19e-05     0.001</td>\n",
       "</tr>\n",
       "<tr>\n",
       "  <th>longitude</th>                    <td> 8.341e-09</td> <td> 3.07e-09</td> <td>    2.718</td> <td> 0.007</td> <td> 2.33e-09  1.44e-08</td>\n",
       "</tr>\n",
       "<tr>\n",
       "  <th>buildingqualitytypeid</th>        <td>    0.0004</td> <td>    0.000</td> <td>    1.337</td> <td> 0.181</td> <td>   -0.000     0.001</td>\n",
       "</tr>\n",
       "<tr>\n",
       "  <th>lotsizesquarefeet</th>            <td> 8.241e-09</td> <td> 4.81e-09</td> <td>    1.714</td> <td> 0.087</td> <td>-1.18e-09  1.77e-08</td>\n",
       "</tr>\n",
       "<tr>\n",
       "  <th>yearbuilt</th>                    <td> -2.73e-05</td> <td> 4.95e-06</td> <td>   -5.512</td> <td> 0.000</td> <td> -3.7e-05 -1.76e-05</td>\n",
       "</tr>\n",
       "<tr>\n",
       "  <th>calculatedfinishedsquarefeet</th> <td> 1.129e-05</td> <td> 1.19e-06</td> <td>    9.481</td> <td> 0.000</td> <td> 8.95e-06  1.36e-05</td>\n",
       "</tr>\n",
       "<tr>\n",
       "  <th>regionidneighborhood</th>         <td> 2.161e-09</td> <td> 2.36e-09</td> <td>    0.915</td> <td> 0.360</td> <td>-2.47e-09  6.79e-09</td>\n",
       "</tr>\n",
       "<tr>\n",
       "  <th>regionidzip</th>                  <td>-3.797e-07</td> <td> 1.47e-07</td> <td>   -2.587</td> <td> 0.010</td> <td>-6.67e-07  -9.2e-08</td>\n",
       "</tr>\n",
       "<tr>\n",
       "  <th>regionidcity</th>                 <td>-6.782e-09</td> <td> 1.17e-08</td> <td>   -0.579</td> <td> 0.562</td> <td>-2.97e-08  1.62e-08</td>\n",
       "</tr>\n",
       "<tr>\n",
       "  <th>propertyzoningdesc</th>           <td>-2.521e-06</td> <td> 1.29e-06</td> <td>   -1.947</td> <td> 0.051</td> <td>-5.06e-06  1.63e-08</td>\n",
       "</tr>\n",
       "<tr>\n",
       "  <th>propertycountylandusecode</th>    <td>   -0.0002</td> <td>  7.9e-05</td> <td>   -2.111</td> <td> 0.035</td> <td>   -0.000 -1.19e-05</td>\n",
       "</tr>\n",
       "<tr>\n",
       "  <th>poolsizesum</th>                  <td>-3.068e-05</td> <td> 1.05e-05</td> <td>   -2.936</td> <td> 0.003</td> <td>-5.12e-05 -1.02e-05</td>\n",
       "</tr>\n",
       "<tr>\n",
       "  <th>fireplacecnt</th>                 <td>   -0.0013</td> <td>    0.002</td> <td>   -0.695</td> <td> 0.487</td> <td>   -0.005     0.002</td>\n",
       "</tr>\n",
       "<tr>\n",
       "  <th>garagecarcnt</th>                 <td>    0.0009</td> <td>    0.002</td> <td>    0.526</td> <td> 0.599</td> <td>   -0.002     0.004</td>\n",
       "</tr>\n",
       "<tr>\n",
       "  <th>garagetotalsqft</th>              <td>-1.255e-05</td> <td> 5.51e-06</td> <td>   -2.277</td> <td> 0.023</td> <td>-2.34e-05 -1.75e-06</td>\n",
       "</tr>\n",
       "<tr>\n",
       "  <th>numberofstories</th>              <td>   -0.0016</td> <td>    0.002</td> <td>   -0.742</td> <td> 0.458</td> <td>   -0.006     0.003</td>\n",
       "</tr>\n",
       "<tr>\n",
       "  <th>taxamount</th>                    <td> -3.41e-06</td> <td> 2.56e-07</td> <td>  -13.308</td> <td> 0.000</td> <td>-3.91e-06 -2.91e-06</td>\n",
       "</tr>\n",
       "<tr>\n",
       "  <th>taxvaluedollarcnt</th>            <td> 4.135e-07</td> <td> 4.94e-08</td> <td>    8.373</td> <td> 0.000</td> <td> 3.17e-07   5.1e-07</td>\n",
       "</tr>\n",
       "<tr>\n",
       "  <th>landtaxvaluedollarcnt</th>        <td>-3.858e-07</td> <td> 4.95e-08</td> <td>   -7.792</td> <td> 0.000</td> <td>-4.83e-07 -2.89e-07</td>\n",
       "</tr>\n",
       "<tr>\n",
       "  <th>structuretaxvaluedollarcnt</th>   <td>-3.701e-07</td> <td> 4.99e-08</td> <td>   -7.423</td> <td> 0.000</td> <td>-4.68e-07 -2.72e-07</td>\n",
       "</tr>\n",
       "<tr>\n",
       "  <th>airconditioningtypeid</th>        <td>-1.091e-05</td> <td>    0.000</td> <td>   -0.033</td> <td> 0.974</td> <td>   -0.001     0.001</td>\n",
       "</tr>\n",
       "<tr>\n",
       "  <th>threequarterbathnbr</th>          <td>    0.0280</td> <td>    0.015</td> <td>    1.871</td> <td> 0.061</td> <td>   -0.001     0.057</td>\n",
       "</tr>\n",
       "<tr>\n",
       "  <th>heatingorsystemtypeid</th>        <td>   -0.0008</td> <td>    0.000</td> <td>   -4.344</td> <td> 0.000</td> <td>   -0.001    -0.000</td>\n",
       "</tr>\n",
       "<tr>\n",
       "  <th>hashottuborspa1</th>              <td>   -0.0147</td> <td>    0.004</td> <td>   -4.099</td> <td> 0.000</td> <td>   -0.022    -0.008</td>\n",
       "</tr>\n",
       "<tr>\n",
       "  <th>taxdelinquencyflag1</th>          <td>    0.0244</td> <td>    0.004</td> <td>    6.322</td> <td> 0.000</td> <td>    0.017     0.032</td>\n",
       "</tr>\n",
       "</table>\n",
       "<table class=\"simpletable\">\n",
       "<tr>\n",
       "  <th>Omnibus:</th>       <td>66633.519</td> <th>  Durbin-Watson:     </th>   <td>   1.971</td>  \n",
       "</tr>\n",
       "<tr>\n",
       "  <th>Prob(Omnibus):</th>  <td> 0.000</td>   <th>  Jarque-Bera (JB):  </th> <td>65906674.194</td>\n",
       "</tr>\n",
       "<tr>\n",
       "  <th>Skew:</th>           <td> 2.197</td>   <th>  Prob(JB):          </th>   <td>    0.00</td>  \n",
       "</tr>\n",
       "<tr>\n",
       "  <th>Kurtosis:</th>       <td>135.296</td>  <th>  Cond. No.          </th>   <td>3.84e+09</td>  \n",
       "</tr>\n",
       "</table>"
      ],
      "text/plain": [
       "<class 'statsmodels.iolib.summary.Summary'>\n",
       "\"\"\"\n",
       "                            OLS Regression Results                            \n",
       "==============================================================================\n",
       "Dep. Variable:               logerror   R-squared:                       0.006\n",
       "Model:                            OLS   Adj. R-squared:                  0.006\n",
       "Method:                 Least Squares   F-statistic:                     17.76\n",
       "Date:                Mon, 04 Dec 2017   Prob (F-statistic):           4.69e-99\n",
       "Time:                        18:38:29   Log-Likelihood:                 37019.\n",
       "No. Observations:               90275   AIC:                        -7.397e+04\n",
       "Df Residuals:                   90242   BIC:                        -7.366e+04\n",
       "Df Model:                          32                                         \n",
       "Covariance Type:            nonrobust                                         \n",
       "================================================================================================\n",
       "                                   coef    std err          t      P>|t|      [95.0% Conf. Int.]\n",
       "------------------------------------------------------------------------------------------------\n",
       "fips                             0.0031      0.003      1.054      0.292        -0.003     0.009\n",
       "bathroomcnt                     -0.0009      0.001     -0.938      0.348        -0.003     0.001\n",
       "bedroomcnt                   -8.597e-05      0.001     -0.120      0.904        -0.001     0.001\n",
       "roomcnt                          0.0009      0.000      2.256      0.024         0.000     0.002\n",
       "unitcnt                         -0.0006      0.001     -1.031      0.302        -0.002     0.001\n",
       "latitude                     -9.581e-10   3.23e-09     -0.297      0.766     -7.28e-09  5.36e-09\n",
       "regionidcounty                2.137e-07   2.96e-06      0.072      0.942     -5.58e-06  6.01e-06\n",
       "rawcensustractandblock       -2.952e-07   2.96e-07     -0.998      0.319     -8.75e-07  2.85e-07\n",
       "propertylandusetypeid            0.0003      0.000      2.454      0.014      6.19e-05     0.001\n",
       "longitude                     8.341e-09   3.07e-09      2.718      0.007      2.33e-09  1.44e-08\n",
       "buildingqualitytypeid            0.0004      0.000      1.337      0.181        -0.000     0.001\n",
       "lotsizesquarefeet             8.241e-09   4.81e-09      1.714      0.087     -1.18e-09  1.77e-08\n",
       "yearbuilt                     -2.73e-05   4.95e-06     -5.512      0.000      -3.7e-05 -1.76e-05\n",
       "calculatedfinishedsquarefeet  1.129e-05   1.19e-06      9.481      0.000      8.95e-06  1.36e-05\n",
       "regionidneighborhood          2.161e-09   2.36e-09      0.915      0.360     -2.47e-09  6.79e-09\n",
       "regionidzip                  -3.797e-07   1.47e-07     -2.587      0.010     -6.67e-07  -9.2e-08\n",
       "regionidcity                 -6.782e-09   1.17e-08     -0.579      0.562     -2.97e-08  1.62e-08\n",
       "propertyzoningdesc           -2.521e-06   1.29e-06     -1.947      0.051     -5.06e-06  1.63e-08\n",
       "propertycountylandusecode       -0.0002    7.9e-05     -2.111      0.035        -0.000 -1.19e-05\n",
       "poolsizesum                  -3.068e-05   1.05e-05     -2.936      0.003     -5.12e-05 -1.02e-05\n",
       "fireplacecnt                    -0.0013      0.002     -0.695      0.487        -0.005     0.002\n",
       "garagecarcnt                     0.0009      0.002      0.526      0.599        -0.002     0.004\n",
       "garagetotalsqft              -1.255e-05   5.51e-06     -2.277      0.023     -2.34e-05 -1.75e-06\n",
       "numberofstories                 -0.0016      0.002     -0.742      0.458        -0.006     0.003\n",
       "taxamount                     -3.41e-06   2.56e-07    -13.308      0.000     -3.91e-06 -2.91e-06\n",
       "taxvaluedollarcnt             4.135e-07   4.94e-08      8.373      0.000      3.17e-07   5.1e-07\n",
       "landtaxvaluedollarcnt        -3.858e-07   4.95e-08     -7.792      0.000     -4.83e-07 -2.89e-07\n",
       "structuretaxvaluedollarcnt   -3.701e-07   4.99e-08     -7.423      0.000     -4.68e-07 -2.72e-07\n",
       "airconditioningtypeid        -1.091e-05      0.000     -0.033      0.974        -0.001     0.001\n",
       "threequarterbathnbr              0.0280      0.015      1.871      0.061        -0.001     0.057\n",
       "heatingorsystemtypeid           -0.0008      0.000     -4.344      0.000        -0.001    -0.000\n",
       "hashottuborspa1                 -0.0147      0.004     -4.099      0.000        -0.022    -0.008\n",
       "taxdelinquencyflag1              0.0244      0.004      6.322      0.000         0.017     0.032\n",
       "==============================================================================\n",
       "Omnibus:                    66633.519   Durbin-Watson:                   1.971\n",
       "Prob(Omnibus):                  0.000   Jarque-Bera (JB):         65906674.194\n",
       "Skew:                           2.197   Prob(JB):                         0.00\n",
       "Kurtosis:                     135.296   Cond. No.                     3.84e+09\n",
       "==============================================================================\n",
       "\n",
       "Warnings:\n",
       "[1] Standard Errors assume that the covariance matrix of the errors is correctly specified.\n",
       "[2] The condition number is large, 3.84e+09. This might indicate that there are\n",
       "strong multicollinearity or other numerical problems.\n",
       "\"\"\""
      ]
     },
     "execution_count": 91,
     "metadata": {},
     "output_type": "execute_result"
    }
   ],
   "source": [
    "#OLS\n",
    "import statsmodels.api as sm\n",
    "Y=train['logerror']\n",
    "X=train_x11#.drop(['logerror'],axis=1)\n",
    "#X=sm.add_constant(X)\n",
    "\n",
    "model=sm.OLS(Y,X.astype(float))\n",
    "results=model.fit()\n",
    "results.summary()"
   ]
  },
  {
   "cell_type": "code",
   "execution_count": 96,
   "metadata": {
    "scrolled": true
   },
   "outputs": [],
   "source": [
    "train_x11['logerror']=train['logerror']"
   ]
  },
  {
   "cell_type": "code",
   "execution_count": 97,
   "metadata": {},
   "outputs": [],
   "source": [
    "train2, test2= train_test_split(train_x11, test_size=0.3, random_state=42)\n",
    "train_Y2=train2['logerror']\n",
    "train_X2=train2.drop(['logerror'],axis=1,inplace=False)\n",
    "test_Y2=test2['logerror']\n",
    "test_X2=test2.drop(['logerror'],axis=1,inplace=False)"
   ]
  },
  {
   "cell_type": "code",
   "execution_count": 100,
   "metadata": {},
   "outputs": [
    {
     "name": "stdout",
     "output_type": "stream",
     "text": [
      "mean squared error is 0.16175003793376636\n",
      "R square is 0.00553308743106\n"
     ]
    },
    {
     "data": {
      "text/plain": [
       "0.068626840556513025"
      ]
     },
     "execution_count": 100,
     "metadata": {},
     "output_type": "execute_result"
    }
   ],
   "source": [
    "reg2 = linear_model.Ridge (alpha=0.5, copy_X=True, fit_intercept=True, max_iter=None,\n",
    "      normalize=False, random_state=None, solver='auto', tol=0.001)\n",
    "reg2.fit (train_X2,train_Y2) \n",
    "reg_pred2 = reg2.predict(test_X2)\n",
    "rms4 = sqrt(mean_squared_error(test_Y2,reg_pred2))\n",
    "print('mean squared error is ' + str(rms4))\n",
    "#r2_score=r2_score(test_Y2,reg_pred2)\n",
    "print('R square is '+ str(r2_score))\n",
    "mean_absolute_error(test_Y2, reg_pred2)"
   ]
  },
  {
   "cell_type": "code",
   "execution_count": 101,
   "metadata": {},
   "outputs": [
    {
     "name": "stdout",
     "output_type": "stream",
     "text": [
      "[-0.01501365  0.00839278  0.01168789 ..., -0.00326264  0.19626699\n",
      "  0.02228498]\n",
      "Number of predictions: 27083\n",
      "MSE for Random Forest Model: 0.0260507666685\n"
     ]
    },
    {
     "data": {
      "text/plain": [
       "0.068447645352040218"
      ]
     },
     "execution_count": 101,
     "metadata": {},
     "output_type": "execute_result"
    }
   ],
   "source": [
    "clf2_2 = RandomForestRegressor(n_estimators=1000,max_depth=6, random_state=0,criterion='mse')\n",
    "clf2_2.fit(train_X2, train_Y2)\n",
    "\n",
    "modelPred2_2 = clf2_2.predict(test_X2)\n",
    "\n",
    "print(modelPred2_2)\n",
    "print(\"Number of predictions:\",len(modelPred2_2))\n",
    "\n",
    "meanSquaredError = mean_squared_error(test_Y2, modelPred2_2)\n",
    "\n",
    "print(\"MSE for Random Forest Model:\", meanSquaredError)\n",
    "mean_absolute_error(test_Y2, modelPred2_2)"
   ]
  },
  {
   "cell_type": "code",
   "execution_count": null,
   "metadata": {
    "collapsed": true
   },
   "outputs": [],
   "source": []
  },
  {
   "cell_type": "code",
   "execution_count": null,
   "metadata": {
    "collapsed": true
   },
   "outputs": [],
   "source": []
  },
  {
   "cell_type": "markdown",
   "metadata": {},
   "source": [
    "Step 3:"
   ]
  },
  {
   "cell_type": "code",
   "execution_count": 102,
   "metadata": {},
   "outputs": [
    {
     "data": {
      "image/png": "[encoded data removed]",
      "text/plain": [
       "<matplotlib.figure.Figure at 0x1119f42e8>"
      ]
     },
     "metadata": {},
     "output_type": "display_data"
    },
    {
     "data": {
      "text/plain": [
       "<matplotlib.figure.Figure at 0x14f96d4a8>"
      ]
     },
     "metadata": {},
     "output_type": "display_data"
    }
   ],
   "source": [
    "#feature importance\n",
    "train_y = train['logerror'].values\n",
    "train_df = train_x11.drop('logerror',axis=1)\n",
    "feat_names = train_df.columns.values\n",
    "\n",
    "from sklearn import ensemble\n",
    "model = ensemble.ExtraTreesRegressor(n_estimators=25, max_depth=30, max_features=0.3, n_jobs=-1, random_state=0)\n",
    "model.fit(train_df, train_y)\n",
    "\n",
    "importances = model.feature_importances_\n",
    "std = np.std([tree.feature_importances_ for tree in model.estimators_], axis=0)\n",
    "indices = np.argsort(importances)[::-1][:25]\n",
    "\n",
    "import matplotlib.pyplot as plt\n",
    "%matplotlib inline\n",
    "plt.figure(figsize=(12,12))\n",
    "plt.title(\"Feature importances\")\n",
    "plt.bar(range(len(indices)), importances[indices], color=\"g\", yerr=std[indices], align=\"center\")\n",
    "plt.xticks(range(len(indices)), feat_names[indices], rotation='vertical')\n",
    "plt.xlim([-1, len(indices)])\n",
    "plt.savefig(\"importance2.png\",dpi=400)\n",
    "plt.show()\n",
    "plt.draw()"
   ]
  },
  {
   "cell_type": "code",
   "execution_count": 103,
   "metadata": {},
   "outputs": [],
   "source": [
    "train_x12=train_x11[['taxamount','structuretaxvaluedollarcnt','landtaxvaluedollarcnt','taxvaluedollarcnt','lotsizesquarefeet','latitude','calculatedfinishedsquarefeet','yearbuilt','longitude','regionidneighborhood','propertyzoningdesc','bedroomcnt','regionidzip','rawcensustractandblock','bathroomcnt','buildingqualitytypeid','regionidcity','propertycountylandusecode','propertylandusetypeid','garagetotalsqft','roomcnt','unitcnt','heatingorsystemtypeid','garagecarcnt','fireplacecnt']]"
   ]
  },
  {
   "cell_type": "code",
   "execution_count": 104,
   "metadata": {
    "scrolled": true
   },
   "outputs": [
    {
     "data": {
      "text/html": [
       "<table class=\"simpletable\">\n",
       "<caption>OLS Regression Results</caption>\n",
       "<tr>\n",
       "  <th>Dep. Variable:</th>        <td>logerror</td>     <th>  R-squared:         </th>  <td>   0.005</td> \n",
       "</tr>\n",
       "<tr>\n",
       "  <th>Model:</th>                   <td>OLS</td>       <th>  Adj. R-squared:    </th>  <td>   0.005</td> \n",
       "</tr>\n",
       "<tr>\n",
       "  <th>Method:</th>             <td>Least Squares</td>  <th>  F-statistic:       </th>  <td>   20.79</td> \n",
       "</tr>\n",
       "<tr>\n",
       "  <th>Date:</th>             <td>Mon, 04 Dec 2017</td> <th>  Prob (F-statistic):</th>  <td>5.43e-90</td> \n",
       "</tr>\n",
       "<tr>\n",
       "  <th>Time:</th>                 <td>18:50:34</td>     <th>  Log-Likelihood:    </th>  <td>  36984.</td> \n",
       "</tr>\n",
       "<tr>\n",
       "  <th>No. Observations:</th>      <td> 90275</td>      <th>  AIC:               </th> <td>-7.392e+04</td>\n",
       "</tr>\n",
       "<tr>\n",
       "  <th>Df Residuals:</th>          <td> 90250</td>      <th>  BIC:               </th> <td>-7.368e+04</td>\n",
       "</tr>\n",
       "<tr>\n",
       "  <th>Df Model:</th>              <td>    24</td>      <th>                     </th>      <td> </td>    \n",
       "</tr>\n",
       "<tr>\n",
       "  <th>Covariance Type:</th>      <td>nonrobust</td>    <th>                     </th>      <td> </td>    \n",
       "</tr>\n",
       "</table>\n",
       "<table class=\"simpletable\">\n",
       "<tr>\n",
       "                <td></td>                  <th>coef</th>     <th>std err</th>      <th>t</th>      <th>P>|t|</th> <th>[95.0% Conf. Int.]</th> \n",
       "</tr>\n",
       "<tr>\n",
       "  <th>taxamount</th>                    <td>-3.327e-06</td> <td> 2.55e-07</td> <td>  -13.062</td> <td> 0.000</td> <td>-3.83e-06 -2.83e-06</td>\n",
       "</tr>\n",
       "<tr>\n",
       "  <th>structuretaxvaluedollarcnt</th>   <td>-3.735e-07</td> <td> 4.97e-08</td> <td>   -7.514</td> <td> 0.000</td> <td>-4.71e-07 -2.76e-07</td>\n",
       "</tr>\n",
       "<tr>\n",
       "  <th>landtaxvaluedollarcnt</th>        <td>-3.886e-07</td> <td> 4.94e-08</td> <td>   -7.867</td> <td> 0.000</td> <td>-4.85e-07 -2.92e-07</td>\n",
       "</tr>\n",
       "<tr>\n",
       "  <th>taxvaluedollarcnt</th>            <td> 4.154e-07</td> <td> 4.93e-08</td> <td>    8.433</td> <td> 0.000</td> <td> 3.19e-07  5.12e-07</td>\n",
       "</tr>\n",
       "<tr>\n",
       "  <th>lotsizesquarefeet</th>            <td> 7.719e-09</td> <td> 4.78e-09</td> <td>    1.615</td> <td> 0.106</td> <td>-1.65e-09  1.71e-08</td>\n",
       "</tr>\n",
       "<tr>\n",
       "  <th>latitude</th>                     <td>-1.557e-09</td> <td> 3.08e-09</td> <td>   -0.505</td> <td> 0.614</td> <td> -7.6e-09  4.49e-09</td>\n",
       "</tr>\n",
       "<tr>\n",
       "  <th>calculatedfinishedsquarefeet</th> <td> 1.098e-05</td> <td> 1.17e-06</td> <td>    9.372</td> <td> 0.000</td> <td> 8.68e-06  1.33e-05</td>\n",
       "</tr>\n",
       "<tr>\n",
       "  <th>yearbuilt</th>                    <td>-2.789e-05</td> <td> 4.95e-06</td> <td>   -5.637</td> <td> 0.000</td> <td>-3.76e-05 -1.82e-05</td>\n",
       "</tr>\n",
       "<tr>\n",
       "  <th>longitude</th>                    <td> 7.657e-09</td> <td>  2.8e-09</td> <td>    2.734</td> <td> 0.006</td> <td> 2.17e-09  1.31e-08</td>\n",
       "</tr>\n",
       "<tr>\n",
       "  <th>regionidneighborhood</th>         <td> 2.126e-09</td> <td> 2.31e-09</td> <td>    0.921</td> <td> 0.357</td> <td> -2.4e-09  6.65e-09</td>\n",
       "</tr>\n",
       "<tr>\n",
       "  <th>propertyzoningdesc</th>           <td>-3.092e-06</td> <td>  1.2e-06</td> <td>   -2.576</td> <td> 0.010</td> <td>-5.44e-06 -7.39e-07</td>\n",
       "</tr>\n",
       "<tr>\n",
       "  <th>bedroomcnt</th>                   <td>-7.726e-05</td> <td>    0.001</td> <td>   -0.109</td> <td> 0.913</td> <td>   -0.001     0.001</td>\n",
       "</tr>\n",
       "<tr>\n",
       "  <th>regionidzip</th>                  <td>-3.717e-07</td> <td> 1.47e-07</td> <td>   -2.533</td> <td> 0.011</td> <td>-6.59e-07 -8.41e-08</td>\n",
       "</tr>\n",
       "<tr>\n",
       "  <th>rawcensustractandblock</th>       <td> 1.624e-08</td> <td> 5.54e-09</td> <td>    2.930</td> <td> 0.003</td> <td> 5.38e-09  2.71e-08</td>\n",
       "</tr>\n",
       "<tr>\n",
       "  <th>bathroomcnt</th>                  <td>   -0.0011</td> <td>    0.001</td> <td>   -1.105</td> <td> 0.269</td> <td>   -0.003     0.001</td>\n",
       "</tr>\n",
       "<tr>\n",
       "  <th>buildingqualitytypeid</th>        <td>    0.0005</td> <td>    0.000</td> <td>    1.552</td> <td> 0.121</td> <td>   -0.000     0.001</td>\n",
       "</tr>\n",
       "<tr>\n",
       "  <th>regionidcity</th>                 <td>-9.536e-09</td> <td> 1.16e-08</td> <td>   -0.823</td> <td> 0.411</td> <td>-3.22e-08  1.32e-08</td>\n",
       "</tr>\n",
       "<tr>\n",
       "  <th>propertycountylandusecode</th>    <td>   -0.0002</td> <td> 5.76e-05</td> <td>   -2.909</td> <td> 0.004</td> <td>   -0.000 -5.46e-05</td>\n",
       "</tr>\n",
       "<tr>\n",
       "  <th>propertylandusetypeid</th>        <td>    0.0003</td> <td>    0.000</td> <td>    2.349</td> <td> 0.019</td> <td> 4.63e-05     0.001</td>\n",
       "</tr>\n",
       "<tr>\n",
       "  <th>garagetotalsqft</th>              <td>-1.612e-05</td> <td> 5.28e-06</td> <td>   -3.053</td> <td> 0.002</td> <td>-2.65e-05 -5.77e-06</td>\n",
       "</tr>\n",
       "<tr>\n",
       "  <th>roomcnt</th>                      <td>    0.0009</td> <td>    0.000</td> <td>    2.516</td> <td> 0.012</td> <td>    0.000     0.002</td>\n",
       "</tr>\n",
       "<tr>\n",
       "  <th>unitcnt</th>                      <td>   -0.0005</td> <td>    0.001</td> <td>   -0.898</td> <td> 0.369</td> <td>   -0.002     0.001</td>\n",
       "</tr>\n",
       "<tr>\n",
       "  <th>heatingorsystemtypeid</th>        <td>   -0.0008</td> <td>    0.000</td> <td>   -4.382</td> <td> 0.000</td> <td>   -0.001    -0.000</td>\n",
       "</tr>\n",
       "<tr>\n",
       "  <th>garagecarcnt</th>                 <td>    0.0012</td> <td>    0.002</td> <td>    0.720</td> <td> 0.472</td> <td>   -0.002     0.004</td>\n",
       "</tr>\n",
       "<tr>\n",
       "  <th>fireplacecnt</th>                 <td>   -0.0024</td> <td>    0.002</td> <td>   -1.339</td> <td> 0.181</td> <td>   -0.006     0.001</td>\n",
       "</tr>\n",
       "</table>\n",
       "<table class=\"simpletable\">\n",
       "<tr>\n",
       "  <th>Omnibus:</th>       <td>66669.632</td> <th>  Durbin-Watson:     </th>   <td>   1.970</td>  \n",
       "</tr>\n",
       "<tr>\n",
       "  <th>Prob(Omnibus):</th>  <td> 0.000</td>   <th>  Jarque-Bera (JB):  </th> <td>65786140.972</td>\n",
       "</tr>\n",
       "<tr>\n",
       "  <th>Skew:</th>           <td> 2.200</td>   <th>  Prob(JB):          </th>   <td>    0.00</td>  \n",
       "</tr>\n",
       "<tr>\n",
       "  <th>Kurtosis:</th>       <td>135.175</td>  <th>  Cond. No.          </th>   <td>4.71e+08</td>  \n",
       "</tr>\n",
       "</table>"
      ],
      "text/plain": [
       "<class 'statsmodels.iolib.summary.Summary'>\n",
       "\"\"\"\n",
       "                            OLS Regression Results                            \n",
       "==============================================================================\n",
       "Dep. Variable:               logerror   R-squared:                       0.005\n",
       "Model:                            OLS   Adj. R-squared:                  0.005\n",
       "Method:                 Least Squares   F-statistic:                     20.79\n",
       "Date:                Mon, 04 Dec 2017   Prob (F-statistic):           5.43e-90\n",
       "Time:                        18:50:34   Log-Likelihood:                 36984.\n",
       "No. Observations:               90275   AIC:                        -7.392e+04\n",
       "Df Residuals:                   90250   BIC:                        -7.368e+04\n",
       "Df Model:                          24                                         \n",
       "Covariance Type:            nonrobust                                         \n",
       "================================================================================================\n",
       "                                   coef    std err          t      P>|t|      [95.0% Conf. Int.]\n",
       "------------------------------------------------------------------------------------------------\n",
       "taxamount                    -3.327e-06   2.55e-07    -13.062      0.000     -3.83e-06 -2.83e-06\n",
       "structuretaxvaluedollarcnt   -3.735e-07   4.97e-08     -7.514      0.000     -4.71e-07 -2.76e-07\n",
       "landtaxvaluedollarcnt        -3.886e-07   4.94e-08     -7.867      0.000     -4.85e-07 -2.92e-07\n",
       "taxvaluedollarcnt             4.154e-07   4.93e-08      8.433      0.000      3.19e-07  5.12e-07\n",
       "lotsizesquarefeet             7.719e-09   4.78e-09      1.615      0.106     -1.65e-09  1.71e-08\n",
       "latitude                     -1.557e-09   3.08e-09     -0.505      0.614      -7.6e-09  4.49e-09\n",
       "calculatedfinishedsquarefeet  1.098e-05   1.17e-06      9.372      0.000      8.68e-06  1.33e-05\n",
       "yearbuilt                    -2.789e-05   4.95e-06     -5.637      0.000     -3.76e-05 -1.82e-05\n",
       "longitude                     7.657e-09    2.8e-09      2.734      0.006      2.17e-09  1.31e-08\n",
       "regionidneighborhood          2.126e-09   2.31e-09      0.921      0.357      -2.4e-09  6.65e-09\n",
       "propertyzoningdesc           -3.092e-06    1.2e-06     -2.576      0.010     -5.44e-06 -7.39e-07\n",
       "bedroomcnt                   -7.726e-05      0.001     -0.109      0.913        -0.001     0.001\n",
       "regionidzip                  -3.717e-07   1.47e-07     -2.533      0.011     -6.59e-07 -8.41e-08\n",
       "rawcensustractandblock        1.624e-08   5.54e-09      2.930      0.003      5.38e-09  2.71e-08\n",
       "bathroomcnt                     -0.0011      0.001     -1.105      0.269        -0.003     0.001\n",
       "buildingqualitytypeid            0.0005      0.000      1.552      0.121        -0.000     0.001\n",
       "regionidcity                 -9.536e-09   1.16e-08     -0.823      0.411     -3.22e-08  1.32e-08\n",
       "propertycountylandusecode       -0.0002   5.76e-05     -2.909      0.004        -0.000 -5.46e-05\n",
       "propertylandusetypeid            0.0003      0.000      2.349      0.019      4.63e-05     0.001\n",
       "garagetotalsqft              -1.612e-05   5.28e-06     -3.053      0.002     -2.65e-05 -5.77e-06\n",
       "roomcnt                          0.0009      0.000      2.516      0.012         0.000     0.002\n",
       "unitcnt                         -0.0005      0.001     -0.898      0.369        -0.002     0.001\n",
       "heatingorsystemtypeid           -0.0008      0.000     -4.382      0.000        -0.001    -0.000\n",
       "garagecarcnt                     0.0012      0.002      0.720      0.472        -0.002     0.004\n",
       "fireplacecnt                    -0.0024      0.002     -1.339      0.181        -0.006     0.001\n",
       "==============================================================================\n",
       "Omnibus:                    66669.632   Durbin-Watson:                   1.970\n",
       "Prob(Omnibus):                  0.000   Jarque-Bera (JB):         65786140.972\n",
       "Skew:                           2.200   Prob(JB):                         0.00\n",
       "Kurtosis:                     135.175   Cond. No.                     4.71e+08\n",
       "==============================================================================\n",
       "\n",
       "Warnings:\n",
       "[1] Standard Errors assume that the covariance matrix of the errors is correctly specified.\n",
       "[2] The condition number is large, 4.71e+08. This might indicate that there are\n",
       "strong multicollinearity or other numerical problems.\n",
       "\"\"\""
      ]
     },
     "execution_count": 104,
     "metadata": {},
     "output_type": "execute_result"
    }
   ],
   "source": [
    "#OLS\n",
    "import statsmodels.api as sm\n",
    "Y=train['logerror']\n",
    "X=train_x12#.drop(['logerror'],axis=1)\n",
    "#X=sm.add_constant(X)\n",
    "\n",
    "model=sm.OLS(Y,X.astype(float))\n",
    "results=model.fit()\n",
    "results.summary()"
   ]
  },
  {
   "cell_type": "code",
   "execution_count": 106,
   "metadata": {},
   "outputs": [
    {
     "name": "stderr",
     "output_type": "stream",
     "text": [
      "/Users/claire-lwz/anaconda/lib/python3.5/site-packages/ipykernel/__main__.py:1: SettingWithCopyWarning: \n",
      "A value is trying to be set on a copy of a slice from a DataFrame.\n",
      "Try using .loc[row_indexer,col_indexer] = value instead\n",
      "\n",
      "See the caveats in the documentation: http://pandas.pydata.org/pandas-docs/stable/indexing.html#indexing-view-versus-copy\n",
      "  if __name__ == '__main__':\n"
     ]
    }
   ],
   "source": [
    "train_x12['logerror']=train['logerror']\n",
    "train3, test3= train_test_split(train_x12, test_size=0.3, random_state=42)\n",
    "train_Y3=train3['logerror']\n",
    "train_X3=train3.drop(['logerror'],axis=1,inplace=False)\n",
    "test_Y3=test3['logerror']\n",
    "test_X3=test3.drop(['logerror'],axis=1,inplace=False)"
   ]
  },
  {
   "cell_type": "code",
   "execution_count": 107,
   "metadata": {},
   "outputs": [
    {
     "name": "stdout",
     "output_type": "stream",
     "text": [
      "mean squared error is 0.16177573503767467\n",
      "R square is 0.00553308743106\n"
     ]
    },
    {
     "data": {
      "text/plain": [
       "0.068630082244027488"
      ]
     },
     "execution_count": 107,
     "metadata": {},
     "output_type": "execute_result"
    }
   ],
   "source": [
    "reg3 = linear_model.Ridge (alpha=0.5, copy_X=True, fit_intercept=True, max_iter=None,\n",
    "      normalize=False, random_state=None, solver='auto', tol=0.001)\n",
    "reg3.fit (train_X3,train_Y3) \n",
    "reg_pred3 = reg3.predict(test_X3)\n",
    "rms4 = sqrt(mean_squared_error(test_Y3,reg_pred3))\n",
    "print('mean squared error is ' + str(rms4))\n",
    "#r2_score=r2_score(test_Y2,reg_pred2)\n",
    "print('R square is '+ str(r2_score))\n",
    "mean_absolute_error(test_Y3, reg_pred3)"
   ]
  },
  {
   "cell_type": "code",
   "execution_count": 142,
   "metadata": {},
   "outputs": [],
   "source": [
    "from sklearn.model_selection import cross_val_predict\n",
    "predicted = cross_val_predict(clf1, train_X3, train_Y3, cv=10)\n",
    "mean_absolute_error(train_Y5, predicted)"
   ]
  },
  {
   "cell_type": "code",
   "execution_count": 143,
   "metadata": {},
   "outputs": [
    {
     "data": {
      "text/plain": [
       "0.068238082580554638"
      ]
     },
     "execution_count": 143,
     "metadata": {},
     "output_type": "execute_result"
    }
   ],
   "source": [
    "mean_absolute_error(train_Y3, predicted)"
   ]
  },
  {
   "cell_type": "code",
   "execution_count": 109,
   "metadata": {},
   "outputs": [
    {
     "data": {
      "text/plain": [
       "0.068400138275340888"
      ]
     },
     "execution_count": 109,
     "metadata": {},
     "output_type": "execute_result"
    }
   ],
   "source": [
    "from sklearn.model_selection import cross_val_predict\n",
    "\n",
    "clf3_2 = RandomForestRegressor(n_estimators=500,max_depth=6, random_state=0,criterion='mse')\n",
    "\n",
    "predicted3_2 = cross_val_predict(clf3_2, train_X3, train_Y3, cv=10)\n",
    "mean_absolute_error(train_Y3, predicted3_2)"
   ]
  },
  {
   "cell_type": "code",
   "execution_count": null,
   "metadata": {
    "collapsed": true
   },
   "outputs": [],
   "source": []
  },
  {
   "cell_type": "code",
   "execution_count": null,
   "metadata": {
    "collapsed": true
   },
   "outputs": [],
   "source": []
  },
  {
   "cell_type": "code",
   "execution_count": null,
   "metadata": {
    "collapsed": true
   },
   "outputs": [],
   "source": []
  },
  {
   "cell_type": "markdown",
   "metadata": {},
   "source": [
    "Step 4:"
   ]
  },
  {
   "cell_type": "code",
   "execution_count": 110,
   "metadata": {
    "scrolled": true
   },
   "outputs": [
    {
     "data": {
      "text/html": [
       "<table class=\"simpletable\">\n",
       "<caption>OLS Regression Results</caption>\n",
       "<tr>\n",
       "  <th>Dep. Variable:</th>        <td>logerror</td>     <th>  R-squared:         </th>  <td>   0.006</td> \n",
       "</tr>\n",
       "<tr>\n",
       "  <th>Model:</th>                   <td>OLS</td>       <th>  Adj. R-squared:    </th>  <td>   0.006</td> \n",
       "</tr>\n",
       "<tr>\n",
       "  <th>Method:</th>             <td>Least Squares</td>  <th>  F-statistic:       </th>  <td>   17.76</td> \n",
       "</tr>\n",
       "<tr>\n",
       "  <th>Date:</th>             <td>Mon, 04 Dec 2017</td> <th>  Prob (F-statistic):</th>  <td>4.69e-99</td> \n",
       "</tr>\n",
       "<tr>\n",
       "  <th>Time:</th>                 <td>19:22:15</td>     <th>  Log-Likelihood:    </th>  <td>  37019.</td> \n",
       "</tr>\n",
       "<tr>\n",
       "  <th>No. Observations:</th>      <td> 90275</td>      <th>  AIC:               </th> <td>-7.397e+04</td>\n",
       "</tr>\n",
       "<tr>\n",
       "  <th>Df Residuals:</th>          <td> 90242</td>      <th>  BIC:               </th> <td>-7.366e+04</td>\n",
       "</tr>\n",
       "<tr>\n",
       "  <th>Df Model:</th>              <td>    32</td>      <th>                     </th>      <td> </td>    \n",
       "</tr>\n",
       "<tr>\n",
       "  <th>Covariance Type:</th>      <td>nonrobust</td>    <th>                     </th>      <td> </td>    \n",
       "</tr>\n",
       "</table>\n",
       "<table class=\"simpletable\">\n",
       "<tr>\n",
       "                <td></td>                  <th>coef</th>     <th>std err</th>      <th>t</th>      <th>P>|t|</th> <th>[95.0% Conf. Int.]</th> \n",
       "</tr>\n",
       "<tr>\n",
       "  <th>fips</th>                         <td>    0.0031</td> <td>    0.003</td> <td>    1.054</td> <td> 0.292</td> <td>   -0.003     0.009</td>\n",
       "</tr>\n",
       "<tr>\n",
       "  <th>bathroomcnt</th>                  <td>   -0.0009</td> <td>    0.001</td> <td>   -0.938</td> <td> 0.348</td> <td>   -0.003     0.001</td>\n",
       "</tr>\n",
       "<tr>\n",
       "  <th>bedroomcnt</th>                   <td>-8.597e-05</td> <td>    0.001</td> <td>   -0.120</td> <td> 0.904</td> <td>   -0.001     0.001</td>\n",
       "</tr>\n",
       "<tr>\n",
       "  <th>roomcnt</th>                      <td>    0.0009</td> <td>    0.000</td> <td>    2.256</td> <td> 0.024</td> <td>    0.000     0.002</td>\n",
       "</tr>\n",
       "<tr>\n",
       "  <th>unitcnt</th>                      <td>   -0.0006</td> <td>    0.001</td> <td>   -1.031</td> <td> 0.302</td> <td>   -0.002     0.001</td>\n",
       "</tr>\n",
       "<tr>\n",
       "  <th>latitude</th>                     <td>-9.581e-10</td> <td> 3.23e-09</td> <td>   -0.297</td> <td> 0.766</td> <td>-7.28e-09  5.36e-09</td>\n",
       "</tr>\n",
       "<tr>\n",
       "  <th>regionidcounty</th>               <td> 2.137e-07</td> <td> 2.96e-06</td> <td>    0.072</td> <td> 0.942</td> <td>-5.58e-06  6.01e-06</td>\n",
       "</tr>\n",
       "<tr>\n",
       "  <th>rawcensustractandblock</th>       <td>-2.952e-07</td> <td> 2.96e-07</td> <td>   -0.998</td> <td> 0.319</td> <td>-8.75e-07  2.85e-07</td>\n",
       "</tr>\n",
       "<tr>\n",
       "  <th>propertylandusetypeid</th>        <td>    0.0003</td> <td>    0.000</td> <td>    2.454</td> <td> 0.014</td> <td> 6.19e-05     0.001</td>\n",
       "</tr>\n",
       "<tr>\n",
       "  <th>longitude</th>                    <td> 8.341e-09</td> <td> 3.07e-09</td> <td>    2.718</td> <td> 0.007</td> <td> 2.33e-09  1.44e-08</td>\n",
       "</tr>\n",
       "<tr>\n",
       "  <th>buildingqualitytypeid</th>        <td>    0.0004</td> <td>    0.000</td> <td>    1.337</td> <td> 0.181</td> <td>   -0.000     0.001</td>\n",
       "</tr>\n",
       "<tr>\n",
       "  <th>lotsizesquarefeet</th>            <td> 8.241e-09</td> <td> 4.81e-09</td> <td>    1.714</td> <td> 0.087</td> <td>-1.18e-09  1.77e-08</td>\n",
       "</tr>\n",
       "<tr>\n",
       "  <th>yearbuilt</th>                    <td> -2.73e-05</td> <td> 4.95e-06</td> <td>   -5.512</td> <td> 0.000</td> <td> -3.7e-05 -1.76e-05</td>\n",
       "</tr>\n",
       "<tr>\n",
       "  <th>calculatedfinishedsquarefeet</th> <td> 1.129e-05</td> <td> 1.19e-06</td> <td>    9.481</td> <td> 0.000</td> <td> 8.95e-06  1.36e-05</td>\n",
       "</tr>\n",
       "<tr>\n",
       "  <th>regionidneighborhood</th>         <td> 2.161e-09</td> <td> 2.36e-09</td> <td>    0.915</td> <td> 0.360</td> <td>-2.47e-09  6.79e-09</td>\n",
       "</tr>\n",
       "<tr>\n",
       "  <th>regionidzip</th>                  <td>-3.797e-07</td> <td> 1.47e-07</td> <td>   -2.587</td> <td> 0.010</td> <td>-6.67e-07  -9.2e-08</td>\n",
       "</tr>\n",
       "<tr>\n",
       "  <th>regionidcity</th>                 <td>-6.782e-09</td> <td> 1.17e-08</td> <td>   -0.579</td> <td> 0.562</td> <td>-2.97e-08  1.62e-08</td>\n",
       "</tr>\n",
       "<tr>\n",
       "  <th>propertyzoningdesc</th>           <td>-2.521e-06</td> <td> 1.29e-06</td> <td>   -1.947</td> <td> 0.051</td> <td>-5.06e-06  1.63e-08</td>\n",
       "</tr>\n",
       "<tr>\n",
       "  <th>propertycountylandusecode</th>    <td>   -0.0002</td> <td>  7.9e-05</td> <td>   -2.111</td> <td> 0.035</td> <td>   -0.000 -1.19e-05</td>\n",
       "</tr>\n",
       "<tr>\n",
       "  <th>poolsizesum</th>                  <td>-3.068e-05</td> <td> 1.05e-05</td> <td>   -2.936</td> <td> 0.003</td> <td>-5.12e-05 -1.02e-05</td>\n",
       "</tr>\n",
       "<tr>\n",
       "  <th>fireplacecnt</th>                 <td>   -0.0013</td> <td>    0.002</td> <td>   -0.695</td> <td> 0.487</td> <td>   -0.005     0.002</td>\n",
       "</tr>\n",
       "<tr>\n",
       "  <th>garagecarcnt</th>                 <td>    0.0009</td> <td>    0.002</td> <td>    0.526</td> <td> 0.599</td> <td>   -0.002     0.004</td>\n",
       "</tr>\n",
       "<tr>\n",
       "  <th>garagetotalsqft</th>              <td>-1.255e-05</td> <td> 5.51e-06</td> <td>   -2.277</td> <td> 0.023</td> <td>-2.34e-05 -1.75e-06</td>\n",
       "</tr>\n",
       "<tr>\n",
       "  <th>numberofstories</th>              <td>   -0.0016</td> <td>    0.002</td> <td>   -0.742</td> <td> 0.458</td> <td>   -0.006     0.003</td>\n",
       "</tr>\n",
       "<tr>\n",
       "  <th>taxamount</th>                    <td> -3.41e-06</td> <td> 2.56e-07</td> <td>  -13.308</td> <td> 0.000</td> <td>-3.91e-06 -2.91e-06</td>\n",
       "</tr>\n",
       "<tr>\n",
       "  <th>taxvaluedollarcnt</th>            <td> 4.135e-07</td> <td> 4.94e-08</td> <td>    8.373</td> <td> 0.000</td> <td> 3.17e-07   5.1e-07</td>\n",
       "</tr>\n",
       "<tr>\n",
       "  <th>landtaxvaluedollarcnt</th>        <td>-3.858e-07</td> <td> 4.95e-08</td> <td>   -7.792</td> <td> 0.000</td> <td>-4.83e-07 -2.89e-07</td>\n",
       "</tr>\n",
       "<tr>\n",
       "  <th>structuretaxvaluedollarcnt</th>   <td>-3.701e-07</td> <td> 4.99e-08</td> <td>   -7.423</td> <td> 0.000</td> <td>-4.68e-07 -2.72e-07</td>\n",
       "</tr>\n",
       "<tr>\n",
       "  <th>airconditioningtypeid</th>        <td>-1.091e-05</td> <td>    0.000</td> <td>   -0.033</td> <td> 0.974</td> <td>   -0.001     0.001</td>\n",
       "</tr>\n",
       "<tr>\n",
       "  <th>threequarterbathnbr</th>          <td>    0.0280</td> <td>    0.015</td> <td>    1.871</td> <td> 0.061</td> <td>   -0.001     0.057</td>\n",
       "</tr>\n",
       "<tr>\n",
       "  <th>heatingorsystemtypeid</th>        <td>   -0.0008</td> <td>    0.000</td> <td>   -4.344</td> <td> 0.000</td> <td>   -0.001    -0.000</td>\n",
       "</tr>\n",
       "<tr>\n",
       "  <th>hashottuborspa1</th>              <td>   -0.0147</td> <td>    0.004</td> <td>   -4.099</td> <td> 0.000</td> <td>   -0.022    -0.008</td>\n",
       "</tr>\n",
       "<tr>\n",
       "  <th>taxdelinquencyflag1</th>          <td>    0.0244</td> <td>    0.004</td> <td>    6.322</td> <td> 0.000</td> <td>    0.017     0.032</td>\n",
       "</tr>\n",
       "</table>\n",
       "<table class=\"simpletable\">\n",
       "<tr>\n",
       "  <th>Omnibus:</th>       <td>66633.519</td> <th>  Durbin-Watson:     </th>   <td>   1.971</td>  \n",
       "</tr>\n",
       "<tr>\n",
       "  <th>Prob(Omnibus):</th>  <td> 0.000</td>   <th>  Jarque-Bera (JB):  </th> <td>65906674.194</td>\n",
       "</tr>\n",
       "<tr>\n",
       "  <th>Skew:</th>           <td> 2.197</td>   <th>  Prob(JB):          </th>   <td>    0.00</td>  \n",
       "</tr>\n",
       "<tr>\n",
       "  <th>Kurtosis:</th>       <td>135.296</td>  <th>  Cond. No.          </th>   <td>3.84e+09</td>  \n",
       "</tr>\n",
       "</table>"
      ],
      "text/plain": [
       "<class 'statsmodels.iolib.summary.Summary'>\n",
       "\"\"\"\n",
       "                            OLS Regression Results                            \n",
       "==============================================================================\n",
       "Dep. Variable:               logerror   R-squared:                       0.006\n",
       "Model:                            OLS   Adj. R-squared:                  0.006\n",
       "Method:                 Least Squares   F-statistic:                     17.76\n",
       "Date:                Mon, 04 Dec 2017   Prob (F-statistic):           4.69e-99\n",
       "Time:                        19:22:15   Log-Likelihood:                 37019.\n",
       "No. Observations:               90275   AIC:                        -7.397e+04\n",
       "Df Residuals:                   90242   BIC:                        -7.366e+04\n",
       "Df Model:                          32                                         \n",
       "Covariance Type:            nonrobust                                         \n",
       "================================================================================================\n",
       "                                   coef    std err          t      P>|t|      [95.0% Conf. Int.]\n",
       "------------------------------------------------------------------------------------------------\n",
       "fips                             0.0031      0.003      1.054      0.292        -0.003     0.009\n",
       "bathroomcnt                     -0.0009      0.001     -0.938      0.348        -0.003     0.001\n",
       "bedroomcnt                   -8.597e-05      0.001     -0.120      0.904        -0.001     0.001\n",
       "roomcnt                          0.0009      0.000      2.256      0.024         0.000     0.002\n",
       "unitcnt                         -0.0006      0.001     -1.031      0.302        -0.002     0.001\n",
       "latitude                     -9.581e-10   3.23e-09     -0.297      0.766     -7.28e-09  5.36e-09\n",
       "regionidcounty                2.137e-07   2.96e-06      0.072      0.942     -5.58e-06  6.01e-06\n",
       "rawcensustractandblock       -2.952e-07   2.96e-07     -0.998      0.319     -8.75e-07  2.85e-07\n",
       "propertylandusetypeid            0.0003      0.000      2.454      0.014      6.19e-05     0.001\n",
       "longitude                     8.341e-09   3.07e-09      2.718      0.007      2.33e-09  1.44e-08\n",
       "buildingqualitytypeid            0.0004      0.000      1.337      0.181        -0.000     0.001\n",
       "lotsizesquarefeet             8.241e-09   4.81e-09      1.714      0.087     -1.18e-09  1.77e-08\n",
       "yearbuilt                     -2.73e-05   4.95e-06     -5.512      0.000      -3.7e-05 -1.76e-05\n",
       "calculatedfinishedsquarefeet  1.129e-05   1.19e-06      9.481      0.000      8.95e-06  1.36e-05\n",
       "regionidneighborhood          2.161e-09   2.36e-09      0.915      0.360     -2.47e-09  6.79e-09\n",
       "regionidzip                  -3.797e-07   1.47e-07     -2.587      0.010     -6.67e-07  -9.2e-08\n",
       "regionidcity                 -6.782e-09   1.17e-08     -0.579      0.562     -2.97e-08  1.62e-08\n",
       "propertyzoningdesc           -2.521e-06   1.29e-06     -1.947      0.051     -5.06e-06  1.63e-08\n",
       "propertycountylandusecode       -0.0002    7.9e-05     -2.111      0.035        -0.000 -1.19e-05\n",
       "poolsizesum                  -3.068e-05   1.05e-05     -2.936      0.003     -5.12e-05 -1.02e-05\n",
       "fireplacecnt                    -0.0013      0.002     -0.695      0.487        -0.005     0.002\n",
       "garagecarcnt                     0.0009      0.002      0.526      0.599        -0.002     0.004\n",
       "garagetotalsqft              -1.255e-05   5.51e-06     -2.277      0.023     -2.34e-05 -1.75e-06\n",
       "numberofstories                 -0.0016      0.002     -0.742      0.458        -0.006     0.003\n",
       "taxamount                     -3.41e-06   2.56e-07    -13.308      0.000     -3.91e-06 -2.91e-06\n",
       "taxvaluedollarcnt             4.135e-07   4.94e-08      8.373      0.000      3.17e-07   5.1e-07\n",
       "landtaxvaluedollarcnt        -3.858e-07   4.95e-08     -7.792      0.000     -4.83e-07 -2.89e-07\n",
       "structuretaxvaluedollarcnt   -3.701e-07   4.99e-08     -7.423      0.000     -4.68e-07 -2.72e-07\n",
       "airconditioningtypeid        -1.091e-05      0.000     -0.033      0.974        -0.001     0.001\n",
       "threequarterbathnbr              0.0280      0.015      1.871      0.061        -0.001     0.057\n",
       "heatingorsystemtypeid           -0.0008      0.000     -4.344      0.000        -0.001    -0.000\n",
       "hashottuborspa1                 -0.0147      0.004     -4.099      0.000        -0.022    -0.008\n",
       "taxdelinquencyflag1              0.0244      0.004      6.322      0.000         0.017     0.032\n",
       "==============================================================================\n",
       "Omnibus:                    66633.519   Durbin-Watson:                   1.971\n",
       "Prob(Omnibus):                  0.000   Jarque-Bera (JB):         65906674.194\n",
       "Skew:                           2.197   Prob(JB):                         0.00\n",
       "Kurtosis:                     135.296   Cond. No.                     3.84e+09\n",
       "==============================================================================\n",
       "\n",
       "Warnings:\n",
       "[1] Standard Errors assume that the covariance matrix of the errors is correctly specified.\n",
       "[2] The condition number is large, 3.84e+09. This might indicate that there are\n",
       "strong multicollinearity or other numerical problems.\n",
       "\"\"\""
      ]
     },
     "execution_count": 110,
     "metadata": {},
     "output_type": "execute_result"
    }
   ],
   "source": [
    "#OLS\n",
    "import statsmodels.api as sm\n",
    "Y=train['logerror']\n",
    "X=train_x11.drop(['logerror'],axis=1)\n",
    "#X=sm.add_constant(X)\n",
    "\n",
    "model=sm.OLS(Y,X.astype(float))\n",
    "results=model.fit()\n",
    "results.summary()"
   ]
  },
  {
   "cell_type": "code",
   "execution_count": 111,
   "metadata": {
    "collapsed": true
   },
   "outputs": [],
   "source": [
    "from statsmodels.stats.outliers_influence import variance_inflation_factor    \n",
    "\n",
    "def calculate_vif_(X, thresh=5.0):\n",
    "    labels = []\n",
    "    cols=[col for col in train_x10.columns if train_x10[col].dtype=='float64' if col not in ['logerror']]\n",
    "    for col in cols:\n",
    "        labels.append(col)\n",
    "        \n",
    "    dropped=True\n",
    "    while dropped:\n",
    "        dropped=False\n",
    "        vif = [variance_inflation_factor(X[labels].values, ix) for ix in range(X[labels].shape[1])]\n",
    "\n",
    "        maxloc = vif.index(max(vif))\n",
    "        if max(vif) > thresh:\n",
    "            print('dropping \\'' + X[labels].columns[maxloc] + '\\' at index: ' + str(maxloc))\n",
    "            del labels[maxloc]\n",
    "            dropped=True"
   ]
  },
  {
   "cell_type": "code",
   "execution_count": 112,
   "metadata": {},
   "outputs": [
    {
     "name": "stdout",
     "output_type": "stream",
     "text": [
      "dropping 'longitude' at index: 9\n",
      "dropping 'rawcensustractandblock' at index: 7\n",
      "dropping 'fips' at index: 0\n",
      "dropping 'latitude' at index: 4\n",
      "dropping 'taxvaluedollarcnt' at index: 21\n",
      "dropping 'propertylandusetypeid' at index: 5\n",
      "dropping 'threequarterbathnbr' at index: 23\n",
      "dropping 'regionidzip' at index: 10\n",
      "dropping 'yearbuilt' at index: 7\n",
      "dropping 'regionidcounty' at index: 4\n",
      "dropping 'taxamount' at index: 16\n",
      "dropping 'bathroomcnt' at index: 0\n",
      "dropping 'calculatedfinishedsquarefeet' at index: 5\n",
      "dropping 'numberofstories' at index: 13\n",
      "dropping 'garagecarcnt' at index: 11\n",
      "dropping 'bedroomcnt' at index: 0\n",
      "dropping 'propertycountylandusecode' at index: 7\n"
     ]
    }
   ],
   "source": [
    "calculate_vif_(X, thresh=5.0)"
   ]
  },
  {
   "cell_type": "code",
   "execution_count": 113,
   "metadata": {},
   "outputs": [],
   "source": [
    "X2=train_x11.drop(['longitude','rawcensustractandblock','fips','latitude','taxvaluedollarcnt','propertylandusetypeid','threequarterbathnbr','regionidzip','yearbuilt','regionidcounty','calculatedfinishedsquarefeet','taxamount','bathroomcnt','numberofstories','garagecarcnt','bedroomcnt','propertycountylandusecode'],axis=1)"
   ]
  },
  {
   "cell_type": "code",
   "execution_count": 114,
   "metadata": {
    "scrolled": true
   },
   "outputs": [
    {
     "data": {
      "text/html": [
       "<table class=\"simpletable\">\n",
       "<caption>OLS Regression Results</caption>\n",
       "<tr>\n",
       "  <th>Dep. Variable:</th>        <td>logerror</td>     <th>  R-squared:         </th>  <td>   0.007</td> \n",
       "</tr>\n",
       "<tr>\n",
       "  <th>Model:</th>                   <td>OLS</td>       <th>  Adj. R-squared:    </th>  <td>   0.007</td> \n",
       "</tr>\n",
       "<tr>\n",
       "  <th>Method:</th>             <td>Least Squares</td>  <th>  F-statistic:       </th>  <td>   38.15</td> \n",
       "</tr>\n",
       "<tr>\n",
       "  <th>Date:</th>             <td>Mon, 04 Dec 2017</td> <th>  Prob (F-statistic):</th>  <td>3.79e-119</td>\n",
       "</tr>\n",
       "<tr>\n",
       "  <th>Time:</th>                 <td>19:25:06</td>     <th>  Log-Likelihood:    </th>  <td>  36812.</td> \n",
       "</tr>\n",
       "<tr>\n",
       "  <th>No. Observations:</th>      <td> 90275</td>      <th>  AIC:               </th> <td>-7.359e+04</td>\n",
       "</tr>\n",
       "<tr>\n",
       "  <th>Df Residuals:</th>          <td> 90259</td>      <th>  BIC:               </th> <td>-7.344e+04</td>\n",
       "</tr>\n",
       "<tr>\n",
       "  <th>Df Model:</th>              <td>    16</td>      <th>                     </th>      <td> </td>    \n",
       "</tr>\n",
       "<tr>\n",
       "  <th>Covariance Type:</th>      <td>nonrobust</td>    <th>                     </th>      <td> </td>    \n",
       "</tr>\n",
       "</table>\n",
       "<table class=\"simpletable\">\n",
       "<tr>\n",
       "               <td></td>                 <th>coef</th>     <th>std err</th>      <th>t</th>      <th>P>|t|</th> <th>[95.0% Conf. Int.]</th> \n",
       "</tr>\n",
       "<tr>\n",
       "  <th>roomcnt</th>                    <td>    0.0007</td> <td>    0.000</td> <td>    2.090</td> <td> 0.037</td> <td> 4.28e-05     0.001</td>\n",
       "</tr>\n",
       "<tr>\n",
       "  <th>unitcnt</th>                    <td>-3.528e-06</td> <td>    0.000</td> <td>   -0.008</td> <td> 0.994</td> <td>   -0.001     0.001</td>\n",
       "</tr>\n",
       "<tr>\n",
       "  <th>buildingqualitytypeid</th>      <td>    0.0011</td> <td>    0.000</td> <td>    5.199</td> <td> 0.000</td> <td>    0.001     0.002</td>\n",
       "</tr>\n",
       "<tr>\n",
       "  <th>lotsizesquarefeet</th>          <td> 8.057e-09</td> <td> 4.65e-09</td> <td>    1.733</td> <td> 0.083</td> <td>-1.06e-09  1.72e-08</td>\n",
       "</tr>\n",
       "<tr>\n",
       "  <th>regionidneighborhood</th>       <td> 7.159e-09</td> <td> 1.99e-09</td> <td>    3.597</td> <td> 0.000</td> <td> 3.26e-09  1.11e-08</td>\n",
       "</tr>\n",
       "<tr>\n",
       "  <th>regionidcity</th>               <td> 2.827e-09</td> <td> 1.15e-08</td> <td>    0.246</td> <td> 0.805</td> <td>-1.97e-08  2.53e-08</td>\n",
       "</tr>\n",
       "<tr>\n",
       "  <th>propertyzoningdesc</th>         <td> 2.222e-07</td> <td> 1.05e-06</td> <td>    0.211</td> <td> 0.833</td> <td>-1.84e-06  2.29e-06</td>\n",
       "</tr>\n",
       "<tr>\n",
       "  <th>poolsizesum</th>                <td>-2.284e-05</td> <td> 1.03e-05</td> <td>   -2.216</td> <td> 0.027</td> <td> -4.3e-05 -2.64e-06</td>\n",
       "</tr>\n",
       "<tr>\n",
       "  <th>fireplacecnt</th>               <td>    0.0010</td> <td>    0.002</td> <td>    0.539</td> <td> 0.590</td> <td>   -0.003     0.005</td>\n",
       "</tr>\n",
       "<tr>\n",
       "  <th>garagetotalsqft</th>            <td> 2.576e-07</td> <td> 3.86e-06</td> <td>    0.067</td> <td> 0.947</td> <td>-7.31e-06  7.82e-06</td>\n",
       "</tr>\n",
       "<tr>\n",
       "  <th>landtaxvaluedollarcnt</th>      <td>-1.072e-08</td> <td> 1.72e-09</td> <td>   -6.246</td> <td> 0.000</td> <td>-1.41e-08 -7.36e-09</td>\n",
       "</tr>\n",
       "<tr>\n",
       "  <th>structuretaxvaluedollarcnt</th> <td> 3.383e-08</td> <td> 3.37e-09</td> <td>   10.045</td> <td> 0.000</td> <td> 2.72e-08  4.04e-08</td>\n",
       "</tr>\n",
       "<tr>\n",
       "  <th>airconditioningtypeid</th>      <td>    0.0003</td> <td>    0.000</td> <td>    0.943</td> <td> 0.346</td> <td>   -0.000     0.001</td>\n",
       "</tr>\n",
       "<tr>\n",
       "  <th>heatingorsystemtypeid</th>      <td>   -0.0007</td> <td>    0.000</td> <td>   -3.990</td> <td> 0.000</td> <td>   -0.001    -0.000</td>\n",
       "</tr>\n",
       "<tr>\n",
       "  <th>hashottuborspa1</th>            <td>   -0.0107</td> <td>    0.004</td> <td>   -2.992</td> <td> 0.003</td> <td>   -0.018    -0.004</td>\n",
       "</tr>\n",
       "<tr>\n",
       "  <th>taxdelinquencyflag1</th>        <td>    0.0236</td> <td>    0.004</td> <td>    6.123</td> <td> 0.000</td> <td>    0.016     0.031</td>\n",
       "</tr>\n",
       "</table>\n",
       "<table class=\"simpletable\">\n",
       "<tr>\n",
       "  <th>Omnibus:</th>       <td>66037.822</td> <th>  Durbin-Watson:     </th>   <td>   1.970</td>  \n",
       "</tr>\n",
       "<tr>\n",
       "  <th>Prob(Omnibus):</th>  <td> 0.000</td>   <th>  Jarque-Bera (JB):  </th> <td>64671486.962</td>\n",
       "</tr>\n",
       "<tr>\n",
       "  <th>Skew:</th>           <td> 2.161</td>   <th>  Prob(JB):          </th>   <td>    0.00</td>  \n",
       "</tr>\n",
       "<tr>\n",
       "  <th>Kurtosis:</th>       <td>134.052</td>  <th>  Cond. No.          </th>   <td>4.23e+06</td>  \n",
       "</tr>\n",
       "</table>"
      ],
      "text/plain": [
       "<class 'statsmodels.iolib.summary.Summary'>\n",
       "\"\"\"\n",
       "                            OLS Regression Results                            \n",
       "==============================================================================\n",
       "Dep. Variable:               logerror   R-squared:                       0.007\n",
       "Model:                            OLS   Adj. R-squared:                  0.007\n",
       "Method:                 Least Squares   F-statistic:                     38.15\n",
       "Date:                Mon, 04 Dec 2017   Prob (F-statistic):          3.79e-119\n",
       "Time:                        19:25:06   Log-Likelihood:                 36812.\n",
       "No. Observations:               90275   AIC:                        -7.359e+04\n",
       "Df Residuals:                   90259   BIC:                        -7.344e+04\n",
       "Df Model:                          16                                         \n",
       "Covariance Type:            nonrobust                                         \n",
       "==============================================================================================\n",
       "                                 coef    std err          t      P>|t|      [95.0% Conf. Int.]\n",
       "----------------------------------------------------------------------------------------------\n",
       "roomcnt                        0.0007      0.000      2.090      0.037      4.28e-05     0.001\n",
       "unitcnt                    -3.528e-06      0.000     -0.008      0.994        -0.001     0.001\n",
       "buildingqualitytypeid          0.0011      0.000      5.199      0.000         0.001     0.002\n",
       "lotsizesquarefeet           8.057e-09   4.65e-09      1.733      0.083     -1.06e-09  1.72e-08\n",
       "regionidneighborhood        7.159e-09   1.99e-09      3.597      0.000      3.26e-09  1.11e-08\n",
       "regionidcity                2.827e-09   1.15e-08      0.246      0.805     -1.97e-08  2.53e-08\n",
       "propertyzoningdesc          2.222e-07   1.05e-06      0.211      0.833     -1.84e-06  2.29e-06\n",
       "poolsizesum                -2.284e-05   1.03e-05     -2.216      0.027      -4.3e-05 -2.64e-06\n",
       "fireplacecnt                   0.0010      0.002      0.539      0.590        -0.003     0.005\n",
       "garagetotalsqft             2.576e-07   3.86e-06      0.067      0.947     -7.31e-06  7.82e-06\n",
       "landtaxvaluedollarcnt      -1.072e-08   1.72e-09     -6.246      0.000     -1.41e-08 -7.36e-09\n",
       "structuretaxvaluedollarcnt  3.383e-08   3.37e-09     10.045      0.000      2.72e-08  4.04e-08\n",
       "airconditioningtypeid          0.0003      0.000      0.943      0.346        -0.000     0.001\n",
       "heatingorsystemtypeid         -0.0007      0.000     -3.990      0.000        -0.001    -0.000\n",
       "hashottuborspa1               -0.0107      0.004     -2.992      0.003        -0.018    -0.004\n",
       "taxdelinquencyflag1            0.0236      0.004      6.123      0.000         0.016     0.031\n",
       "==============================================================================\n",
       "Omnibus:                    66037.822   Durbin-Watson:                   1.970\n",
       "Prob(Omnibus):                  0.000   Jarque-Bera (JB):         64671486.962\n",
       "Skew:                           2.161   Prob(JB):                         0.00\n",
       "Kurtosis:                     134.052   Cond. No.                     4.23e+06\n",
       "==============================================================================\n",
       "\n",
       "Warnings:\n",
       "[1] Standard Errors assume that the covariance matrix of the errors is correctly specified.\n",
       "[2] The condition number is large, 4.23e+06. This might indicate that there are\n",
       "strong multicollinearity or other numerical problems.\n",
       "\"\"\""
      ]
     },
     "execution_count": 114,
     "metadata": {},
     "output_type": "execute_result"
    }
   ],
   "source": [
    "Y2=train['logerror']\n",
    "X2=X2.drop('logerror',axis=1)\n",
    "model=sm.OLS(Y2,X2.astype(float))\n",
    "results=model.fit()\n",
    "results.summary()"
   ]
  },
  {
   "cell_type": "code",
   "execution_count": 107,
   "metadata": {
    "collapsed": true
   },
   "outputs": [],
   "source": [
    "#X3=X2.drop(['unitcnt','regionidcity','garagetotalsqft','propertyzoningdesc','airconditioningtypeid'],axis=1)"
   ]
  },
  {
   "cell_type": "code",
   "execution_count": 115,
   "metadata": {
    "collapsed": true
   },
   "outputs": [],
   "source": [
    "X2['logerror']=train['logerror']\n",
    "#data=X.drop(['const'],axis=1,inplace=False)\n",
    "\n",
    "from sklearn.model_selection import train_test_split\n",
    "train4, test4= train_test_split(X2, test_size=0.3, random_state=42)\n",
    "train_Y4=train4['logerror']\n",
    "train_X4=train4.drop(['logerror'],axis=1,inplace=False)\n",
    "test_Y4=test4['logerror']\n",
    "test_X4=test4.drop(['logerror'],axis=1,inplace=False)"
   ]
  },
  {
   "cell_type": "code",
   "execution_count": 116,
   "metadata": {},
   "outputs": [
    {
     "name": "stdout",
     "output_type": "stream",
     "text": [
      "mean squared error is 0.16202510292764596\n",
      "R square is 0.00553308743106\n"
     ]
    },
    {
     "data": {
      "text/plain": [
       "0.068670940135364372"
      ]
     },
     "execution_count": 116,
     "metadata": {},
     "output_type": "execute_result"
    }
   ],
   "source": [
    "reg4 = linear_model.Ridge (alpha=0.5, copy_X=True, fit_intercept=True, max_iter=None,\n",
    "      normalize=False, random_state=None, solver='auto', tol=0.001)\n",
    "reg4.fit (train_X4,train_Y4) \n",
    "reg_pred4 = reg4.predict(test_X4)\n",
    "rms4 = sqrt(mean_squared_error(test_Y4,reg_pred4))\n",
    "print('mean squared error is ' + str(rms4))\n",
    "#r2_score=r2_score(test_Y2,reg_pred2)\n",
    "print('R square is '+ str(r2_score))\n",
    "mean_absolute_error(test_Y4, reg_pred4)"
   ]
  },
  {
   "cell_type": "code",
   "execution_count": 121,
   "metadata": {},
   "outputs": [
    {
     "name": "stdout",
     "output_type": "stream",
     "text": [
      "MSE: 0.0264\n"
     ]
    },
    {
     "data": {
      "text/plain": [
       "0.06865742127612838"
      ]
     },
     "execution_count": 121,
     "metadata": {},
     "output_type": "execute_result"
    }
   ],
   "source": [
    "from sklearn.ensemble import RandomForestClassifier\n",
    "from sklearn.datasets import make_classification\n",
    "from sklearn.ensemble import RandomForestRegressor\n",
    "from sklearn.metrics import mean_squared_error\n",
    "from sklearn.metrics import mean_absolute_error\n",
    "\n",
    "from sklearn import ensemble\n",
    "\n",
    "params = {'n_estimators': 350, 'max_depth': 5,\n",
    "          'learning_rate': 0.001}\n",
    "clf1 = ensemble.GradientBoostingRegressor(**params)\n",
    "\n",
    "clf1.fit(train_X4, train_Y4)\n",
    "mse = mean_squared_error(test_Y4, clf1.predict(test_X4))\n",
    "print(\"MSE: %.4f\" % mse)\n",
    "mean_absolute_error(test_Y4, clf1.predict(test_X4))\n",
    "mean_absolute_error(test_Y4, clf1.predict(test_X4))"
   ]
  },
  {
   "cell_type": "code",
   "execution_count": 118,
   "metadata": {},
   "outputs": [
    {
     "name": "stdout",
     "output_type": "stream",
     "text": [
      "[ 0.01513043  0.01024663  0.00931701 ...,  0.01486935  0.05846892\n",
      "  0.01458843]\n",
      "Number of predictions: 27083\n",
      "MSE for Random Forest Model: 0.0263629302793\n"
     ]
    },
    {
     "data": {
      "text/plain": [
       "0.068680209552716642"
      ]
     },
     "execution_count": 118,
     "metadata": {},
     "output_type": "execute_result"
    }
   ],
   "source": [
    "#random forest\n",
    "clf4_2 = RandomForestRegressor(n_estimators=500,max_depth=6, random_state=0,criterion='mse')\n",
    "clf4_2.fit(train_X4, train_Y4)\n",
    "\n",
    "modelPred4_2 = clf4_2.predict(test_X4)\n",
    "\n",
    "print(modelPred4_2)\n",
    "print(\"Number of predictions:\",len(modelPred4_2))\n",
    "\n",
    "meanSquaredError = mean_squared_error(test_Y4, modelPred4_2)\n",
    "\n",
    "print(\"MSE for Random Forest Model:\", meanSquaredError)\n",
    "mean_absolute_error(test_Y4, modelPred4_2)"
   ]
  },
  {
   "cell_type": "code",
   "execution_count": 119,
   "metadata": {},
   "outputs": [
    {
     "data": {
      "text/plain": [
       "0.068563398743475487"
      ]
     },
     "execution_count": 119,
     "metadata": {},
     "output_type": "execute_result"
    }
   ],
   "source": [
    "predicted4_2 = cross_val_predict(clf4_2, train_X4, train_Y4, cv=10)\n",
    "mean_absolute_error(train_Y4, predicted4_2)"
   ]
  },
  {
   "cell_type": "code",
   "execution_count": null,
   "metadata": {
    "collapsed": true
   },
   "outputs": [],
   "source": []
  },
  {
   "cell_type": "markdown",
   "metadata": {},
   "source": [
    "STEP 5:"
   ]
  },
  {
   "cell_type": "code",
   "execution_count": 120,
   "metadata": {},
   "outputs": [],
   "source": [
    "X3=X2.drop(['unitcnt','regionidcity','garagetotalsqft','propertyzoningdesc','airconditioningtypeid'],axis=1)"
   ]
  },
  {
   "cell_type": "code",
   "execution_count": 121,
   "metadata": {
    "collapsed": true
   },
   "outputs": [],
   "source": [
    "X3['logerror']=train['logerror']\n",
    "#data=X.drop(['const'],axis=1,inplace=False)\n",
    "\n",
    "train5, test5= train_test_split(X3, test_size=0.3, random_state=42)\n",
    "train_Y5=train5['logerror']\n",
    "train_X5=train5.drop(['logerror'],axis=1,inplace=False)\n",
    "test_Y5=test5['logerror']\n",
    "test_X5=test5.drop(['logerror'],axis=1,inplace=False)"
   ]
  },
  {
   "cell_type": "code",
   "execution_count": 122,
   "metadata": {},
   "outputs": [
    {
     "name": "stdout",
     "output_type": "stream",
     "text": [
      "mean squared error is 0.16202493463554024\n",
      "R square is 0.00553308743106\n"
     ]
    },
    {
     "data": {
      "text/plain": [
       "0.068669787747156194"
      ]
     },
     "execution_count": 122,
     "metadata": {},
     "output_type": "execute_result"
    }
   ],
   "source": [
    "reg5 = linear_model.Ridge (alpha=0.5, copy_X=True, fit_intercept=True, max_iter=None,\n",
    "      normalize=False, random_state=None, solver='auto', tol=0.001)\n",
    "reg5.fit (train_X5,train_Y5) \n",
    "reg_pred5 = reg5.predict(test_X5)\n",
    "rms4 = sqrt(mean_squared_error(test_Y5,reg_pred5))\n",
    "print('mean squared error is ' + str(rms4))\n",
    "#r2_score=r2_score(test_Y2,reg_pred2)\n",
    "print('R square is '+ str(r2_score))\n",
    "mean_absolute_error(test_Y5, reg_pred5)"
   ]
  },
  {
   "cell_type": "code",
   "execution_count": 123,
   "metadata": {},
   "outputs": [
    {
     "data": {
      "text/plain": [
       "0.068526206942574108"
      ]
     },
     "execution_count": 123,
     "metadata": {},
     "output_type": "execute_result"
    }
   ],
   "source": [
    "predicted5_1 = cross_val_predict(reg5, train_X5, train_Y5, cv=10)\n",
    "mean_absolute_error(train_Y5, predicted5_1)"
   ]
  },
  {
   "cell_type": "code",
   "execution_count": 124,
   "metadata": {
    "scrolled": true
   },
   "outputs": [
    {
     "data": {
      "text/plain": [
       "RandomForestRegressor(bootstrap=True, criterion='mse', max_depth=6,\n",
       "           max_features='auto', max_leaf_nodes=None,\n",
       "           min_impurity_split=1e-07, min_samples_leaf=1,\n",
       "           min_samples_split=2, min_weight_fraction_leaf=0.0,\n",
       "           n_estimators=500, n_jobs=1, oob_score=False, random_state=0,\n",
       "           verbose=0, warm_start=False)"
      ]
     },
     "execution_count": 124,
     "metadata": {},
     "output_type": "execute_result"
    }
   ],
   "source": [
    "clf5_2 = RandomForestRegressor(n_estimators=500,max_depth=6, random_state=0,criterion='mse')\n",
    "clf5_2.fit(train_X5, train_Y5)\n",
    "\n",
    "#modelPred = clf2.predict(test_X5)\n",
    "\n",
    "#print(modelPred)\n",
    "#print(\"Number of predictions:\",len(modelPred))\n",
    "\n",
    "#meanSquaredError = mean_squared_error(test_Y5, modelPred)\n",
    "\n",
    "#print(\"MSE for Random Forest Model:\", meanSquaredError)\n",
    "#mean_absolute_error(test_Y5, modelPred)"
   ]
  },
  {
   "cell_type": "code",
   "execution_count": 125,
   "metadata": {
    "collapsed": true
   },
   "outputs": [],
   "source": [
    "from sklearn.model_selection import cross_val_predict\n",
    "predicted5_2 = cross_val_predict(clf5_2, train_X5, train_Y5, cv=10)"
   ]
  },
  {
   "cell_type": "code",
   "execution_count": 126,
   "metadata": {},
   "outputs": [
    {
     "data": {
      "text/plain": [
       "0.068528707511955597"
      ]
     },
     "execution_count": 126,
     "metadata": {},
     "output_type": "execute_result"
    }
   ],
   "source": [
    "mean_absolute_error(train_Y5, predicted5_2)"
   ]
  },
  {
   "cell_type": "code",
   "execution_count": null,
   "metadata": {
    "collapsed": true
   },
   "outputs": [],
   "source": []
  },
  {
   "cell_type": "code",
   "execution_count": null,
   "metadata": {
    "collapsed": true
   },
   "outputs": [],
   "source": []
  },
  {
   "cell_type": "markdown",
   "metadata": {},
   "source": [
    "Step 6 :"
   ]
  },
  {
   "cell_type": "code",
   "execution_count": 127,
   "metadata": {},
   "outputs": [],
   "source": [
    "params = {'n_estimators': 350, 'max_depth': 5,\n",
    "          'learning_rate': 0.001}\n",
    "clf6 = ensemble.GradientBoostingRegressor(**params)\n",
    "clf6.fit(train_X3, train_Y3)\n",
    "predictedGBR=clf6.predict(test_X3)"
   ]
  },
  {
   "cell_type": "code",
   "execution_count": 129,
   "metadata": {},
   "outputs": [
    {
     "data": {
      "text/plain": [
       "0.068258314186005115"
      ]
     },
     "execution_count": 129,
     "metadata": {},
     "output_type": "execute_result"
    }
   ],
   "source": [
    "predicted6_1 = cross_val_predict(clf6, train_X3, train_Y3, cv=10)\n",
    "mean_absolute_error(train_Y3, predicted6_1)"
   ]
  },
  {
   "cell_type": "code",
   "execution_count": 130,
   "metadata": {
    "collapsed": true
   },
   "outputs": [],
   "source": [
    "clf6_2 = RandomForestRegressor(n_estimators=200,max_depth=3, random_state=0,criterion='mse')\n",
    "clf6_2.fit(train_X3, train_Y3)\n",
    "predictedRF=clf6_2.predict(test_X3)"
   ]
  },
  {
   "cell_type": "code",
   "execution_count": 133,
   "metadata": {
    "scrolled": true
   },
   "outputs": [
    {
     "data": {
      "text/plain": [
       "0.068356844361816174"
      ]
     },
     "execution_count": 133,
     "metadata": {},
     "output_type": "execute_result"
    }
   ],
   "source": [
    "predicted6_2 = cross_val_predict(clf6_2, train_X3, train_Y3, cv=10)\n",
    "mean_absolute_error(train_Y3, predicted6_2)"
   ]
  },
  {
   "cell_type": "code",
   "execution_count": 131,
   "metadata": {
    "collapsed": true
   },
   "outputs": [],
   "source": [
    "clf6_3= linear_model.Ridge (alpha=0.5, copy_X=True, fit_intercept=True, max_iter=None,\n",
    "      normalize=False, random_state=None, solver='auto', tol=0.001)\n",
    "clf6_3.fit(train_X3,train_Y3)\n",
    "predictedRge=clf6_3.predict(test_X3)"
   ]
  },
  {
   "cell_type": "code",
   "execution_count": 134,
   "metadata": {},
   "outputs": [
    {
     "data": {
      "text/plain": [
       "0.068469260970156251"
      ]
     },
     "execution_count": 134,
     "metadata": {},
     "output_type": "execute_result"
    }
   ],
   "source": [
    "predicted6_3 = cross_val_predict(clf6_3, train_X3, train_Y3, cv=10)\n",
    "mean_absolute_error(train_Y3, predicted6_3)"
   ]
  },
  {
   "cell_type": "code",
   "execution_count": 135,
   "metadata": {},
   "outputs": [
    {
     "data": {
      "text/plain": [
       "VotingClassifier(estimators=[('lr', GradientBoostingRegressor(alpha=0.9, criterion='friedman_mse', init=None,\n",
       "             learning_rate=0.001, loss='ls', max_depth=7,\n",
       "             max_features=None, max_leaf_nodes=None,\n",
       "             min_impurity_split=1e-07, min_samples_leaf=1,\n",
       "             min_samples_split=2, min...it_intercept=True, max_iter=None,\n",
       "   normalize=False, random_state=None, solver='auto', tol=0.001))],\n",
       "         n_jobs=1, voting='hard', weights=[3, 2, 1])"
      ]
     },
     "execution_count": 135,
     "metadata": {},
     "output_type": "execute_result"
    }
   ],
   "source": [
    "from sklearn.ensemble import VotingClassifier\n",
    "\n",
    "\n",
    "params = {'n_estimators': 350, 'max_depth': 7,\n",
    "          'learning_rate': 0.001}\n",
    "clf1 = ensemble.GradientBoostingRegressor(**params)\n",
    "\n",
    "clf2 = RandomForestRegressor(n_estimators=200,max_depth=3, random_state=0,criterion='mse')\n",
    "clf3= linear_model.Ridge (alpha=0.5, copy_X=True, fit_intercept=True, max_iter=None,\n",
    "      normalize=False, random_state=None, solver='auto', tol=0.001)\n",
    "\n",
    "eclf = VotingClassifier(estimators=[('lr', clf1), ('rf', clf2), ('gnb', clf3)], voting='hard',weights=[3,2,1])\n",
    "eclf.fit(train_X3, train_Y3)"
   ]
  },
  {
   "cell_type": "code",
   "execution_count": null,
   "metadata": {},
   "outputs": [],
   "source": [
    "predicted = cross_val_predict(eclf, train_X3, train_Y3, cv=10)\n",
    "mean_absolute_error(train_Y3, predicted)"
   ]
  },
  {
   "cell_type": "code",
   "execution_count": null,
   "metadata": {
    "collapsed": true
   },
   "outputs": [],
   "source": []
  }
 ],
 "metadata": {
  "anaconda-cloud": {},
  "kernelspec": {
   "display_name": "Python 3",
   "language": "python",
   "name": "python3"
  },
  "language_info": {
   "codemirror_mode": {
    "name": "ipython",
    "version": 3
   },
   "file_extension": ".py",
   "mimetype": "text/x-python",
   "name": "python",
   "nbconvert_exporter": "python",
   "pygments_lexer": "ipython3",
   "version": "3.6.1"
  }
 },
 "nbformat": 4,
 "nbformat_minor": 1
}
